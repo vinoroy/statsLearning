{
 "cells": [
  {
   "cell_type": "markdown",
   "metadata": {},
   "source": [
    "## Vincent Roy\n",
    "**ID : 119244546**\n"
   ]
  },
  {
   "cell_type": "code",
   "execution_count": 3,
   "metadata": {},
   "outputs": [],
   "source": [
    "# import all of the required libraries for the assignnement\n",
    "import numpy as np\n",
    "import pandas as pd\n",
    "import matplotlib.pyplot as plt\n",
    "import scipy.stats  as stats\n",
    "import math\n",
    "import random\n",
    "\n",
    "%matplotlib inline"
   ]
  },
  {
   "cell_type": "markdown",
   "metadata": {},
   "source": [
    "# Assignment 1\n",
    "### General Instructions\n",
    "  + The Python standard library is not enough to solve these questions. You will need to import appropriate libraries for each task. Generally, you might import and use any library you wish unless otherwise stated. \n",
    "  + Where detail instructions like variable or function names, required libraries, and etc are not given by the question, feel free to do it the way you would like to.\n",
    "  + After each question, add the needed number of new cells and place your answers inside the cells. \n",
    "  + When you are required to explain or answer in text format open a Markdown cell and enter your answer in it.\n",
    "  + Do not remove or modify the original cells provided by the instructor.\n",
    "  + In the following cell you are provided with some extra possibilities, like colors RED, OKBLUE, or text styles like BOLD or UNDERLINE that you can use to produce text in the output of your codes. For example, to output text in red you can type the following code: \n",
    "  ```python\n",
    "     print(bcolors.RED + \"your text\" + bcolors.ENDC)\n",
    "  ```\n",
    "  + Comment your code whenever needed using # sign at the beginning of the row.\n",
    "  + For the last question you may need to do some online research since not all the details needed are provided in the question. This especially helps you develop some search skills for coding in Python which is inevitable due to the inconsistent syntax of Python.\n",
    "  + Do not hesitate to communicate your questions to the TA's or instructors. Good luck!  \n",
    "  "
   ]
  },
  {
   "cell_type": "code",
   "execution_count": null,
   "metadata": {},
   "outputs": [],
   "source": [
    "# The following piece of code gives the opportunity to show multiple outputs\n",
    "# in one cell:\n",
    "from IPython.core.interactiveshell import InteractiveShell\n",
    "InteractiveShell.ast_node_interactivity = \"all\"\n",
    "\n",
    "# Colorful outputs\n",
    "class bcolors:\n",
    "    RED       = '\\033[91m'\n",
    "    OKBLUE    = '\\033[94m'\n",
    "    BOLD      = '\\033[1m'\n",
    "    UNDERLINE = '\\033[4m'\n",
    "    ENDC      = '\\033[0m'"
   ]
  },
  {
   "cell_type": "markdown",
   "metadata": {},
   "source": [
    "## Question 1\n",
    "Write a piece of program that takes as input $2$ lists called `list1` and `list2`. `list1` contains $5$ first names (strings) and `list2` has $3$ first names. `list1` and `list2` may or may not have common names. Then, it returns a third list called `set_difference` which contains those names in `list1` that are not in `list2`.\n",
    "\n",
    "**Example**\n",
    "\n",
    "list1 = $\\{\\mbox{John, Michael, Vanessa, Ahmed, Tiffany}\\}$ <br>\n",
    "list2 = $\\{\\mbox{Cyrus, Vanessa}\\}$ <br>\n",
    "Expected Output : $\\{\\mbox{John, Michael, Ahmed, Tiffany}\\}$\n",
    "\n"
   ]
  },
  {
   "cell_type": "markdown",
   "metadata": {},
   "source": [
    "#### Answer 1"
   ]
  },
  {
   "cell_type": "code",
   "execution_count": null,
   "metadata": {},
   "outputs": [],
   "source": [
    "# define the two lists\n",
    "list1 = ['John', 'Michael','Vanessa','Ahmed','Tiffany']\n",
    "list2 = ['Cyrus','Vanessa']"
   ]
  },
  {
   "cell_type": "code",
   "execution_count": null,
   "metadata": {},
   "outputs": [],
   "source": [
    "def difference(list1,list2):\n",
    "    \"\"\"\n",
    "    This function takes to lists as arguments and then identifes the names in list1 that are noy in list2\n",
    "    \"\"\"\n",
    "    \n",
    "    # result list\n",
    "    result = []\n",
    "    \n",
    "    # for each element in list1 verify if it is not in list 2 and if so add to the result\n",
    "    for value in list1:\n",
    "        if value not in list2:\n",
    "            result.append(value)\n",
    "    \n",
    "    return result\n",
    "    "
   ]
  },
  {
   "cell_type": "code",
   "execution_count": null,
   "metadata": {},
   "outputs": [],
   "source": [
    "set_difference = difference(list1,list2)\n",
    "print('The unique elements of list1 with respect to list2 are : '+ str(set_difference))"
   ]
  },
  {
   "cell_type": "markdown",
   "metadata": {},
   "source": [
    "## Question 2\n",
    "Write a Python **function** that takes two **positive integers** and returns their **greatest common divisor**. In case you pass a negative integer to the function it must return the following string: \n",
    "     <span style=\"color:red\"> \"This function takes only positive integers!\" </span>"
   ]
  },
  {
   "cell_type": "markdown",
   "metadata": {},
   "source": [
    "#### Answer 2"
   ]
  },
  {
   "cell_type": "code",
   "execution_count": null,
   "metadata": {},
   "outputs": [],
   "source": [
    "def greatDiv(a, b):\n",
    "    \"\"\"\n",
    "    This function claculates the greatest comon divisor according to Euclid's algorithm which is a recursive algorithm\n",
    "    \"\"\"\n",
    "    \n",
    "    if b == 0:\n",
    "        return a\n",
    "    \n",
    "    # call recursively the function with one of the inputs as the modulo of a to b\n",
    "    else:\n",
    "        return greatDiv(b, a % b)"
   ]
  },
  {
   "cell_type": "code",
   "execution_count": null,
   "metadata": {},
   "outputs": [],
   "source": [
    "print('The greatest common divisor of 24 and 9 is : ' + str(greatDiv(24,9)))"
   ]
  },
  {
   "cell_type": "markdown",
   "metadata": {},
   "source": [
    "## Question 3\n",
    "Write a function that prints all the prime numbers in the interval $[0,p]$, where $p$ is a parameter to be         passed to the function. "
   ]
  },
  {
   "cell_type": "markdown",
   "metadata": {},
   "source": [
    "#### Answer 3"
   ]
  },
  {
   "cell_type": "code",
   "execution_count": null,
   "metadata": {},
   "outputs": [],
   "source": [
    "def isPrime(number):\n",
    "    \"\"\"\n",
    "    This function identifies if the number is a prime number\n",
    "    \"\"\"\n",
    "    \n",
    "    # for every number from 2 to the number passed into the function check to see if there is a remainder\n",
    "    for i in range(2,number):\n",
    "        \n",
    "        # if one of the numbers when divided by are passed in number has no remainder then the number is not prime\n",
    "        if ((number%i)==0):\n",
    "            \n",
    "\n",
    "            return False\n",
    "        \n",
    "        else:\n",
    "            \n",
    "            pass\n",
    "\n",
    "    # if all numbers have no remainder with the passed in value then we have identified the prime number\n",
    "    return True\n",
    "\n",
    "\n",
    "def primeNumbers(p):\n",
    "    \"\"\"\n",
    "    This function scans all of the numbers from 2 to p and checks to see if it is prime. If it is a prime number then\n",
    "    it is added to the result list of prime numbers\n",
    "    \"\"\"\n",
    "    \n",
    "    result = []\n",
    "    \n",
    "    # scan all the numbers from 2 to p to see if it is a prime number\n",
    "    for number in range(2,p+1):\n",
    "        \n",
    "        if isPrime(number):\n",
    "            \n",
    "            result.append(number)\n",
    "            \n",
    "    return result\n",
    "    \n",
    "    "
   ]
  },
  {
   "cell_type": "code",
   "execution_count": null,
   "metadata": {},
   "outputs": [],
   "source": [
    "print('The following is the list of prime numbers from o to 45')\n",
    "print(primeNumbers(45))"
   ]
  },
  {
   "cell_type": "markdown",
   "metadata": {},
   "source": [
    "## Question 4\n",
    "  1. Set seed by the initial value $1231$ and define the following variables (Python objects) with the shown assigned values:\n",
    "    + `size` $\\longleftarrow 1000$,\n",
    "    + `n` $\\longleftarrow 700$,\n",
    "    + `p` $\\longleftarrow 0.3$\n",
    "  2. Randomly generate `size` number of itegers in $(0,200)$ and save them as `col1`.\n",
    "  3. Randomly generate `size` number of values according to $\\mbox{Unif}[0,1]$ and call it `col2`.\n",
    "  4. Randomly generate `2*size` numbers from $\\mbox{Binom}($ `n`,`p` $)$ and randomly select `size` number of them\n",
    "     and save as `col3`.\n",
    "  5. Define the following functions \n",
    "    + $\\texttt{funct1}(x)= \\ln x$\n",
    "    + $\\texttt{funct2}(x)= \\frac{10 \\exp(x)}{1+\\exp(x)}$\n",
    "    + $\\texttt{funct3}(x)= \\frac{350}{100\\sqrt{2\\pi}}.\\exp{\\left(-\\frac{x^2}{20000}\\right)}$\n",
    "  6. Define \n",
    "    + `col4`$=\\texttt{funct1}($ `col1` $)$,\n",
    "    + `col5`$=\\texttt{funct2}($ `col2` $)$, and \n",
    "    + `col6`$=\\texttt{funct3}($ `col3` $)$;\n",
    "  7. Randomly generate `size` number of genders from the set $\\{\\mbox{Female, Male}\\}$ and save them as `col7`.\n",
    "  8. Construct a **data frame** with $7$ columns `col1` to `col7` and call it `mydata`.\n",
    "  8. Describe the dataset using the descriptive statistics discussed in the class.\n",
    "  9. Use the appropriate visualisation tool to visualize each variable in the dataset.\n",
    "  10. Using **loops** scatterplot every pair of columns versus each other if appropriate.\n",
    "  "
   ]
  },
  {
   "cell_type": "markdown",
   "metadata": {},
   "source": [
    "#### Answer 4-1"
   ]
  },
  {
   "cell_type": "code",
   "execution_count": null,
   "metadata": {},
   "outputs": [],
   "source": [
    "random.seed(1231)\n",
    "\n",
    "size = 1000\n",
    "n = 700\n",
    "p = 0.3"
   ]
  },
  {
   "cell_type": "markdown",
   "metadata": {},
   "source": [
    "#### Answer 4-2\n",
    "\n",
    "Note that I changed the value range 1 to 200, since a 0 will cause probles with natural log calculations"
   ]
  },
  {
   "cell_type": "code",
   "execution_count": null,
   "metadata": {},
   "outputs": [],
   "source": [
    "# generate array of length size with random integers from 0 to 200 as a numpy array\n",
    "col1 = np.array([random.randint(1,200) for x in range(size)])"
   ]
  },
  {
   "cell_type": "markdown",
   "metadata": {},
   "source": [
    "#### Answer 4-3"
   ]
  },
  {
   "cell_type": "code",
   "execution_count": null,
   "metadata": {},
   "outputs": [],
   "source": [
    "# generate array of length size with floats from 0 to 1 as numpy array\n",
    "col2 = np.array([random.uniform(0,1) for x in range(size)])"
   ]
  },
  {
   "cell_type": "markdown",
   "metadata": {},
   "source": [
    "#### Answer 4-4"
   ]
  },
  {
   "cell_type": "code",
   "execution_count": null,
   "metadata": {},
   "outputs": [],
   "source": [
    "# genrate array of length size*2 with number from a binomial distribution with parameter n amd p as numpy array\n",
    "temp = stats.binom.rvs(n=n,p=p,size=size*2)\n",
    "\n",
    "col3 = np.random.choice(a=temp,size=size) "
   ]
  },
  {
   "cell_type": "markdown",
   "metadata": {},
   "source": [
    "#### Answer 4-5"
   ]
  },
  {
   "cell_type": "code",
   "execution_count": null,
   "metadata": {},
   "outputs": [],
   "source": [
    "def funct1(vector):\n",
    "    \"\"\"\n",
    "    Function that returns the natural log of an array\n",
    "    \"\"\"\n",
    "\n",
    "    result = np.log(vector) \n",
    "    \n",
    "    return result\n",
    "\n",
    "def funct2(vector):\n",
    "    \"\"\"\n",
    "    Function that returns 10*exp(x)/(1+exp(x))\n",
    "    \"\"\"\n",
    "    \n",
    "    result = (10*np.exp(vector))/(1+np.exp(vector))\n",
    "    \n",
    "    return result\n",
    "\n",
    "\n",
    "def funct3(vector):\n",
    "    \"\"\"\n",
    "    Function that returns 350/(100*2pi**0.5)*exp(-x**2/2000)\n",
    "    \"\"\"\n",
    "    \n",
    "    result = (350/(100*math.sqrt(2*math.pi)))*np.exp(-1*np.power(vector,2)/2000)\n",
    "    \n",
    "    return result\n"
   ]
  },
  {
   "cell_type": "markdown",
   "metadata": {},
   "source": [
    "#### Answer 4-6"
   ]
  },
  {
   "cell_type": "code",
   "execution_count": null,
   "metadata": {},
   "outputs": [],
   "source": [
    "col4 = funct1(col1)\n",
    "\n",
    "col5 = funct2(col2)\n",
    "\n",
    "col6 = funct3(col3)"
   ]
  },
  {
   "cell_type": "markdown",
   "metadata": {},
   "source": [
    "#### Answer 4-7"
   ]
  },
  {
   "cell_type": "code",
   "execution_count": null,
   "metadata": {},
   "outputs": [],
   "source": [
    "col7 = np.array([random.choice(['Female','Male']) for x in range(size)])"
   ]
  },
  {
   "cell_type": "markdown",
   "metadata": {},
   "source": [
    "#### Answer 4-8"
   ]
  },
  {
   "cell_type": "code",
   "execution_count": null,
   "metadata": {},
   "outputs": [],
   "source": [
    "mydata = pd.DataFrame({'col1':col1,'col2':col2,'col3':col3,'col4':col4,'col5':col5,'col6':col6,'col7':col7})\n",
    "mydata.head()\n"
   ]
  },
  {
   "cell_type": "markdown",
   "metadata": {},
   "source": [
    "#### Answer 4-9"
   ]
  },
  {
   "cell_type": "code",
   "execution_count": null,
   "metadata": {},
   "outputs": [],
   "source": [
    "# mean of each column\n",
    "mydata.mean(axis=0)"
   ]
  },
  {
   "cell_type": "code",
   "execution_count": null,
   "metadata": {},
   "outputs": [],
   "source": [
    "# standard deviation of each column\n",
    "mydata.std(axis=0)"
   ]
  },
  {
   "cell_type": "code",
   "execution_count": null,
   "metadata": {},
   "outputs": [],
   "source": [
    "# minimum of each column\n",
    "mydata.min(axis=0)"
   ]
  },
  {
   "cell_type": "code",
   "execution_count": null,
   "metadata": {},
   "outputs": [],
   "source": [
    "# maximum of each column\n",
    "mydata.max(axis=0)"
   ]
  },
  {
   "cell_type": "markdown",
   "metadata": {},
   "source": [
    "#### Answer 4-10"
   ]
  },
  {
   "cell_type": "markdown",
   "metadata": {},
   "source": [
    "##### Histogram and boxplot for **col1**"
   ]
  },
  {
   "cell_type": "code",
   "execution_count": null,
   "metadata": {},
   "outputs": [],
   "source": [
    "plt.hist(mydata['col1'])\n",
    "plt.title('col1')\n",
    "plt.ylabel('frequency');"
   ]
  },
  {
   "cell_type": "code",
   "execution_count": null,
   "metadata": {},
   "outputs": [],
   "source": [
    "plt.boxplot(mydata['col1']);"
   ]
  },
  {
   "cell_type": "markdown",
   "metadata": {},
   "source": [
    "##### Histogram and boxplot for **col2**"
   ]
  },
  {
   "cell_type": "code",
   "execution_count": null,
   "metadata": {},
   "outputs": [],
   "source": [
    "plt.hist(mydata['col2'])\n",
    "plt.title('col2')\n",
    "plt.ylabel('frequency');"
   ]
  },
  {
   "cell_type": "code",
   "execution_count": null,
   "metadata": {},
   "outputs": [],
   "source": [
    "plt.boxplot(mydata['col2']);"
   ]
  },
  {
   "cell_type": "markdown",
   "metadata": {},
   "source": [
    "##### Histogram and boxplot for **col3**"
   ]
  },
  {
   "cell_type": "code",
   "execution_count": null,
   "metadata": {},
   "outputs": [],
   "source": [
    "plt.hist(mydata['col3'])\n",
    "plt.title('col3')\n",
    "plt.ylabel('frequency');"
   ]
  },
  {
   "cell_type": "code",
   "execution_count": null,
   "metadata": {},
   "outputs": [],
   "source": [
    "plt.boxplot(mydata['col3']);"
   ]
  },
  {
   "cell_type": "markdown",
   "metadata": {},
   "source": [
    "##### Histogram and boxplot for **col4**"
   ]
  },
  {
   "cell_type": "code",
   "execution_count": null,
   "metadata": {},
   "outputs": [],
   "source": [
    "plt.hist(mydata['col4'])\n",
    "plt.title('col4')\n",
    "plt.ylabel('frequency');"
   ]
  },
  {
   "cell_type": "code",
   "execution_count": null,
   "metadata": {},
   "outputs": [],
   "source": [
    "plt.boxplot(mydata['col4']);"
   ]
  },
  {
   "cell_type": "markdown",
   "metadata": {},
   "source": [
    "##### Histogram and boxplot for **col5**"
   ]
  },
  {
   "cell_type": "code",
   "execution_count": null,
   "metadata": {},
   "outputs": [],
   "source": [
    "plt.hist(mydata['col5'])\n",
    "plt.title('col5')\n",
    "plt.ylabel('frequency');"
   ]
  },
  {
   "cell_type": "code",
   "execution_count": null,
   "metadata": {},
   "outputs": [],
   "source": [
    "plt.boxplot(mydata['col5']);"
   ]
  },
  {
   "cell_type": "markdown",
   "metadata": {},
   "source": [
    "##### Histogram and boxplot for **col6**"
   ]
  },
  {
   "cell_type": "code",
   "execution_count": null,
   "metadata": {},
   "outputs": [],
   "source": [
    "plt.hist(mydata['col6'])\n",
    "plt.title('col6')\n",
    "plt.ylabel('frequency');"
   ]
  },
  {
   "cell_type": "code",
   "execution_count": null,
   "metadata": {},
   "outputs": [],
   "source": [
    "plt.boxplot(mydata['col6']);"
   ]
  },
  {
   "cell_type": "markdown",
   "metadata": {},
   "source": [
    "##### Histogram for **col7**"
   ]
  },
  {
   "cell_type": "code",
   "execution_count": null,
   "metadata": {},
   "outputs": [],
   "source": [
    "mydata['col7'].value_counts().plot(kind='bar')"
   ]
  },
  {
   "cell_type": "markdown",
   "metadata": {},
   "source": [
    "#### Answer 4-11"
   ]
  },
  {
   "cell_type": "code",
   "execution_count": null,
   "metadata": {},
   "outputs": [],
   "source": [
    "# matrix scatterplot of all the columns\n",
    "pd.plotting.scatter_matrix(mydata, alpha=0.2, figsize=(9, 9), diagonal='kde');"
   ]
  },
  {
   "cell_type": "markdown",
   "metadata": {},
   "source": [
    "## Question 5\n",
    "  1. Assume that $X\\sim N(\\mu,\\sigma^2)$ with $\\mu=55, \\sigma=15$. Randomly generate a set of $1000,000$ values for $X$              according to the given distribution and call it set $D$.\n",
    "  2. Pretend that $D$ is your whole population. Choose a sample of $1000$ values from $D$. \n",
    "  3. Plot an approximate density distribution function using the selected sample. \n",
    "  3. Using a loop repeat the second step $30$ times. For each sample estimate the population mean and save each estimate. Calculate the *mean squared error* of your estimated means.\n",
    "  4. Plot the histogram of all $30$ saved sample means (**Only sample means**). According to the histogram, what is the *sampling distribution* of the mean?\n",
    "  5. If instead of $500$ times, we resample over and over for a large number of times, how does the sample mean change?"
   ]
  },
  {
   "cell_type": "markdown",
   "metadata": {},
   "source": [
    "#### Answer 5-1\n",
    "\n",
    "Generate 1000000 values from the normal distribution"
   ]
  },
  {
   "cell_type": "code",
   "execution_count": null,
   "metadata": {},
   "outputs": [],
   "source": [
    "D = stats.norm.rvs(loc=55,scale=15,size=1000000)"
   ]
  },
  {
   "cell_type": "markdown",
   "metadata": {},
   "source": [
    "#### Answer 5-2\n",
    "\n",
    "Randomly select from the whole population D 1000 points"
   ]
  },
  {
   "cell_type": "code",
   "execution_count": null,
   "metadata": {},
   "outputs": [],
   "source": [
    "sample = np.random.choice(a=D,size=1000)"
   ]
  },
  {
   "cell_type": "markdown",
   "metadata": {},
   "source": [
    "#### Answer 5-3\n",
    "\n",
    "Plot the distribution of the sample"
   ]
  },
  {
   "cell_type": "code",
   "execution_count": null,
   "metadata": {},
   "outputs": [],
   "source": [
    "plot = pd.DataFrame(sample).plot(kind=\"density\",figsize=(4,3),xlim=(0,100))"
   ]
  },
  {
   "cell_type": "markdown",
   "metadata": {},
   "source": [
    "#### Answer 5-4\n",
    "\n",
    "The following code repeats the sampling process 30 times. Each time the mean and added to a vector of means.\n",
    "The mean square error is calaculated for all of the sample means\n"
   ]
  },
  {
   "cell_type": "code",
   "execution_count": null,
   "metadata": {},
   "outputs": [],
   "source": [
    "means = []\n",
    "\n",
    "mse = 0\n",
    "\n",
    "numberSamples = 30\n",
    "\n",
    "for i in range(numberSamples):\n",
    "    sample = np.random.choice(a=D,size=1000)\n",
    "    \n",
    "    sample_mean = sample.mean()\n",
    "    \n",
    "    means.append(sample_mean)\n",
    "    \n",
    "    mse = mse + (55 - sample_mean)**2\n",
    "\n",
    "\n",
    "tempMean= np.array(means).mean()\n",
    "print('The mean of the sample ' + str(tempMean))    \n",
    "    \n",
    "mse = mse/numberSamples\n",
    "print('The MSE is '+str(mse))\n",
    "\n",
    "\n"
   ]
  },
  {
   "cell_type": "markdown",
   "metadata": {},
   "source": [
    "#### Answer 5-5\n",
    "\n",
    "Histogram plot of all the smaple means\n",
    "\n",
    "The distribution is normal (ie gaussian)\n",
    "\n",
    "We can see from the plot that the mean of the sample is close to the actual mean of the distribution."
   ]
  },
  {
   "cell_type": "code",
   "execution_count": null,
   "metadata": {},
   "outputs": [],
   "source": [
    "hist = pd.DataFrame(means).hist(bins=30,range=(52,57),figsize=(6,4))"
   ]
  },
  {
   "cell_type": "markdown",
   "metadata": {},
   "source": [
    "#### Answer 5-6\n",
    "\n",
    "I assumed here that you meant 30 times and not 500.\n",
    "\n",
    "If we sample for lets say 10000 times it is observed that the MSE approches a constant value. That is that the MSE reduces when we increase the number of iterations. For around 1000 iterations we obtan a steady value around 0.2272 for the MSE.\n",
    "\n",
    "The mean therefore approached the actual mean of 55 of the distubution"
   ]
  },
  {
   "cell_type": "markdown",
   "metadata": {},
   "source": [
    "## Question 6\n",
    "Suppose that we would like to model the event of flipping a coin for $15$ times. If the probability of getting heads equals $0.6$, then answer the following questions. <br>\n",
    "<span style=\"color:red\"> **Do not forget to include your codes.**</span>  \n",
    "  1. Which distribution is it and what are the parameters of the distribution? Is it a discrete or continuous distribution?\n",
    "  2. What is the probability of obtaining $10$ heads? Explain how to calculate it.\n",
    "  3. What is the probability of getting more than or equal to $10$ heads? What about less than or equal to $10$\n",
    "     head? What should be the summation of these two probabilities and why?\n",
    "  4. Find the expected value of obtained number of heads in each trial? (**Each trial consists of $15$ tosses**)\n",
    "  5. How probable is it to get (H,H,H,T,T,H,T,T,H,T,H,H,H,T,H)?\n",
    "  6. Find the first, second, and the third quantiles.\n",
    "  7. Repeat the trial $10$ times and estimate the mean each time. Using `pandas.crosstab` build the frequency table of the results. Plot the histogram of these ten estimates. \n",
    "  8. Now, gradually increase the number of trials from $100$ to $1000$. (start from $100$ and add $50$ each time to reach $1000$.) Plot the histogram for the sample mean each time. How does the sampling distribun of mean is changing?\n",
    "  \n",
    "   "
   ]
  },
  {
   "cell_type": "markdown",
   "metadata": {},
   "source": [
    "#### Answer 6-1\n",
    "\n",
    "It is a binomial distribution and the parameters are n = 15 and p = 0.6 (ie P(X=H) = 0.6 and P(X=T) = 0.4)\n",
    "It is a discrete distribution"
   ]
  },
  {
   "attachments": {
    "image.png": {
     "image/png": "[encoded data removed]"
    }
   },
   "cell_type": "markdown",
   "metadata": {},
   "source": [
    "#### Answer 6-2\n",
    "\n",
    "The probability of getting exactly 10 heads P(X=10) is given by the pmf function below\n",
    "![image.png](attachment:image.png)\n",
    "Luckily the stats library has a PMF fuction. Since calculating factorials is a bit of a pain"
   ]
  },
  {
   "cell_type": "code",
   "execution_count": 4,
   "metadata": {},
   "outputs": [
    {
     "name": "stdout",
     "output_type": "stream",
     "text": [
      "P(X=10) is 0.18593784476467232\n"
     ]
    }
   ],
   "source": [
    "# probability of getting exactly 10 heads P(X=10)\n",
    "pr_equal_10 = stats.binom.pmf(k=10, n=15, p=0.6)\n",
    "print('P(X=10) is '+str(pr_equal_10))"
   ]
  },
  {
   "cell_type": "markdown",
   "metadata": {},
   "source": [
    "#### Answer 6-3\n",
    "\n",
    "To answer P(X>=10) more than or equal to 10 heads we must first calculate the P(X<=10) less than or equal to 10 heads"
   ]
  },
  {
   "cell_type": "code",
   "execution_count": 5,
   "metadata": {},
   "outputs": [
    {
     "name": "stdout",
     "output_type": "stream",
     "text": [
      "P(X<=10) is 0.782722294349824\n"
     ]
    }
   ],
   "source": [
    "pr_lessEqual_10 = stats.binom.cdf(k=10,n=15, p=0.6)\n",
    "print('P(X<=10) is '+ str(pr_lessEqual_10))"
   ]
  },
  {
   "cell_type": "markdown",
   "metadata": {},
   "source": [
    "The probability of P(X>=10) = 1 - P(X<=10) + P(X=10). Note that we must add P(X=10) since we want the probability of P(X>=10)"
   ]
  },
  {
   "cell_type": "code",
   "execution_count": 6,
   "metadata": {},
   "outputs": [
    {
     "name": "stdout",
     "output_type": "stream",
     "text": [
      "P(X>=10) is 0.40321555041484836\n"
     ]
    }
   ],
   "source": [
    "pr_greaterEqual_10 = 1 - pr_lessEqual_10 + pr_equal_10\n",
    "print('P(X>=10) is '+ str(pr_greaterEqual_10))"
   ]
  },
  {
   "cell_type": "markdown",
   "metadata": {},
   "source": [
    "#### Answer 6-4\n",
    "\n",
    "The expected number of heads in each trial is E(X) = np = 15*0.6"
   ]
  },
  {
   "cell_type": "code",
   "execution_count": 7,
   "metadata": {},
   "outputs": [
    {
     "name": "stdout",
     "output_type": "stream",
     "text": [
      "9.0 heads are expected for each trial\n"
     ]
    }
   ],
   "source": [
    "expected_heads = 15*0.6\n",
    "print(str(expected_heads)+' heads are expected for each trial')"
   ]
  },
  {
   "cell_type": "markdown",
   "metadata": {},
   "source": [
    "#### Answer 6-5 approach 1\n",
    "\n",
    "Pr(H,H,H,T,T,H,T,T,H,T,H,H,H,T,H) = \n",
    "\n",
    "in the set there are 9 heads and 6 tails\n",
    "\n",
    "so we will use the factorial equation used in Answer 6-2\n"
   ]
  },
  {
   "cell_type": "code",
   "execution_count": 8,
   "metadata": {},
   "outputs": [
    {
     "name": "stdout",
     "output_type": "stream",
     "text": [
      "The probabilit of Pr(H,H,H,T,T,H,T,T,H,T,H,H,H,T,H) is 0.20659760529408064\n"
     ]
    }
   ],
   "source": [
    "# probability of getting 9 heads P(X=9)\n",
    "pr_HHHTTHTTHTHHHTH_approach2 = stats.binom.pmf(k=9, n=15, p=0.6)\n",
    "\n",
    "print('The probabilit of Pr(H,H,H,T,T,H,T,T,H,T,H,H,H,T,H) is '+str(pr_HHHTTHTTHTHHHTH_approach2) )"
   ]
  },
  {
   "cell_type": "markdown",
   "metadata": {},
   "source": [
    "#### Answer 6-5 approach 2\n",
    "\n",
    "We know that the probability of Heads is Pr(X=H) = 0.6\n",
    "Thus the probability of Tails is Pr(X=T) = 1 - 0.6 = 0.4\n",
    "\n",
    "Since all of the coin flips are independant the probability of getting :\n",
    "\n",
    "Pr(H,H,H,T,T,H,T,T,H,T,H,H,H,T,H) = (Pr(X=H) ** number of heads) * (Pr(X=T) ** number of tails)\n",
    "\n",
    "Note ** is to the power of n\n",
    "\n",
    "in the set there are 9 heads\n",
    "in the set there are 6 tails"
   ]
  },
  {
   "cell_type": "code",
   "execution_count": 9,
   "metadata": {},
   "outputs": [
    {
     "name": "stdout",
     "output_type": "stream",
     "text": [
      "The probabilit of Pr(H,H,H,T,T,H,T,T,H,T,H,H,H,T,H) is 4.127824281600001e-05\n"
     ]
    }
   ],
   "source": [
    "pr_HHHTTHTTHTHHHTH_approach2 = (0.6 ** 9)*(0.4 ** 6)\n",
    "print('The probabilit of Pr(H,H,H,T,T,H,T,T,H,T,H,H,H,T,H) is '+str(pr_HHHTTHTTHTHHHTH_approach2) )"
   ]
  },
  {
   "cell_type": "markdown",
   "metadata": {},
   "source": [
    "#### Answer 6-6\n",
    "\n",
    "The first quantile corresponds to number of H where the cumulative probability is 25% of the CDF.\n",
    "\n",
    "The second quantile corresponds to number of H where the cumulative probability is 50% of the CDF.\n",
    "\n",
    "The thrid quantile corresponds to number of H where the cumulative probability is 75% of the CDF.\n",
    "\n",
    "The stats library has function called ppf() that calculates the number of heads that corresponds to cumulative proability."
   ]
  },
  {
   "cell_type": "code",
   "execution_count": 10,
   "metadata": {},
   "outputs": [
    {
     "name": "stdout",
     "output_type": "stream",
     "text": [
      "The first qunatile is 8.0 number of heads\n",
      "The second qunatile is 9.0 number of heads\n",
      "The third qunatile is 10.0 number of heads\n"
     ]
    }
   ],
   "source": [
    "quant1 = stats.binom.ppf(q=0.25,n=15, p=0.6)\n",
    "quant2 = stats.binom.ppf(q=0.50,n=15, p=0.6)\n",
    "quant3 = stats.binom.ppf(q=0.75,n=15, p=0.6)\n",
    "\n",
    "print('The first qunatile is ' + str(quant1) + ' number of heads' )\n",
    "print('The second qunatile is ' + str(quant2) + ' number of heads' )\n",
    "print('The third qunatile is ' + str(quant3) + ' number of heads' )"
   ]
  },
  {
   "cell_type": "markdown",
   "metadata": {},
   "source": [
    "#### Answer 6-7"
   ]
  },
  {
   "cell_type": "code",
   "execution_count": 11,
   "metadata": {},
   "outputs": [
    {
     "name": "stdout",
     "output_type": "stream",
     "text": [
      "Here are the the number of heads for ten trials[ 8 11  8  8  9  9  8  9 11  6]\n",
      "Here is the mean of the number of hrads for the 10 trails 8.7\n"
     ]
    }
   ],
   "source": [
    "tenTrialValues = stats.binom.rvs(n=15, p=0.6, size=10)\n",
    "meanTenTrialValues = tenTrialValues.mean()\n",
    "\n",
    "print('Here are the the number of heads for ten trials'+str(tenTrialValues))\n",
    "print('Here is the mean of the number of hrads for the 10 trails ' + str(meanTenTrialValues))"
   ]
  },
  {
   "cell_type": "code",
   "execution_count": 12,
   "metadata": {},
   "outputs": [
    {
     "name": "stdout",
     "output_type": "stream",
     "text": [
      "Here is the frequency table for the reults of the ten trials\n",
      "col_0   6   8   9   11\n",
      "row_0                 \n",
      "counts   1   4   3   2\n"
     ]
    }
   ],
   "source": [
    "print('Here is the frequency table for the reults of the ten trials')\n",
    "print(pd.crosstab(index=\"counts\", columns= tenTrialValues))"
   ]
  },
  {
   "cell_type": "code",
   "execution_count": 13,
   "metadata": {},
   "outputs": [
    {
     "data": {
      "image/png": "[encoded data removed]",
      "text/plain": [
       "<Figure size 432x288 with 1 Axes>"
      ]
     },
     "metadata": {
      "needs_background": "light"
     },
     "output_type": "display_data"
    }
   ],
   "source": [
    "hist = pd.DataFrame(tenTrialValues).hist(range=(0,15))"
   ]
  },
  {
   "cell_type": "markdown",
   "metadata": {},
   "source": [
    "#### Answer 6-8\n",
    "\n",
    "By looking at the histograms generated below, we can see an increasing trial size make the distribution look like **normal distribution** with a mean of 9"
   ]
  },
  {
   "cell_type": "code",
   "execution_count": 24,
   "metadata": {},
   "outputs": [
    {
     "data": {
      "image/png": "[encoded data removed]",
      "text/plain": [
       "<Figure size 432x288 with 1 Axes>"
      ]
     },
     "metadata": {
      "needs_background": "light"
     },
     "output_type": "display_data"
    }
   ],
   "source": [
    "trialMeansVector = []\n",
    "\n",
    "for trialSize in range(100,1000,50):\n",
    "    trialValues = stats.binom.rvs(n=15, p=0.6, size=trialSize)\n",
    "    meanTrialValue = trialValues.mean()\n",
    "    \n",
    "    trialMeansVector.append(meanTrialValue)\n",
    "    \n",
    "    #hist = pd.DataFrame(trialMeansVector).hist(bins=100, range=(8.5,9.5))\n",
    "    \n",
    "hist = pd.DataFrame(trialMeansVector).hist(bins=30, range=(8.5,9.5))"
   ]
  },
  {
   "cell_type": "markdown",
   "metadata": {},
   "source": [
    "## Question 7\n",
    "Assume that for a study we want to sample people from the Montreal population. The target of the study is a particular disease. If the probability of sampling a person with this disease equals $0.007$. \n",
    "  1. How many people we need to sample totally in order to get exactly $73$ patients with the disease?\n",
    "  2. How many people we need to sample totally in order to have at least $73$ patients with the target disease?\n",
    "  3. What distribution is it and what are its parameters?\n",
    "  4. Callculate the expected value, variance, as well as the first, second and the third quantiles.\n",
    "   "
   ]
  },
  {
   "cell_type": "markdown",
   "metadata": {},
   "source": [
    "#### Answer 7-1\n",
    "\n",
    "We wish to calculate the value of n (number of people sampled) to get an expected value of 73\n",
    "\n",
    "This is a binomimal distribution, since it is binary outcome (diasease or no disease) of multiple independant events (patients)\n",
    "\n",
    "Thus E(X) = n * p\n",
    "\n",
    "p = 0.007\n",
    "n = ? number we are trying to solve\n",
    "E(X) = 73\n",
    "\n",
    "n = E(X) / p"
   ]
  },
  {
   "cell_type": "code",
   "execution_count": 26,
   "metadata": {},
   "outputs": [
    {
     "name": "stdout",
     "output_type": "stream",
     "text": [
      "Number of people to sample exactly to get 73 patients with disease is 10428.571428571428\n"
     ]
    }
   ],
   "source": [
    "sample_73 = 73 / 0.007\n",
    "print('Number of people to sample exactly to get 73 patients with disease is ' + str(sample_73))"
   ]
  },
  {
   "cell_type": "markdown",
   "metadata": {},
   "source": [
    "#### Answer 7-2\n",
    "\n",
    "I am assuming that we want here to identify whole people to get at least 73 people with the disease.\n",
    "\n",
    "Thus we need to round upwards the number of people, since a fraction of a person does not really exist.\n",
    "\n",
    "Thus we need sample **10429 people**"
   ]
  },
  {
   "cell_type": "markdown",
   "metadata": {},
   "source": [
    "#### Answer 7-3\n",
    "\n",
    "As mentioned earlier, this is a binomimal distribution, since it is binary outcome (diasease or no disease) of multiple independant events (patients).\n",
    "\n",
    "The parameters are \n",
    "p = 0.007\n",
    "n = 10429"
   ]
  },
  {
   "cell_type": "code",
   "execution_count": 27,
   "metadata": {},
   "outputs": [],
   "source": [
    "p = 0.007\n",
    "n = 10429"
   ]
  },
  {
   "cell_type": "markdown",
   "metadata": {},
   "source": [
    "#### Answer 7-4"
   ]
  },
  {
   "cell_type": "code",
   "execution_count": 28,
   "metadata": {},
   "outputs": [
    {
     "name": "stdout",
     "output_type": "stream",
     "text": [
      "The expected value is 73.003\n",
      "The variance is 72.491979\n",
      "The first qunatile is 67.0 people\n",
      "The second qunatile is 73.0 people\n",
      "The third qunatile is 79.0 peolple\n"
     ]
    }
   ],
   "source": [
    "expected = n * p\n",
    "print('The expected value is ' + str(expected))\n",
    "\n",
    "variance = n*p*(1-p)\n",
    "print('The variance is ' + str(variance))\n",
    "\n",
    "\n",
    "quant1 = stats.binom.ppf(q=0.25,n=n, p=p)\n",
    "quant2 = stats.binom.ppf(q=0.50,n=n, p=p)\n",
    "quant3 = stats.binom.ppf(q=0.75,n=n, p=p)\n",
    "\n",
    "\n",
    "print('The first qunatile is ' + str(quant1) + ' people' )\n",
    "print('The second qunatile is ' + str(quant2) + ' people' )\n",
    "print('The third qunatile is ' + str(quant3) + ' peolple' )\n",
    "\n"
   ]
  },
  {
   "cell_type": "markdown",
   "metadata": {},
   "source": [
    "## Question 8\n",
    "  1. Generate $1000$ data points according to the exponential distribution with parameter $\\lambda = 1.2$.\n",
    "  2. Estimate the mean of the sample.\n",
    "  3. Repeat the first step but each time increase the sample size up to $1000,000$. Calculate the sample mean each time. Scatterplot the mean versus the sample size for each repetition. Do you see any trend in the plot sample means? Can you guess the limit of the sample mean due to the plot?   \n"
   ]
  },
  {
   "cell_type": "markdown",
   "metadata": {},
   "source": [
    "#### Answer 8-1\n",
    "\n",
    "The following code produces a vector for all of the sample sizes from 1000 to 1000000 in 10000 increments and calculates the means of each sample. Than the code section plots the mean vs sample size. \n",
    "\n",
    "#### Answer 8-2\n",
    "\n",
    "The first esimte of the mean for a sample size of 1000 is 0.8437\n",
    "\n",
    "#### Answer 8-3\n",
    "\n",
    "The scatter plot indicates that the mean tends to 0.8333 which corresponds to 1/lamda, hence 1/1.2. "
   ]
  },
  {
   "cell_type": "code",
   "execution_count": null,
   "metadata": {},
   "outputs": [],
   "source": [
    "# set the parameters for the sample sizes\n",
    "startSampleSize = 1000\n",
    "endSampleSize = 1000000\n",
    "sampleIncrement = 10000\n",
    "\n",
    "# create the sample size vector\n",
    "sampleSizeVector = list(range(startSampleSize,endSampleSize,sampleIncrement))\n",
    "\n",
    "# create an empty vector\n",
    "sampleMeanVector = []\n",
    "\n",
    "# calculate the mean for each sample\n",
    "for sampleSize in sampleSizeVector:\n",
    "\n",
    "    # create the sample\n",
    "    sample = stats.expon.rvs(scale=1/1.2,size=sampleSize)\n",
    "    \n",
    "    # calculate the mean and add to the sample mean result list\n",
    "    sampleMeanVector.append(sample.mean())\n",
    "    \n",
    "# create a dataframe from the result and plot the scatter plot    \n",
    "data = pd.DataFrame({'SampleSize':sampleSizeVector,'SampleMean':sampleMeanVector})\n",
    "data.plot.scatter('SampleSize','SampleMean')\n"
   ]
  },
  {
   "cell_type": "markdown",
   "metadata": {},
   "source": [
    "## Question 9\n",
    "<span style=\"color:red\">**Note:**</span> \n",
    "For this question you may need to **Google** in order to find commands necessary for some parts of the question. \n",
    "  1. Import `sklearn` library and from it import `datasets`. Aslso, set seed as in **Question 4**.\n",
    "  2. From `sklearn.datasets` load the dataset called \"Boston\". Read the documentaion of `sklearn.datasets` in order to understand the structure of datasets built in the library.\n",
    "  3. From the dataset `boston` extract the part called `data`. (`boston` is in the form of **dictionary** and includes different parts. You need to extract only the part called `data`)\n",
    "  4. Find the mean and standard deviation of each variable (=feature, column) in the data. \n",
    "  5. Assume the data you have are the whole population. Randomly sample $300$ entries from the $11$-th variable. Using this sample estimate estimate the population mean (whose true value is already calculated). \n",
    "  6. Provide a confidence interval with $95$% of confidence level. (To find the corresponding z-value you can use `stats.norm.ppf()`)\n",
    "  7. If you repeat Steps 5 and 6 above $20$ times, how many of these $20$ confidence intervals do you expect to include the true mean? Why?\n",
    "  8. Scatterplot the estimated means with their $95$% margins of error, as well as the true value of the mean. How many of the error margins include the true mean? Does it match with your answer to the previous step? If not, what is the reason in your opinion? \n",
    "  "
   ]
  },
  {
   "cell_type": "markdown",
   "metadata": {},
   "source": [
    "#### Answer 9-1"
   ]
  },
  {
   "cell_type": "code",
   "execution_count": null,
   "metadata": {},
   "outputs": [],
   "source": [
    "from sklearn.datasets import load_boston"
   ]
  },
  {
   "cell_type": "markdown",
   "metadata": {},
   "source": [
    "#### Answer 9-2"
   ]
  },
  {
   "cell_type": "code",
   "execution_count": null,
   "metadata": {},
   "outputs": [],
   "source": [
    "boston = load_boston()"
   ]
  },
  {
   "cell_type": "markdown",
   "metadata": {},
   "source": [
    "#### Answer 9-3"
   ]
  },
  {
   "cell_type": "code",
   "execution_count": null,
   "metadata": {},
   "outputs": [],
   "source": [
    "boston_data = boston['data']"
   ]
  },
  {
   "cell_type": "markdown",
   "metadata": {},
   "source": [
    "#### Answer 9-4"
   ]
  },
  {
   "cell_type": "code",
   "execution_count": null,
   "metadata": {},
   "outputs": [],
   "source": [
    "meanOfColumns = boston_data.mean(axis=0)\n",
    "print('Means of the columns')\n",
    "print(meanOfColumns)\n"
   ]
  },
  {
   "cell_type": "code",
   "execution_count": null,
   "metadata": {},
   "outputs": [],
   "source": [
    "stdOfColumns = boston_data.std(axis=0)\n",
    "print('Standard deviations of the columns')\n",
    "print(stdOfColumns)"
   ]
  },
  {
   "cell_type": "markdown",
   "metadata": {},
   "source": [
    "#### Answer 9-5"
   ]
  },
  {
   "cell_type": "code",
   "execution_count": null,
   "metadata": {},
   "outputs": [],
   "source": [
    "# the index of the 11th column is 10\n",
    "bostonSample = np.random.choice(a=boston_data[:,10],size=300)"
   ]
  },
  {
   "cell_type": "code",
   "execution_count": null,
   "metadata": {},
   "outputs": [],
   "source": [
    "bostonSampleMean = bostonSample.mean()\n",
    "bostonSampleStd = bostonSample.std()"
   ]
  },
  {
   "cell_type": "code",
   "execution_count": null,
   "metadata": {},
   "outputs": [],
   "source": [
    "print('The mean of the sample is : ' +str(bostonSampleMean))\n",
    "print('The std of the sample is : ' +str(bostonSampleStd))"
   ]
  },
  {
   "cell_type": "code",
   "execution_count": null,
   "metadata": {},
   "outputs": [],
   "source": [
    "realBostonMean = meanOfColumns[10]\n",
    "\n",
    "print('The real mean of the whole population is : ' + str(realBostonMean))"
   ]
  },
  {
   "cell_type": "markdown",
   "metadata": {},
   "source": [
    "#### Answer 9-6"
   ]
  },
  {
   "cell_type": "markdown",
   "metadata": {},
   "source": [
    "1 - alpha = .95\n",
    "\n",
    "alpha = .05\n",
    "\n",
    "\n",
    "alpha/2 = .025\n",
    "\n",
    "interval = Z alpha/2 * std / n ** 0.5"
   ]
  },
  {
   "cell_type": "code",
   "execution_count": null,
   "metadata": {},
   "outputs": [],
   "source": [
    "Z_alpha_2 = stats.norm.ppf(q=.975,loc=bostonSampleMean,scale=bostonSampleStd)\n",
    "interval = (Z_alpha_2 * bostonSampleStd) / (math.sqrt(300))\n",
    "print('The 95% confidence interval is : ' + str(interval))"
   ]
  },
  {
   "cell_type": "markdown",
   "metadata": {},
   "source": [
    "#### Answer 9-7"
   ]
  },
  {
   "cell_type": "markdown",
   "metadata": {},
   "source": [
    "The 95% confidence interval calculated in the sample above 2.787807617078 is relatively larger than the real standard deviation of the whole population 2.16280519. Hence, I would expect that all of the confdence intervals will include the true mean. "
   ]
  },
  {
   "cell_type": "markdown",
   "metadata": {},
   "source": [
    "#### Answer 9-8"
   ]
  },
  {
   "cell_type": "code",
   "execution_count": null,
   "metadata": {},
   "outputs": [],
   "source": [
    "bostonSampleMeansVector = []\n",
    "bostonConfIntervalVector = []\n",
    "\n",
    "for i in range(20):\n",
    "    \n",
    "    bostonSample = np.random.choice(a=boston_data[:,10],size=300)\n",
    "    \n",
    "    bostonSampleMean = bostonSample.mean()\n",
    "    bostonSampleStd = bostonSample.std()\n",
    "    \n",
    "    Z_alpha_2 = stats.norm.ppf(q=.975,loc=bostonSampleMean,scale=bostonSampleStd)\n",
    "    \n",
    "    \n",
    "    interval = (Z_alpha_2 * bostonSampleStd) / (math.sqrt(300))\n",
    "    \n",
    "    bostonSampleMeansVector.append(bostonSampleMean)\n",
    "    \n",
    "\n",
    "    bostonConfIntervalVector.append([bostonSampleMean+interval,bostonSampleMean-interval])\n",
    "    \n",
    "    "
   ]
  },
  {
   "cell_type": "code",
   "execution_count": null,
   "metadata": {},
   "outputs": [],
   "source": [
    "plt.figure(figsize=(9,9))\n",
    "\n",
    "plt.errorbar(x=np.arange(0.1, 20, 1),\n",
    "             y=bostonSampleMeansVector, \n",
    "             yerr=[(top-bot)/2 for top,bot in bostonConfIntervalVector],\n",
    "             fmt='o')\n",
    "\n",
    "plt.hlines(xmin=-0.2, xmax=19.5,\n",
    "           y=realBostonMean, \n",
    "           linewidth=2.0,\n",
    "           color=\"red\");"
   ]
  },
  {
   "cell_type": "markdown",
   "metadata": {},
   "source": [
    "As expected the real mean is always within the confdence intervals of the samples"
   ]
  },
  {
   "cell_type": "code",
   "execution_count": null,
   "metadata": {},
   "outputs": [],
   "source": []
  }
 ],
 "metadata": {
  "kernelspec": {
   "display_name": "Python 3",
   "language": "python",
   "name": "python3"
  },
  "language_info": {
   "codemirror_mode": {
    "name": "ipython",
    "version": 3
   },
   "file_extension": ".py",
   "mimetype": "text/x-python",
   "name": "python",
   "nbconvert_exporter": "python",
   "pygments_lexer": "ipython3",
   "version": "3.7.0"
  }
 },
 "nbformat": 4,
 "nbformat_minor": 2
}
