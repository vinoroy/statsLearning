{
 "cells": [
  {
   "cell_type": "markdown",
   "metadata": {},
   "source": [
    "# Model Selection\n",
    "Model selection is one of the important subjects in statistical modeling. We have the possibility of including as many as features, all of them would not improve the model accuracy. It is important to know which features are improving the model. There are two different approaches.\n",
    "\n",
    "- Model selection by fitting a model and using a statistical measure such as AIC and BIC.\n",
    "    - Forward stepwise seleciton\n",
    "    - Backward stepwise selection\n",
    "\n",
    "- Using a shrinkage method \n",
    "\n",
    "\n",
    "\n",
    "\n",
    "\n",
    "\n",
    "\n",
    "\n",
    "\n",
    "\n"
   ]
  },
  {
   "cell_type": "markdown",
   "metadata": {},
   "source": [
    "# Load file\n",
    "Commonly two libraries are used to load a csv files.\n",
    "- numpy function `np.loadtext` and `np.genfromtext ` \n",
    "- pandas function `pd.read_csv`\n",
    "\n",
    "Here we prefer using pandas"
   ]
  },
  {
   "cell_type": "code",
   "execution_count": 1,
   "metadata": {
    "scrolled": true
   },
   "outputs": [],
   "source": [
    "import pandas as pd\n",
    "filename = 'data/Credit.csv'\n",
    "credit = pd.read_csv(filename)"
   ]
  },
  {
   "cell_type": "code",
   "execution_count": 2,
   "metadata": {},
   "outputs": [
    {
     "data": {
      "text/html": [
       "<div>\n",
       "<style scoped>\n",
       "    .dataframe tbody tr th:only-of-type {\n",
       "        vertical-align: middle;\n",
       "    }\n",
       "\n",
       "    .dataframe tbody tr th {\n",
       "        vertical-align: top;\n",
       "    }\n",
       "\n",
       "    .dataframe thead th {\n",
       "        text-align: right;\n",
       "    }\n",
       "</style>\n",
       "<table border=\"1\" class=\"dataframe\">\n",
       "  <thead>\n",
       "    <tr style=\"text-align: right;\">\n",
       "      <th></th>\n",
       "      <th>Unnamed: 0</th>\n",
       "      <th>Income</th>\n",
       "      <th>Limit</th>\n",
       "      <th>Rating</th>\n",
       "      <th>Cards</th>\n",
       "      <th>Age</th>\n",
       "      <th>Education</th>\n",
       "      <th>Gender</th>\n",
       "      <th>Student</th>\n",
       "      <th>Married</th>\n",
       "      <th>Ethnicity</th>\n",
       "      <th>Balance</th>\n",
       "    </tr>\n",
       "  </thead>\n",
       "  <tbody>\n",
       "    <tr>\n",
       "      <th>0</th>\n",
       "      <td>1</td>\n",
       "      <td>14.891</td>\n",
       "      <td>3606</td>\n",
       "      <td>283</td>\n",
       "      <td>2</td>\n",
       "      <td>34</td>\n",
       "      <td>11</td>\n",
       "      <td>Male</td>\n",
       "      <td>No</td>\n",
       "      <td>Yes</td>\n",
       "      <td>Caucasian</td>\n",
       "      <td>333</td>\n",
       "    </tr>\n",
       "    <tr>\n",
       "      <th>1</th>\n",
       "      <td>2</td>\n",
       "      <td>106.025</td>\n",
       "      <td>6645</td>\n",
       "      <td>483</td>\n",
       "      <td>3</td>\n",
       "      <td>82</td>\n",
       "      <td>15</td>\n",
       "      <td>Female</td>\n",
       "      <td>Yes</td>\n",
       "      <td>Yes</td>\n",
       "      <td>Asian</td>\n",
       "      <td>903</td>\n",
       "    </tr>\n",
       "    <tr>\n",
       "      <th>2</th>\n",
       "      <td>3</td>\n",
       "      <td>104.593</td>\n",
       "      <td>7075</td>\n",
       "      <td>514</td>\n",
       "      <td>4</td>\n",
       "      <td>71</td>\n",
       "      <td>11</td>\n",
       "      <td>Male</td>\n",
       "      <td>No</td>\n",
       "      <td>No</td>\n",
       "      <td>Asian</td>\n",
       "      <td>580</td>\n",
       "    </tr>\n",
       "    <tr>\n",
       "      <th>3</th>\n",
       "      <td>4</td>\n",
       "      <td>148.924</td>\n",
       "      <td>9504</td>\n",
       "      <td>681</td>\n",
       "      <td>3</td>\n",
       "      <td>36</td>\n",
       "      <td>11</td>\n",
       "      <td>Female</td>\n",
       "      <td>No</td>\n",
       "      <td>No</td>\n",
       "      <td>Asian</td>\n",
       "      <td>964</td>\n",
       "    </tr>\n",
       "    <tr>\n",
       "      <th>4</th>\n",
       "      <td>5</td>\n",
       "      <td>55.882</td>\n",
       "      <td>4897</td>\n",
       "      <td>357</td>\n",
       "      <td>2</td>\n",
       "      <td>68</td>\n",
       "      <td>16</td>\n",
       "      <td>Male</td>\n",
       "      <td>No</td>\n",
       "      <td>Yes</td>\n",
       "      <td>Caucasian</td>\n",
       "      <td>331</td>\n",
       "    </tr>\n",
       "  </tbody>\n",
       "</table>\n",
       "</div>"
      ],
      "text/plain": [
       "   Unnamed: 0   Income  Limit  Rating  Cards  Age  Education  Gender Student  \\\n",
       "0           1   14.891   3606     283      2   34         11    Male      No   \n",
       "1           2  106.025   6645     483      3   82         15  Female     Yes   \n",
       "2           3  104.593   7075     514      4   71         11    Male      No   \n",
       "3           4  148.924   9504     681      3   36         11  Female      No   \n",
       "4           5   55.882   4897     357      2   68         16    Male      No   \n",
       "\n",
       "  Married  Ethnicity  Balance  \n",
       "0     Yes  Caucasian      333  \n",
       "1     Yes      Asian      903  \n",
       "2      No      Asian      580  \n",
       "3      No      Asian      964  \n",
       "4     Yes  Caucasian      331  "
      ]
     },
     "execution_count": 2,
     "metadata": {},
     "output_type": "execute_result"
    }
   ],
   "source": [
    "credit.head()"
   ]
  },
  {
   "cell_type": "code",
   "execution_count": 3,
   "metadata": {},
   "outputs": [],
   "source": [
    "# We keep the continuous variables only for today\n",
    "credit = credit[['Balance','Income', 'Limit', 'Rating', \\\n",
    "                 'Cards', 'Age', 'Education']]"
   ]
  },
  {
   "cell_type": "code",
   "execution_count": 4,
   "metadata": {},
   "outputs": [
    {
     "data": {
      "text/html": [
       "<div>\n",
       "<style scoped>\n",
       "    .dataframe tbody tr th:only-of-type {\n",
       "        vertical-align: middle;\n",
       "    }\n",
       "\n",
       "    .dataframe tbody tr th {\n",
       "        vertical-align: top;\n",
       "    }\n",
       "\n",
       "    .dataframe thead th {\n",
       "        text-align: right;\n",
       "    }\n",
       "</style>\n",
       "<table border=\"1\" class=\"dataframe\">\n",
       "  <thead>\n",
       "    <tr style=\"text-align: right;\">\n",
       "      <th></th>\n",
       "      <th>Balance</th>\n",
       "      <th>Income</th>\n",
       "      <th>Limit</th>\n",
       "      <th>Rating</th>\n",
       "      <th>Cards</th>\n",
       "      <th>Age</th>\n",
       "      <th>Education</th>\n",
       "    </tr>\n",
       "  </thead>\n",
       "  <tbody>\n",
       "    <tr>\n",
       "      <th>0</th>\n",
       "      <td>333</td>\n",
       "      <td>14.891</td>\n",
       "      <td>3606</td>\n",
       "      <td>283</td>\n",
       "      <td>2</td>\n",
       "      <td>34</td>\n",
       "      <td>11</td>\n",
       "    </tr>\n",
       "    <tr>\n",
       "      <th>1</th>\n",
       "      <td>903</td>\n",
       "      <td>106.025</td>\n",
       "      <td>6645</td>\n",
       "      <td>483</td>\n",
       "      <td>3</td>\n",
       "      <td>82</td>\n",
       "      <td>15</td>\n",
       "    </tr>\n",
       "    <tr>\n",
       "      <th>2</th>\n",
       "      <td>580</td>\n",
       "      <td>104.593</td>\n",
       "      <td>7075</td>\n",
       "      <td>514</td>\n",
       "      <td>4</td>\n",
       "      <td>71</td>\n",
       "      <td>11</td>\n",
       "    </tr>\n",
       "    <tr>\n",
       "      <th>3</th>\n",
       "      <td>964</td>\n",
       "      <td>148.924</td>\n",
       "      <td>9504</td>\n",
       "      <td>681</td>\n",
       "      <td>3</td>\n",
       "      <td>36</td>\n",
       "      <td>11</td>\n",
       "    </tr>\n",
       "    <tr>\n",
       "      <th>4</th>\n",
       "      <td>331</td>\n",
       "      <td>55.882</td>\n",
       "      <td>4897</td>\n",
       "      <td>357</td>\n",
       "      <td>2</td>\n",
       "      <td>68</td>\n",
       "      <td>16</td>\n",
       "    </tr>\n",
       "  </tbody>\n",
       "</table>\n",
       "</div>"
      ],
      "text/plain": [
       "   Balance   Income  Limit  Rating  Cards  Age  Education\n",
       "0      333   14.891   3606     283      2   34         11\n",
       "1      903  106.025   6645     483      3   82         15\n",
       "2      580  104.593   7075     514      4   71         11\n",
       "3      964  148.924   9504     681      3   36         11\n",
       "4      331   55.882   4897     357      2   68         16"
      ]
     },
     "execution_count": 4,
     "metadata": {},
     "output_type": "execute_result"
    }
   ],
   "source": [
    "credit.head()"
   ]
  },
  {
   "cell_type": "code",
   "execution_count": 5,
   "metadata": {},
   "outputs": [
    {
     "data": {
      "text/html": [
       "<div>\n",
       "<style scoped>\n",
       "    .dataframe tbody tr th:only-of-type {\n",
       "        vertical-align: middle;\n",
       "    }\n",
       "\n",
       "    .dataframe tbody tr th {\n",
       "        vertical-align: top;\n",
       "    }\n",
       "\n",
       "    .dataframe thead th {\n",
       "        text-align: right;\n",
       "    }\n",
       "</style>\n",
       "<table border=\"1\" class=\"dataframe\">\n",
       "  <thead>\n",
       "    <tr style=\"text-align: right;\">\n",
       "      <th></th>\n",
       "      <th>Balance</th>\n",
       "      <th>Income</th>\n",
       "      <th>Limit</th>\n",
       "      <th>Rating</th>\n",
       "      <th>Cards</th>\n",
       "      <th>Age</th>\n",
       "      <th>Education</th>\n",
       "    </tr>\n",
       "  </thead>\n",
       "  <tbody>\n",
       "    <tr>\n",
       "      <th>count</th>\n",
       "      <td>400.000000</td>\n",
       "      <td>400.000000</td>\n",
       "      <td>400.000000</td>\n",
       "      <td>400.000000</td>\n",
       "      <td>400.000000</td>\n",
       "      <td>400.000000</td>\n",
       "      <td>400.000000</td>\n",
       "    </tr>\n",
       "    <tr>\n",
       "      <th>mean</th>\n",
       "      <td>520.015000</td>\n",
       "      <td>45.218885</td>\n",
       "      <td>4735.600000</td>\n",
       "      <td>354.940000</td>\n",
       "      <td>2.957500</td>\n",
       "      <td>55.667500</td>\n",
       "      <td>13.450000</td>\n",
       "    </tr>\n",
       "    <tr>\n",
       "      <th>std</th>\n",
       "      <td>459.758877</td>\n",
       "      <td>35.244273</td>\n",
       "      <td>2308.198848</td>\n",
       "      <td>154.724143</td>\n",
       "      <td>1.371275</td>\n",
       "      <td>17.249807</td>\n",
       "      <td>3.125207</td>\n",
       "    </tr>\n",
       "    <tr>\n",
       "      <th>min</th>\n",
       "      <td>0.000000</td>\n",
       "      <td>10.354000</td>\n",
       "      <td>855.000000</td>\n",
       "      <td>93.000000</td>\n",
       "      <td>1.000000</td>\n",
       "      <td>23.000000</td>\n",
       "      <td>5.000000</td>\n",
       "    </tr>\n",
       "    <tr>\n",
       "      <th>25%</th>\n",
       "      <td>68.750000</td>\n",
       "      <td>21.007250</td>\n",
       "      <td>3088.000000</td>\n",
       "      <td>247.250000</td>\n",
       "      <td>2.000000</td>\n",
       "      <td>41.750000</td>\n",
       "      <td>11.000000</td>\n",
       "    </tr>\n",
       "    <tr>\n",
       "      <th>50%</th>\n",
       "      <td>459.500000</td>\n",
       "      <td>33.115500</td>\n",
       "      <td>4622.500000</td>\n",
       "      <td>344.000000</td>\n",
       "      <td>3.000000</td>\n",
       "      <td>56.000000</td>\n",
       "      <td>14.000000</td>\n",
       "    </tr>\n",
       "    <tr>\n",
       "      <th>75%</th>\n",
       "      <td>863.000000</td>\n",
       "      <td>57.470750</td>\n",
       "      <td>5872.750000</td>\n",
       "      <td>437.250000</td>\n",
       "      <td>4.000000</td>\n",
       "      <td>70.000000</td>\n",
       "      <td>16.000000</td>\n",
       "    </tr>\n",
       "    <tr>\n",
       "      <th>max</th>\n",
       "      <td>1999.000000</td>\n",
       "      <td>186.634000</td>\n",
       "      <td>13913.000000</td>\n",
       "      <td>982.000000</td>\n",
       "      <td>9.000000</td>\n",
       "      <td>98.000000</td>\n",
       "      <td>20.000000</td>\n",
       "    </tr>\n",
       "  </tbody>\n",
       "</table>\n",
       "</div>"
      ],
      "text/plain": [
       "           Balance      Income         Limit      Rating       Cards  \\\n",
       "count   400.000000  400.000000    400.000000  400.000000  400.000000   \n",
       "mean    520.015000   45.218885   4735.600000  354.940000    2.957500   \n",
       "std     459.758877   35.244273   2308.198848  154.724143    1.371275   \n",
       "min       0.000000   10.354000    855.000000   93.000000    1.000000   \n",
       "25%      68.750000   21.007250   3088.000000  247.250000    2.000000   \n",
       "50%     459.500000   33.115500   4622.500000  344.000000    3.000000   \n",
       "75%     863.000000   57.470750   5872.750000  437.250000    4.000000   \n",
       "max    1999.000000  186.634000  13913.000000  982.000000    9.000000   \n",
       "\n",
       "              Age   Education  \n",
       "count  400.000000  400.000000  \n",
       "mean    55.667500   13.450000  \n",
       "std     17.249807    3.125207  \n",
       "min     23.000000    5.000000  \n",
       "25%     41.750000   11.000000  \n",
       "50%     56.000000   14.000000  \n",
       "75%     70.000000   16.000000  \n",
       "max     98.000000   20.000000  "
      ]
     },
     "execution_count": 5,
     "metadata": {},
     "output_type": "execute_result"
    }
   ],
   "source": [
    "credit.describe()"
   ]
  },
  {
   "cell_type": "code",
   "execution_count": 6,
   "metadata": {
    "scrolled": true
   },
   "outputs": [
    {
     "data": {
      "image/png": "[encoded data removed]",
      "text/plain": [
       "<Figure size 432x288 with 49 Axes>"
      ]
     },
     "metadata": {
      "needs_background": "light"
     },
     "output_type": "display_data"
    }
   ],
   "source": [
    "from pandas.plotting import scatter_matrix\n",
    "%matplotlib inline\n",
    "scatter_matrix(credit, alpha=0.2);"
   ]
  },
  {
   "cell_type": "markdown",
   "metadata": {},
   "source": [
    "# Stepwise Regression"
   ]
  },
  {
   "cell_type": "code",
   "execution_count": 7,
   "metadata": {},
   "outputs": [
    {
     "name": "stdout",
     "output_type": "stream",
     "text": [
      "Coefficient:  [520.015]\n",
      "Average Balance:  520.015\n",
      "R squared:  0.0\n",
      "MSE:  210849.779775\n"
     ]
    }
   ],
   "source": [
    "# Manual Forward stepwise selection \n",
    "# only on 'Income' 'Limit' and 'Rating'\n",
    "\n",
    "# model size = 1 try models with only one \n",
    "# dimension first. \n",
    "# Choose the best attribute.\n",
    "# Go to the next step while keeping \n",
    "# the best variable in the model.\n",
    "\n",
    "from sklearn.linear_model import LinearRegression\n",
    "import numpy as np\n",
    "#1st step of stepwise is to fit a Null model\n",
    "y = credit['Balance'].values\n",
    "X = np.ones(400)\n",
    "X = X.reshape(400,1)\n",
    "lr0 = LinearRegression(fit_intercept=False)\n",
    "lr0.fit(X, y)\n",
    "\n",
    "#The estimator is the average of Balance\n",
    "print(\"Coefficient: \", lr0.coef_)\n",
    "print(\"Average Balance: \", np.mean(y))\n",
    "\n",
    "#R squared for the Null model\n",
    "score0 = lr0.score(X, y)\n",
    "print(\"R squared: \", score0)\n",
    "\n",
    "#MSE for the Null model\n",
    "from sklearn.metrics import mean_squared_error as mse\n",
    "mse0 = mse(y_true = y, y_pred = lr0.predict(X))\n",
    "print(\"MSE: \", mse0)"
   ]
  },
  {
   "cell_type": "code",
   "execution_count": 8,
   "metadata": {},
   "outputs": [],
   "source": [
    "#2nd step we have to test all possible models with 1 predictor\n",
    "X1 = credit[['Income']].values\n",
    "lr1 = LinearRegression()\n",
    "lr1.fit(X1,y)\n",
    "score1 = lr1.score(X1,y)\n",
    "mse1 = mse(y, lr1.predict(X1))\n",
    "\n",
    "X2 = credit[['Limit']].values\n",
    "lr2 = LinearRegression()\n",
    "lr2.fit(X2,y)\n",
    "score2 = lr2.score(X2,y)\n",
    "mse2 = mse(y, lr2.predict(X2))\n",
    "\n",
    "X3 = credit[['Rating']].values\n",
    "lr3 = LinearRegression()\n",
    "lr3.fit(X3,y)\n",
    "score3 = lr3.score(X3,y)\n",
    "mse3 = mse(y, lr3.predict(X3))"
   ]
  },
  {
   "cell_type": "code",
   "execution_count": 9,
   "metadata": {},
   "outputs": [
    {
     "name": "stdout",
     "output_type": "stream",
     "text": [
      "R squared:  0.21497731013240495 0.7425221799818014 0.7458484180585037\n",
      "MSE:  165521.86127696055 54289.14164778425 53587.80508183237\n"
     ]
    }
   ],
   "source": [
    "print(\"R squared: \", score1, score2, score3)\n",
    "print(\"MSE: \", mse1, mse2, mse3)"
   ]
  },
  {
   "cell_type": "code",
   "execution_count": 10,
   "metadata": {},
   "outputs": [],
   "source": [
    "# score3>score2>score1 so Rating enters in the model"
   ]
  },
  {
   "cell_type": "markdown",
   "metadata": {},
   "source": [
    "## Exercise: Fit the next forward selection. Which variable should enter `Income` or `Limit`?"
   ]
  },
  {
   "cell_type": "code",
   "execution_count": null,
   "metadata": {},
   "outputs": [],
   "source": []
  },
  {
   "cell_type": "code",
   "execution_count": null,
   "metadata": {},
   "outputs": [],
   "source": []
  },
  {
   "cell_type": "code",
   "execution_count": null,
   "metadata": {},
   "outputs": [],
   "source": []
  },
  {
   "cell_type": "code",
   "execution_count": null,
   "metadata": {},
   "outputs": [],
   "source": []
  },
  {
   "cell_type": "code",
   "execution_count": null,
   "metadata": {},
   "outputs": [],
   "source": []
  },
  {
   "cell_type": "code",
   "execution_count": null,
   "metadata": {},
   "outputs": [],
   "source": []
  },
  {
   "cell_type": "code",
   "execution_count": 11,
   "metadata": {},
   "outputs": [
    {
     "name": "stdout",
     "output_type": "stream",
     "text": [
      "R squared:  0.8751179476994354 0.745942796101409\n",
      "MSE:  26331.353225424056 53567.905492270176\n"
     ]
    }
   ],
   "source": [
    "X31 = credit[['Rating', 'Income']].values\n",
    "lr31 = LinearRegression()\n",
    "lr31.fit(X31,y)\n",
    "score31 = lr31.score(X31,y)\n",
    "mse31 = mse(y, lr31.predict(X31))\n",
    "\n",
    "X32 = credit[['Rating', 'Limit']].values\n",
    "lr32 = LinearRegression()\n",
    "lr32.fit(X32,y)\n",
    "score32 = lr32.score(X32,y)\n",
    "mse32 = mse(y, lr32.predict(X32))\n",
    "\n",
    "print(\"R squared: \", score31, score32)\n",
    "print(\"MSE: \", mse31, mse32)"
   ]
  },
  {
   "cell_type": "code",
   "execution_count": 12,
   "metadata": {},
   "outputs": [
    {
     "name": "stdout",
     "output_type": "stream",
     "text": [
      "R squared:  0.8762389456262863\n",
      "MSE:  26094.99105941933\n"
     ]
    }
   ],
   "source": [
    "# Last step is to fit the full model\n",
    "X_full = credit[['Rating', 'Income', 'Limit']].values\n",
    "lr_full = LinearRegression()\n",
    "lr_full.fit(X_full,y)\n",
    "score_full = lr_full.score(X_full,y)\n",
    "mse_full = mse(y, lr_full.predict(X_full))\n",
    "\n",
    "print(\"R squared: \", score_full)\n",
    "print(\"MSE: \", mse_full)"
   ]
  },
  {
   "cell_type": "markdown",
   "metadata": {},
   "source": [
    "# Ridge Regression"
   ]
  },
  {
   "cell_type": "code",
   "execution_count": 13,
   "metadata": {},
   "outputs": [],
   "source": [
    "from sklearn.linear_model import Ridge\n",
    "\n",
    "y = credit['Balance'].values\n",
    "X = credit[['Income', 'Limit', 'Rating', 'Cards', \\\n",
    "            'Age', 'Education']].values"
   ]
  },
  {
   "cell_type": "code",
   "execution_count": 14,
   "metadata": {},
   "outputs": [
    {
     "name": "stdout",
     "output_type": "stream",
     "text": [
      "Average income:  45.21888499999999\n",
      "Variance of incomes:  1239.053393956775\n"
     ]
    }
   ],
   "source": [
    "X_income = credit[['Income']].values\n",
    "print(\"Average income: \", np.mean(X_income))\n",
    "print(\"Variance of incomes: \", np.var(X_income))"
   ]
  },
  {
   "cell_type": "code",
   "execution_count": 15,
   "metadata": {},
   "outputs": [
    {
     "name": "stdout",
     "output_type": "stream",
     "text": [
      "Intercept:  -477.95808839983613\n",
      "Coefficients:  [-7.55803661  0.12585115  2.06310071 11.59155799 -0.89239775  1.99828255]\n"
     ]
    }
   ],
   "source": [
    "# First, let us fit a linear regression without penalization\n",
    "# zero penalization gives the least squares\n",
    "rr0 = Ridge(alpha=0, normalize=True)\n",
    "rr0.fit(X, y)\n",
    "print(\"Intercept: \", rr0.intercept_)\n",
    "print(\"Coefficients: \", rr0.coef_)"
   ]
  },
  {
   "cell_type": "code",
   "execution_count": 16,
   "metadata": {},
   "outputs": [
    {
     "name": "stdout",
     "output_type": "stream",
     "text": [
      "Intercept:  -56.8367933583811\n",
      "Coefficients:  [ 0.10519771  0.05699576  0.85183754 11.72359138 -0.79346882  0.69386273]\n"
     ]
    }
   ],
   "source": [
    "# Now, let us add some regularization\n",
    "rr1 = Ridge(alpha=1, normalize=True)\n",
    "rr1.fit(X, y) \n",
    "print(\"Intercept: \", rr1.intercept_)\n",
    "print(\"Coefficients: \", rr1.coef_)"
   ]
  },
  {
   "cell_type": "code",
   "execution_count": 17,
   "metadata": {},
   "outputs": [
    {
     "name": "stdout",
     "output_type": "stream",
     "text": [
      "Intercept:  357.198944858671\n",
      "Coefficients:  [ 0.41931777  0.01388281  0.20758999  2.51973532 -0.04449025 -0.04058844]\n"
     ]
    }
   ],
   "source": [
    "# Now, let us add some more regularization\n",
    "rr10 = Ridge(alpha=10, normalize=True)\n",
    "rr10.fit(X, y) \n",
    "print(\"Intercept: \", rr10.intercept_)\n",
    "print(\"Coefficients: \", rr10.coef_)"
   ]
  },
  {
   "cell_type": "markdown",
   "metadata": {
    "collapsed": true
   },
   "source": [
    "### Cross-validation\n",
    "Tuning a good penalization constant is like tuning finding the model size is linear regression. Let's use cross-validation."
   ]
  },
  {
   "cell_type": "code",
   "execution_count": 18,
   "metadata": {},
   "outputs": [],
   "source": [
    "from sklearn.linear_model import RidgeCV\n",
    "alpha_values = np.linspace(0.001, 0.009, num= 100)\n",
    "#print(alpha_values)"
   ]
  },
  {
   "cell_type": "code",
   "execution_count": 19,
   "metadata": {},
   "outputs": [
    {
     "data": {
      "text/plain": [
       "RidgeCV(alphas=array([0.001  , 0.00108, ..., 0.00892, 0.009  ]), cv=None,\n",
       "    fit_intercept=True, gcv_mode=None, normalize=True, scoring=None,\n",
       "    store_cv_values=True)"
      ]
     },
     "execution_count": 19,
     "metadata": {},
     "output_type": "execute_result"
    }
   ],
   "source": [
    "rrcv = RidgeCV(alphas=alpha_values, normalize = True, \\\n",
    "               store_cv_values = True)\n",
    "rrcv.fit(X, y)"
   ]
  },
  {
   "cell_type": "markdown",
   "metadata": {},
   "source": [
    "### Visualize\n",
    "It is easy to track cross validation error versus the penalization parameter."
   ]
  },
  {
   "cell_type": "code",
   "execution_count": 20,
   "metadata": {},
   "outputs": [],
   "source": [
    "cv_values = np.mean(rrcv.cv_values_, axis=0)"
   ]
  },
  {
   "cell_type": "code",
   "execution_count": null,
   "metadata": {},
   "outputs": [],
   "source": []
  },
  {
   "cell_type": "code",
   "execution_count": 21,
   "metadata": {},
   "outputs": [
    {
     "data": {
      "image/png": "[encoded data removed]",
      "text/plain": [
       "<Figure size 432x288 with 1 Axes>"
      ]
     },
     "metadata": {
      "needs_background": "light"
     },
     "output_type": "display_data"
    }
   ],
   "source": [
    "import matplotlib.pyplot as plt\n",
    "plt.plot(alpha_values, cv_values);"
   ]
  },
  {
   "cell_type": "code",
   "execution_count": 22,
   "metadata": {},
   "outputs": [
    {
     "name": "stdout",
     "output_type": "stream",
     "text": [
      "Best regularization parameter: 0.00504040404040404\n",
      "Coefficients are: [-7.36161044  0.12886594  1.97293588 12.12368269 -0.91721324  1.97997961]\n",
      "R Squared: 0.8781507135063685\n"
     ]
    }
   ],
   "source": [
    "print(\"Best regularization parameter:\", rrcv.alpha_)\n",
    "print(\"Coefficients are:\", rrcv.coef_)\n",
    "print(\"R Squared:\", rrcv.score(X,y))"
   ]
  },
  {
   "cell_type": "markdown",
   "metadata": {},
   "source": [
    "# Lasso Regression\n",
    "Fitting lasso is similar to Ridge. \n",
    "\n"
   ]
  },
  {
   "cell_type": "code",
   "execution_count": 23,
   "metadata": {},
   "outputs": [
    {
     "name": "stdout",
     "output_type": "stream",
     "text": [
      "Intercept:  -462.54035095290453\n",
      "Coefficients:  [-7.30301856  0.12077335  2.07902783 10.12051221 -0.8084017   1.33796089]\n"
     ]
    }
   ],
   "source": [
    "from sklearn.linear_model import Lasso\n",
    "\n",
    "# Now, let us use the lasso regularization\n",
    "lasso1 = Lasso(alpha=0.1, normalize=True)\n",
    "lasso1.fit(X, y) \n",
    "print(\"Intercept: \", lasso1.intercept_)\n",
    "print(\"Coefficients: \", lasso1.coef_)"
   ]
  },
  {
   "cell_type": "code",
   "execution_count": 24,
   "metadata": {},
   "outputs": [
    {
     "name": "stdout",
     "output_type": "stream",
     "text": [
      "Intercept:  -423.62840736780265\n",
      "Coefficients:  [-6.27891883  0.08647989  2.35118828  3.38049496 -0.47592634  0.        ]\n"
     ]
    }
   ],
   "source": [
    "# Now, let us use the lasso with a larger regularization constant\n",
    "lasso2 = Lasso(alpha=0.5, normalize=True)\n",
    "lasso2.fit(X, y) \n",
    "print(\"Intercept: \", lasso2.intercept_)\n",
    "print(\"Coefficients: \", lasso2.coef_)"
   ]
  },
  {
   "cell_type": "code",
   "execution_count": 25,
   "metadata": {},
   "outputs": [],
   "source": [
    "from sklearn.linear_model import LassoCV"
   ]
  },
  {
   "cell_type": "markdown",
   "metadata": {},
   "source": [
    "### Cross-validation\n",
    "The penalization value needs to be estimated. Like the ridge regression we use cross validation to estimate it."
   ]
  },
  {
   "cell_type": "code",
   "execution_count": 26,
   "metadata": {},
   "outputs": [
    {
     "data": {
      "text/plain": [
       "LassoCV(alphas=array([0.003  , 0.00317, ..., 0.01983, 0.02   ]), copy_X=True,\n",
       "    cv=10, eps=0.001, fit_intercept=True, max_iter=1000, n_alphas=100,\n",
       "    n_jobs=None, normalize=True, positive=False, precompute='auto',\n",
       "    random_state=None, selection='cyclic', tol=0.0001, verbose=False)"
      ]
     },
     "execution_count": 26,
     "metadata": {},
     "output_type": "execute_result"
    }
   ],
   "source": [
    "alpha_values = np.linspace(0.003, 0.020, num= 100)\n",
    "\n",
    "lrcv = LassoCV(alphas = alpha_values, cv = 10, normalize = True)\n",
    "lrcv.fit(X, y)"
   ]
  },
  {
   "cell_type": "code",
   "execution_count": 27,
   "metadata": {},
   "outputs": [
    {
     "data": {
      "image/png": "[encoded data removed]",
      "text/plain": [
       "<Figure size 432x288 with 1 Axes>"
      ]
     },
     "metadata": {
      "needs_background": "light"
     },
     "output_type": "display_data"
    }
   ],
   "source": [
    "cv_values = np.mean(lrcv.mse_path_, axis=1)\n",
    "alpha_values = lrcv.alphas_\n",
    "plt.plot(alpha_values, cv_values);"
   ]
  },
  {
   "cell_type": "code",
   "execution_count": 28,
   "metadata": {},
   "outputs": [
    {
     "name": "stdout",
     "output_type": "stream",
     "text": [
      "Best regularization parameter: 0.010727272727272728\n",
      "Coefficients are: [-7.5310053   0.12805478  2.02389439 11.6308926  -0.88317945  1.9185175 ]\n",
      "R Squared: 0.8782422194861159\n"
     ]
    }
   ],
   "source": [
    "print(\"Best regularization parameter:\", lrcv.alpha_)\n",
    "print(\"Coefficients are:\", lrcv.coef_)\n",
    "print(\"R Squared:\", lrcv.score(X,y))"
   ]
  },
  {
   "cell_type": "code",
   "execution_count": 29,
   "metadata": {},
   "outputs": [],
   "source": [
    "#THE END"
   ]
  }
 ],
 "metadata": {
  "anaconda-cloud": {},
  "kernelspec": {
   "display_name": "Python 3",
   "language": "python",
   "name": "python3"
  },
  "language_info": {
   "codemirror_mode": {
    "name": "ipython",
    "version": 3
   },
   "file_extension": ".py",
   "mimetype": "text/x-python",
   "name": "python",
   "nbconvert_exporter": "python",
   "pygments_lexer": "ipython3",
   "version": "3.7.1"
  }
 },
 "nbformat": 4,
 "nbformat_minor": 2
}
