{
 "cells": [
  {
   "cell_type": "markdown",
   "metadata": {},
   "source": [
    "# Tree-Based Methods\n",
    "\n",
    "\n",
    "\n",
    "\n",
    "\n",
    "\n",
    "\n",
    "\n",
    "\n",
    "\n",
    "\n"
   ]
  },
  {
   "cell_type": "markdown",
   "metadata": {},
   "source": [
    "### Load file\n",
    "Commonly two libraries are used to load a csv files.\n",
    "- numpy function `np.loadtext` and `np.genfromtext ` \n",
    "- pandas function `pd.read_csv`\n",
    "\n",
    "Here we prefer using pandas"
   ]
  },
  {
   "cell_type": "code",
   "execution_count": 1,
   "metadata": {},
   "outputs": [
    {
     "ename": "ModuleNotFoundError",
     "evalue": "No module named 'graphviz'",
     "output_type": "error",
     "traceback": [
      "\u001b[0;31m---------------------------------------------------------------------------\u001b[0m",
      "\u001b[0;31mModuleNotFoundError\u001b[0m                       Traceback (most recent call last)",
      "\u001b[0;32m<ipython-input-1-53833b047bec>\u001b[0m in \u001b[0;36m<module>\u001b[0;34m\u001b[0m\n\u001b[1;32m      7\u001b[0m \u001b[0;31m# run this line in the command line:\u001b[0m\u001b[0;34m\u001b[0m\u001b[0;34m\u001b[0m\u001b[0;34m\u001b[0m\u001b[0m\n\u001b[1;32m      8\u001b[0m \u001b[0;31m#conda install python-graphviz\u001b[0m\u001b[0;34m\u001b[0m\u001b[0;34m\u001b[0m\u001b[0;34m\u001b[0m\u001b[0m\n\u001b[0;32m----> 9\u001b[0;31m \u001b[0;32mimport\u001b[0m \u001b[0mgraphviz\u001b[0m\u001b[0;34m\u001b[0m\u001b[0;34m\u001b[0m\u001b[0m\n\u001b[0m\u001b[1;32m     10\u001b[0m \u001b[0;34m\u001b[0m\u001b[0m\n\u001b[1;32m     11\u001b[0m \u001b[0mget_ipython\u001b[0m\u001b[0;34m(\u001b[0m\u001b[0;34m)\u001b[0m\u001b[0;34m.\u001b[0m\u001b[0mrun_line_magic\u001b[0m\u001b[0;34m(\u001b[0m\u001b[0;34m'matplotlib'\u001b[0m\u001b[0;34m,\u001b[0m \u001b[0;34m'inline'\u001b[0m\u001b[0;34m)\u001b[0m\u001b[0;34m\u001b[0m\u001b[0;34m\u001b[0m\u001b[0m\n",
      "\u001b[0;31mModuleNotFoundError\u001b[0m: No module named 'graphviz'"
     ]
    }
   ],
   "source": [
    "import pandas as pd\n",
    "import numpy as np\n",
    "import matplotlib as mpl\n",
    "import matplotlib.pyplot as plt\n",
    "# you need to install graphviz-python from Anaconda, \n",
    "#it is not installed by default.\n",
    "# run this line in the command line: \n",
    "#conda install python-graphviz\n",
    "import graphviz\n",
    "\n",
    "%matplotlib inline"
   ]
  },
  {
   "cell_type": "code",
   "execution_count": 2,
   "metadata": {
    "scrolled": true
   },
   "outputs": [],
   "source": [
    "path='data/'\n",
    "filename = path+'spamdata.csv'\n",
    "df1 = pd.read_csv(filename)"
   ]
  },
  {
   "cell_type": "code",
   "execution_count": 3,
   "metadata": {},
   "outputs": [
    {
     "data": {
      "text/html": [
       "<div>\n",
       "<style scoped>\n",
       "    .dataframe tbody tr th:only-of-type {\n",
       "        vertical-align: middle;\n",
       "    }\n",
       "\n",
       "    .dataframe tbody tr th {\n",
       "        vertical-align: top;\n",
       "    }\n",
       "\n",
       "    .dataframe thead th {\n",
       "        text-align: right;\n",
       "    }\n",
       "</style>\n",
       "<table border=\"1\" class=\"dataframe\">\n",
       "  <thead>\n",
       "    <tr style=\"text-align: right;\">\n",
       "      <th></th>\n",
       "      <th>make</th>\n",
       "      <th>address</th>\n",
       "      <th>all</th>\n",
       "      <th>3d</th>\n",
       "      <th>our</th>\n",
       "      <th>over</th>\n",
       "      <th>remove</th>\n",
       "      <th>internet</th>\n",
       "      <th>order</th>\n",
       "      <th>mail</th>\n",
       "      <th>...</th>\n",
       "      <th>semicol</th>\n",
       "      <th>parentheses</th>\n",
       "      <th>backet</th>\n",
       "      <th>exclamation</th>\n",
       "      <th>dollar</th>\n",
       "      <th>sharp</th>\n",
       "      <th>length_average</th>\n",
       "      <th>length_longest</th>\n",
       "      <th>length_total</th>\n",
       "      <th>spam</th>\n",
       "    </tr>\n",
       "  </thead>\n",
       "  <tbody>\n",
       "    <tr>\n",
       "      <th>0</th>\n",
       "      <td>0.00</td>\n",
       "      <td>0.64</td>\n",
       "      <td>0.64</td>\n",
       "      <td>0.0</td>\n",
       "      <td>0.32</td>\n",
       "      <td>0.00</td>\n",
       "      <td>0.00</td>\n",
       "      <td>0.00</td>\n",
       "      <td>0.00</td>\n",
       "      <td>0.00</td>\n",
       "      <td>...</td>\n",
       "      <td>0.00</td>\n",
       "      <td>0.000</td>\n",
       "      <td>0.0</td>\n",
       "      <td>0.778</td>\n",
       "      <td>0.000</td>\n",
       "      <td>0.000</td>\n",
       "      <td>3.756</td>\n",
       "      <td>61</td>\n",
       "      <td>278</td>\n",
       "      <td>1</td>\n",
       "    </tr>\n",
       "    <tr>\n",
       "      <th>1</th>\n",
       "      <td>0.21</td>\n",
       "      <td>0.28</td>\n",
       "      <td>0.50</td>\n",
       "      <td>0.0</td>\n",
       "      <td>0.14</td>\n",
       "      <td>0.28</td>\n",
       "      <td>0.21</td>\n",
       "      <td>0.07</td>\n",
       "      <td>0.00</td>\n",
       "      <td>0.94</td>\n",
       "      <td>...</td>\n",
       "      <td>0.00</td>\n",
       "      <td>0.132</td>\n",
       "      <td>0.0</td>\n",
       "      <td>0.372</td>\n",
       "      <td>0.180</td>\n",
       "      <td>0.048</td>\n",
       "      <td>5.114</td>\n",
       "      <td>101</td>\n",
       "      <td>1028</td>\n",
       "      <td>1</td>\n",
       "    </tr>\n",
       "    <tr>\n",
       "      <th>2</th>\n",
       "      <td>0.06</td>\n",
       "      <td>0.00</td>\n",
       "      <td>0.71</td>\n",
       "      <td>0.0</td>\n",
       "      <td>1.23</td>\n",
       "      <td>0.19</td>\n",
       "      <td>0.19</td>\n",
       "      <td>0.12</td>\n",
       "      <td>0.64</td>\n",
       "      <td>0.25</td>\n",
       "      <td>...</td>\n",
       "      <td>0.01</td>\n",
       "      <td>0.143</td>\n",
       "      <td>0.0</td>\n",
       "      <td>0.276</td>\n",
       "      <td>0.184</td>\n",
       "      <td>0.010</td>\n",
       "      <td>9.821</td>\n",
       "      <td>485</td>\n",
       "      <td>2259</td>\n",
       "      <td>1</td>\n",
       "    </tr>\n",
       "    <tr>\n",
       "      <th>3</th>\n",
       "      <td>0.00</td>\n",
       "      <td>0.00</td>\n",
       "      <td>0.00</td>\n",
       "      <td>0.0</td>\n",
       "      <td>0.63</td>\n",
       "      <td>0.00</td>\n",
       "      <td>0.31</td>\n",
       "      <td>0.63</td>\n",
       "      <td>0.31</td>\n",
       "      <td>0.63</td>\n",
       "      <td>...</td>\n",
       "      <td>0.00</td>\n",
       "      <td>0.137</td>\n",
       "      <td>0.0</td>\n",
       "      <td>0.137</td>\n",
       "      <td>0.000</td>\n",
       "      <td>0.000</td>\n",
       "      <td>3.537</td>\n",
       "      <td>40</td>\n",
       "      <td>191</td>\n",
       "      <td>1</td>\n",
       "    </tr>\n",
       "    <tr>\n",
       "      <th>4</th>\n",
       "      <td>0.00</td>\n",
       "      <td>0.00</td>\n",
       "      <td>0.00</td>\n",
       "      <td>0.0</td>\n",
       "      <td>0.63</td>\n",
       "      <td>0.00</td>\n",
       "      <td>0.31</td>\n",
       "      <td>0.63</td>\n",
       "      <td>0.31</td>\n",
       "      <td>0.63</td>\n",
       "      <td>...</td>\n",
       "      <td>0.00</td>\n",
       "      <td>0.135</td>\n",
       "      <td>0.0</td>\n",
       "      <td>0.135</td>\n",
       "      <td>0.000</td>\n",
       "      <td>0.000</td>\n",
       "      <td>3.537</td>\n",
       "      <td>40</td>\n",
       "      <td>191</td>\n",
       "      <td>1</td>\n",
       "    </tr>\n",
       "  </tbody>\n",
       "</table>\n",
       "<p>5 rows × 58 columns</p>\n",
       "</div>"
      ],
      "text/plain": [
       "   make   address   all   3d   our   over   remove   internet   order   mail  \\\n",
       "0  0.00      0.64  0.64  0.0  0.32   0.00     0.00       0.00    0.00   0.00   \n",
       "1  0.21      0.28  0.50  0.0  0.14   0.28     0.21       0.07    0.00   0.94   \n",
       "2  0.06      0.00  0.71  0.0  1.23   0.19     0.19       0.12    0.64   0.25   \n",
       "3  0.00      0.00  0.00  0.0  0.63   0.00     0.31       0.63    0.31   0.63   \n",
       "4  0.00      0.00  0.00  0.0  0.63   0.00     0.31       0.63    0.31   0.63   \n",
       "\n",
       "   ...   semicol   parentheses   backet   exclamation   dollar   sharp  \\\n",
       "0  ...      0.00         0.000      0.0         0.778    0.000   0.000   \n",
       "1  ...      0.00         0.132      0.0         0.372    0.180   0.048   \n",
       "2  ...      0.01         0.143      0.0         0.276    0.184   0.010   \n",
       "3  ...      0.00         0.137      0.0         0.137    0.000   0.000   \n",
       "4  ...      0.00         0.135      0.0         0.135    0.000   0.000   \n",
       "\n",
       "    length_average   length_longest   length_total   spam  \n",
       "0            3.756               61            278      1  \n",
       "1            5.114              101           1028      1  \n",
       "2            9.821              485           2259      1  \n",
       "3            3.537               40            191      1  \n",
       "4            3.537               40            191      1  \n",
       "\n",
       "[5 rows x 58 columns]"
      ]
     },
     "execution_count": 3,
     "metadata": {},
     "output_type": "execute_result"
    }
   ],
   "source": [
    "df1.head()\n",
    "#df1.info()"
   ]
  },
  {
   "cell_type": "markdown",
   "metadata": {},
   "source": [
    "### 1-Fitting Classification Trees\n",
    "The sklearn library has a lot of useful tools for constructing classification and regression trees:"
   ]
  },
  {
   "cell_type": "code",
   "execution_count": 4,
   "metadata": {},
   "outputs": [],
   "source": [
    "from sklearn.model_selection import train_test_split\n",
    "from sklearn.tree import DecisionTreeRegressor, \\\n",
    "                    DecisionTreeClassifier, export_graphviz\n",
    "from sklearn.metrics import confusion_matrix, \\\n",
    "                    mean_squared_error, accuracy_score"
   ]
  },
  {
   "cell_type": "markdown",
   "metadata": {},
   "source": [
    "We'll start by using classification trees to analyze the Spam data set. In order to properly evaluate the performance of a classification tree on the data, we must estimate the test error rather than simply computing the training error. We first split the observations into a training set and a test set:"
   ]
  },
  {
   "cell_type": "code",
   "execution_count": 5,
   "metadata": {},
   "outputs": [],
   "source": [
    "X = df1.iloc[:,:57]\n",
    "y = df1.iloc[:,-1]\n",
    "\n",
    "X_train, X_test, y_train, y_test = \\\n",
    "        train_test_split(X, y, test_size = 0.2, random_state=1)"
   ]
  },
  {
   "cell_type": "code",
   "execution_count": 6,
   "metadata": {},
   "outputs": [
    {
     "data": {
      "text/plain": [
       "0.8611413043478261"
      ]
     },
     "execution_count": 6,
     "metadata": {},
     "output_type": "execute_result"
    }
   ],
   "source": [
    "classification_tree_spam = DecisionTreeClassifier(max_depth = 2)\n",
    "classification_tree_spam.fit(X_train, y_train)\n",
    "classification_tree_spam.score(X_train, y_train)"
   ]
  },
  {
   "cell_type": "code",
   "execution_count": 7,
   "metadata": {},
   "outputs": [
    {
     "data": {
      "image/svg+xml": [
       "<?xml version=\"1.0\" encoding=\"UTF-8\" standalone=\"no\"?>\r\n",
       "<!DOCTYPE svg PUBLIC \"-//W3C//DTD SVG 1.1//EN\"\r\n",
       " \"http://www.w3.org/Graphics/SVG/1.1/DTD/svg11.dtd\">\r\n",
       "<!-- Generated by graphviz version 2.38.0 (20140413.2041)\r\n",
       " -->\r\n",
       "<!-- Title: Tree Pages: 1 -->\r\n",
       "<svg width=\"513pt\" height=\"269pt\"\r\n",
       " viewBox=\"0.00 0.00 512.50 269.00\" xmlns=\"http://www.w3.org/2000/svg\" xmlns:xlink=\"http://www.w3.org/1999/xlink\">\r\n",
       "<g id=\"graph0\" class=\"graph\" transform=\"scale(1 1) rotate(0) translate(4 265)\">\r\n",
       "<title>Tree</title>\r\n",
       "<polygon fill=\"white\" stroke=\"none\" points=\"-4,4 -4,-265 508.5,-265 508.5,4 -4,4\"/>\r\n",
       "<!-- 0 -->\r\n",
       "<g id=\"node1\" class=\"node\"><title>0</title>\r\n",
       "<polygon fill=\"none\" stroke=\"black\" points=\"331,-261 200,-261 200,-193 331,-193 331,-261\"/>\r\n",
       "<text text-anchor=\"middle\" x=\"265.5\" y=\"-245.8\" font-family=\"Times New Roman,serif\" font-size=\"14.00\"> dollar &lt;= 0.056</text>\r\n",
       "<text text-anchor=\"middle\" x=\"265.5\" y=\"-230.8\" font-family=\"Times New Roman,serif\" font-size=\"14.00\">gini = 0.478</text>\r\n",
       "<text text-anchor=\"middle\" x=\"265.5\" y=\"-215.8\" font-family=\"Times New Roman,serif\" font-size=\"14.00\">samples = 3680</text>\r\n",
       "<text text-anchor=\"middle\" x=\"265.5\" y=\"-200.8\" font-family=\"Times New Roman,serif\" font-size=\"14.00\">value = [2224, 1456]</text>\r\n",
       "</g>\r\n",
       "<!-- 1 -->\r\n",
       "<g id=\"node2\" class=\"node\"><title>1</title>\r\n",
       "<polygon fill=\"none\" stroke=\"black\" points=\"258,-157 133,-157 133,-89 258,-89 258,-157\"/>\r\n",
       "<text text-anchor=\"middle\" x=\"195.5\" y=\"-141.8\" font-family=\"Times New Roman,serif\" font-size=\"14.00\"> remove &lt;= 0.055</text>\r\n",
       "<text text-anchor=\"middle\" x=\"195.5\" y=\"-126.8\" font-family=\"Times New Roman,serif\" font-size=\"14.00\">gini = 0.358</text>\r\n",
       "<text text-anchor=\"middle\" x=\"195.5\" y=\"-111.8\" font-family=\"Times New Roman,serif\" font-size=\"14.00\">samples = 2768</text>\r\n",
       "<text text-anchor=\"middle\" x=\"195.5\" y=\"-96.8\" font-family=\"Times New Roman,serif\" font-size=\"14.00\">value = [2121, 647]</text>\r\n",
       "</g>\r\n",
       "<!-- 0&#45;&gt;1 -->\r\n",
       "<g id=\"edge1\" class=\"edge\"><title>0&#45;&gt;1</title>\r\n",
       "<path fill=\"none\" stroke=\"black\" d=\"M242.773,-192.884C236.843,-184.243 230.376,-174.819 224.181,-165.793\"/>\r\n",
       "<polygon fill=\"black\" stroke=\"black\" points=\"226.897,-163.564 218.353,-157.299 221.125,-167.525 226.897,-163.564\"/>\r\n",
       "<text text-anchor=\"middle\" x=\"213.78\" y=\"-178.178\" font-family=\"Times New Roman,serif\" font-size=\"14.00\">True</text>\r\n",
       "</g>\r\n",
       "<!-- 4 -->\r\n",
       "<g id=\"node5\" class=\"node\"><title>4</title>\r\n",
       "<polygon fill=\"none\" stroke=\"black\" points=\"394.5,-157 276.5,-157 276.5,-89 394.5,-89 394.5,-157\"/>\r\n",
       "<text text-anchor=\"middle\" x=\"335.5\" y=\"-141.8\" font-family=\"Times New Roman,serif\" font-size=\"14.00\"> hp &lt;= 0.4</text>\r\n",
       "<text text-anchor=\"middle\" x=\"335.5\" y=\"-126.8\" font-family=\"Times New Roman,serif\" font-size=\"14.00\">gini = 0.2</text>\r\n",
       "<text text-anchor=\"middle\" x=\"335.5\" y=\"-111.8\" font-family=\"Times New Roman,serif\" font-size=\"14.00\">samples = 912</text>\r\n",
       "<text text-anchor=\"middle\" x=\"335.5\" y=\"-96.8\" font-family=\"Times New Roman,serif\" font-size=\"14.00\">value = [103, 809]</text>\r\n",
       "</g>\r\n",
       "<!-- 0&#45;&gt;4 -->\r\n",
       "<g id=\"edge4\" class=\"edge\"><title>0&#45;&gt;4</title>\r\n",
       "<path fill=\"none\" stroke=\"black\" d=\"M288.227,-192.884C294.157,-184.243 300.624,-174.819 306.819,-165.793\"/>\r\n",
       "<polygon fill=\"black\" stroke=\"black\" points=\"309.875,-167.525 312.647,-157.299 304.103,-163.564 309.875,-167.525\"/>\r\n",
       "<text text-anchor=\"middle\" x=\"317.22\" y=\"-178.178\" font-family=\"Times New Roman,serif\" font-size=\"14.00\">False</text>\r\n",
       "</g>\r\n",
       "<!-- 2 -->\r\n",
       "<g id=\"node3\" class=\"node\"><title>2</title>\r\n",
       "<polygon fill=\"none\" stroke=\"black\" points=\"125,-53 0,-53 0,-0 125,-0 125,-53\"/>\r\n",
       "<text text-anchor=\"middle\" x=\"62.5\" y=\"-37.8\" font-family=\"Times New Roman,serif\" font-size=\"14.00\">gini = 0.279</text>\r\n",
       "<text text-anchor=\"middle\" x=\"62.5\" y=\"-22.8\" font-family=\"Times New Roman,serif\" font-size=\"14.00\">samples = 2515</text>\r\n",
       "<text text-anchor=\"middle\" x=\"62.5\" y=\"-7.8\" font-family=\"Times New Roman,serif\" font-size=\"14.00\">value = [2094, 421]</text>\r\n",
       "</g>\r\n",
       "<!-- 1&#45;&gt;2 -->\r\n",
       "<g id=\"edge2\" class=\"edge\"><title>1&#45;&gt;2</title>\r\n",
       "<path fill=\"none\" stroke=\"black\" d=\"M148.983,-88.9485C135.336,-79.2516 120.45,-68.6752 106.936,-59.073\"/>\r\n",
       "<polygon fill=\"black\" stroke=\"black\" points=\"108.901,-56.1757 98.722,-53.2367 104.847,-61.882 108.901,-56.1757\"/>\r\n",
       "</g>\r\n",
       "<!-- 3 -->\r\n",
       "<g id=\"node4\" class=\"node\"><title>3</title>\r\n",
       "<polygon fill=\"none\" stroke=\"black\" points=\"254,-53 143,-53 143,-0 254,-0 254,-53\"/>\r\n",
       "<text text-anchor=\"middle\" x=\"198.5\" y=\"-37.8\" font-family=\"Times New Roman,serif\" font-size=\"14.00\">gini = 0.191</text>\r\n",
       "<text text-anchor=\"middle\" x=\"198.5\" y=\"-22.8\" font-family=\"Times New Roman,serif\" font-size=\"14.00\">samples = 253</text>\r\n",
       "<text text-anchor=\"middle\" x=\"198.5\" y=\"-7.8\" font-family=\"Times New Roman,serif\" font-size=\"14.00\">value = [27, 226]</text>\r\n",
       "</g>\r\n",
       "<!-- 1&#45;&gt;3 -->\r\n",
       "<g id=\"edge3\" class=\"edge\"><title>1&#45;&gt;3</title>\r\n",
       "<path fill=\"none\" stroke=\"black\" d=\"M196.549,-88.9485C196.811,-80.7153 197.092,-71.848 197.358,-63.4814\"/>\r\n",
       "<polygon fill=\"black\" stroke=\"black\" points=\"200.864,-63.3428 197.683,-53.2367 193.867,-63.1206 200.864,-63.3428\"/>\r\n",
       "</g>\r\n",
       "<!-- 5 -->\r\n",
       "<g id=\"node6\" class=\"node\"><title>5</title>\r\n",
       "<polygon fill=\"none\" stroke=\"black\" points=\"388,-53 277,-53 277,-0 388,-0 388,-53\"/>\r\n",
       "<text text-anchor=\"middle\" x=\"332.5\" y=\"-37.8\" font-family=\"Times New Roman,serif\" font-size=\"14.00\">gini = 0.126</text>\r\n",
       "<text text-anchor=\"middle\" x=\"332.5\" y=\"-22.8\" font-family=\"Times New Roman,serif\" font-size=\"14.00\">samples = 862</text>\r\n",
       "<text text-anchor=\"middle\" x=\"332.5\" y=\"-7.8\" font-family=\"Times New Roman,serif\" font-size=\"14.00\">value = [58, 804]</text>\r\n",
       "</g>\r\n",
       "<!-- 4&#45;&gt;5 -->\r\n",
       "<g id=\"edge5\" class=\"edge\"><title>4&#45;&gt;5</title>\r\n",
       "<path fill=\"none\" stroke=\"black\" d=\"M334.451,-88.9485C334.189,-80.7153 333.908,-71.848 333.642,-63.4814\"/>\r\n",
       "<polygon fill=\"black\" stroke=\"black\" points=\"337.133,-63.1206 333.317,-53.2367 330.136,-63.3428 337.133,-63.1206\"/>\r\n",
       "</g>\r\n",
       "<!-- 6 -->\r\n",
       "<g id=\"node7\" class=\"node\"><title>6</title>\r\n",
       "<polygon fill=\"none\" stroke=\"black\" points=\"504.5,-53 406.5,-53 406.5,-0 504.5,-0 504.5,-53\"/>\r\n",
       "<text text-anchor=\"middle\" x=\"455.5\" y=\"-37.8\" font-family=\"Times New Roman,serif\" font-size=\"14.00\">gini = 0.18</text>\r\n",
       "<text text-anchor=\"middle\" x=\"455.5\" y=\"-22.8\" font-family=\"Times New Roman,serif\" font-size=\"14.00\">samples = 50</text>\r\n",
       "<text text-anchor=\"middle\" x=\"455.5\" y=\"-7.8\" font-family=\"Times New Roman,serif\" font-size=\"14.00\">value = [45, 5]</text>\r\n",
       "</g>\r\n",
       "<!-- 4&#45;&gt;6 -->\r\n",
       "<g id=\"edge6\" class=\"edge\"><title>4&#45;&gt;6</title>\r\n",
       "<path fill=\"none\" stroke=\"black\" d=\"M377.47,-88.9485C389.551,-79.4346 402.708,-69.074 414.716,-59.6175\"/>\r\n",
       "<polygon fill=\"black\" stroke=\"black\" points=\"417.128,-62.1734 422.818,-53.2367 412.797,-56.6739 417.128,-62.1734\"/>\r\n",
       "</g>\r\n",
       "</g>\r\n",
       "</svg>\r\n"
      ],
      "text/plain": [
       "<graphviz.files.Source at 0x1eabf825be0>"
      ]
     },
     "execution_count": 7,
     "metadata": {},
     "output_type": "execute_result"
    }
   ],
   "source": [
    "export_graphviz(classification_tree_spam, \n",
    "                out_file = \"spam_tree.dot\", \n",
    "                feature_names = X_train.columns)\n",
    "\n",
    "with open(\"spam_tree.dot\") as f:\n",
    "    dot_graph = f.read()\n",
    "graphviz.Source(dot_graph)"
   ]
  },
  {
   "cell_type": "markdown",
   "metadata": {},
   "source": [
    "We now use the DecisionTreeClassifier() function to fit a classification tree in order to predict Spam. However, we can limit the depth of a tree using the max_depth parameter:"
   ]
  },
  {
   "cell_type": "markdown",
   "metadata": {},
   "source": [
    "We see that the training accuracy is 86.1%. Now, one of the most attractive properties of trees is that they can be graphically displayed. Unfortunately, this is a bit of a roundabout process in sklearn. We use the export_graphviz() function to export the tree structure to a temporary .dot file, and the graphviz.Source() function to display the image:"
   ]
  },
  {
   "cell_type": "markdown",
   "metadata": {},
   "source": [
    "The most important indicator of spam emails appears to be the word Dollar.\n",
    "\n",
    "Finally, let's evaluate the tree's performance on the test data. The predict() function can be used for this purpose. We can then build a confusion matrix, which shows that we are making correct predictions for around 87.8% of the test data set:"
   ]
  },
  {
   "cell_type": "code",
   "execution_count": 8,
   "metadata": {},
   "outputs": [
    {
     "name": "stdout",
     "output_type": "stream",
     "text": [
      "      No  Yes\n",
      "No   549   97\n",
      "Yes   15  260\n"
     ]
    }
   ],
   "source": [
    "pred = classification_tree_spam.predict(X_test)\n",
    "cm = pd.DataFrame(confusion_matrix(y_test, pred).T, \n",
    "                  index = ['No', 'Yes'], \n",
    "                  columns = ['No', 'Yes'])\n",
    "print(cm)"
   ]
  },
  {
   "cell_type": "code",
   "execution_count": 9,
   "metadata": {},
   "outputs": [
    {
     "data": {
      "text/plain": [
       "0.8783930510314875"
      ]
     },
     "execution_count": 9,
     "metadata": {},
     "output_type": "execute_result"
    }
   ],
   "source": [
    "(549+260)/921"
   ]
  },
  {
   "cell_type": "code",
   "execution_count": 10,
   "metadata": {},
   "outputs": [
    {
     "data": {
      "text/plain": [
       "0.8783930510314875"
      ]
     },
     "execution_count": 10,
     "metadata": {},
     "output_type": "execute_result"
    }
   ],
   "source": [
    "#We can also use accuracy_score function\n",
    "accuracy_score(y_test, pred)"
   ]
  },
  {
   "cell_type": "markdown",
   "metadata": {},
   "source": [
    "Now, let's try different depth of the tree and compare in terms of accuracy on the test set."
   ]
  },
  {
   "cell_type": "code",
   "execution_count": 11,
   "metadata": {},
   "outputs": [
    {
     "data": {
      "text/plain": [
       "0.9196525515743756"
      ]
     },
     "execution_count": 11,
     "metadata": {},
     "output_type": "execute_result"
    }
   ],
   "source": [
    "dt10 = DecisionTreeClassifier(max_depth=10)\n",
    "dt11 = DecisionTreeClassifier(max_depth=11)\n",
    "dt12 = DecisionTreeClassifier(max_depth=12)\n",
    "\n",
    "# you may play with depth and prune the tree in different levels\n",
    "dt10.fit(X_train,y_train)\n",
    "dt11.fit(X_train,y_train)\n",
    "dt12.fit(X_train,y_train)\n",
    "\n",
    "y10_pred = dt10.predict(X_test)\n",
    "y11_pred = dt11.predict(X_test)\n",
    "y12_pred = dt12.predict(X_test)\n",
    "\n",
    "accuracy_score(y_test, y10_pred)"
   ]
  },
  {
   "cell_type": "code",
   "execution_count": 12,
   "metadata": {},
   "outputs": [
    {
     "data": {
      "text/plain": [
       "0.9239956568946797"
      ]
     },
     "execution_count": 12,
     "metadata": {},
     "output_type": "execute_result"
    }
   ],
   "source": [
    "accuracy_score(y_test, y11_pred)"
   ]
  },
  {
   "cell_type": "code",
   "execution_count": 13,
   "metadata": {},
   "outputs": [
    {
     "data": {
      "text/plain": [
       "0.9196525515743756"
      ]
     },
     "execution_count": 13,
     "metadata": {},
     "output_type": "execute_result"
    }
   ],
   "source": [
    "accuracy_score(y_test, y12_pred)"
   ]
  },
  {
   "cell_type": "markdown",
   "metadata": {},
   "source": [
    "### \"Cross-Validation\" for Depth of the Regression Tree"
   ]
  },
  {
   "cell_type": "code",
   "execution_count": 14,
   "metadata": {},
   "outputs": [
    {
     "data": {
      "image/png": "[encoded data removed]",
      "text/plain": [
       "<Figure size 432x288 with 1 Axes>"
      ]
     },
     "metadata": {
      "needs_background": "light"
     },
     "output_type": "display_data"
    }
   ],
   "source": [
    "# Initialize the accuracy_score vector\n",
    "acc_train = []\n",
    "acc_test = []\n",
    "depth = np.arange(1, 25)\n",
    "# Calculate accuracy score on the test set for \n",
    "# different depths of the tree\n",
    "for i in depth:\n",
    "    # Fit the Regression Tree\n",
    "    dt = DecisionTreeClassifier(max_depth=i)\n",
    "    dt.fit(X_train,y_train)\n",
    "    # Predict on the train and test sets\n",
    "    y_pred_train = dt.predict(X_train)\n",
    "    y_pred_test = dt.predict(X_test)\n",
    "    # Compute the accuracy\n",
    "    score_train = accuracy_score(y_train, y_pred_train)\n",
    "    score_test = accuracy_score(y_test, y_pred_test)\n",
    "    acc_train.append(score_train)\n",
    "    acc_test.append(score_test)\n",
    "# Plot results    \n",
    "plt.plot(depth, acc_train, '-', depth, acc_test, '-')\n",
    "plt.xlabel('Depth of the tree')\n",
    "plt.ylabel('Accuracy')\n",
    "plt.title('spam');"
   ]
  },
  {
   "cell_type": "markdown",
   "metadata": {},
   "source": [
    "### Bagging Classifier"
   ]
  },
  {
   "cell_type": "code",
   "execution_count": 15,
   "metadata": {},
   "outputs": [
    {
     "data": {
      "text/plain": [
       "0.9698369565217392"
      ]
     },
     "execution_count": 15,
     "metadata": {},
     "output_type": "execute_result"
    }
   ],
   "source": [
    "#X = df1.iloc[:,:57]\n",
    "#y = df1.iloc[:,-1]\n",
    "\n",
    "#X_train, X_test, y_train, y_test = train_test_split(X, y, test_size = 0.2, random_state=1)\n",
    "\n",
    "classification_tree_spam = DecisionTreeClassifier(max_depth = 10)\n",
    "\n",
    "from sklearn.ensemble import BaggingClassifier\n",
    "bag = BaggingClassifier(classification_tree_spam, n_estimators=100, \\\n",
    "                        random_state=1)\n",
    "bag.fit(X_train, y_train)\n",
    "\n",
    "y_hat = bag.predict(X_train)\n",
    "accuracy_score(y_train, y_hat)"
   ]
  },
  {
   "cell_type": "code",
   "execution_count": 16,
   "metadata": {},
   "outputs": [
    {
     "data": {
      "text/plain": [
       "0.9446254071661238"
      ]
     },
     "execution_count": 16,
     "metadata": {},
     "output_type": "execute_result"
    }
   ],
   "source": [
    "y_hat = bag.predict(X_test)\n",
    "accuracy_score(y_test, y_hat)"
   ]
  },
  {
   "cell_type": "markdown",
   "metadata": {},
   "source": [
    "### Random Forest Classifier"
   ]
  },
  {
   "cell_type": "code",
   "execution_count": 17,
   "metadata": {},
   "outputs": [
    {
     "data": {
      "text/plain": [
       "0.967391304347826"
      ]
     },
     "execution_count": 17,
     "metadata": {},
     "output_type": "execute_result"
    }
   ],
   "source": [
    "from sklearn.ensemble import RandomForestClassifier\n",
    "rf = RandomForestClassifier(n_estimators=100, max_depth=10, \\\n",
    "                            random_state=1)\n",
    "rf.fit(X_train, y_train)\n",
    "y_rf_train = rf.predict(X_train)\n",
    "accuracy_score(y_train, y_rf_train)"
   ]
  },
  {
   "cell_type": "code",
   "execution_count": 18,
   "metadata": {},
   "outputs": [
    {
     "data": {
      "text/plain": [
       "0.9500542888165038"
      ]
     },
     "execution_count": 18,
     "metadata": {},
     "output_type": "execute_result"
    }
   ],
   "source": [
    "y_rf_test = rf.predict(X_test)\n",
    "accuracy_score(y_test, y_rf_test)"
   ]
  },
  {
   "cell_type": "markdown",
   "metadata": {},
   "source": [
    "## 2-Fitting Regression Trees"
   ]
  },
  {
   "cell_type": "code",
   "execution_count": 19,
   "metadata": {},
   "outputs": [],
   "source": [
    "path='data/'\n",
    "filename = path+'Auto.csv'\n",
    "df2 = pd.read_csv(filename, na_values=['?'], na_filter=True)\n",
    "df2 = df2.dropna() #Removes the whole raw if 1 missing value"
   ]
  },
  {
   "cell_type": "code",
   "execution_count": 20,
   "metadata": {},
   "outputs": [
    {
     "data": {
      "text/html": [
       "<div>\n",
       "<style scoped>\n",
       "    .dataframe tbody tr th:only-of-type {\n",
       "        vertical-align: middle;\n",
       "    }\n",
       "\n",
       "    .dataframe tbody tr th {\n",
       "        vertical-align: top;\n",
       "    }\n",
       "\n",
       "    .dataframe thead th {\n",
       "        text-align: right;\n",
       "    }\n",
       "</style>\n",
       "<table border=\"1\" class=\"dataframe\">\n",
       "  <thead>\n",
       "    <tr style=\"text-align: right;\">\n",
       "      <th></th>\n",
       "      <th>mpg</th>\n",
       "      <th>cylinders</th>\n",
       "      <th>displacement</th>\n",
       "      <th>horsepower</th>\n",
       "      <th>weight</th>\n",
       "      <th>acceleration</th>\n",
       "      <th>year</th>\n",
       "      <th>origin</th>\n",
       "      <th>name</th>\n",
       "    </tr>\n",
       "  </thead>\n",
       "  <tbody>\n",
       "    <tr>\n",
       "      <th>0</th>\n",
       "      <td>18.0</td>\n",
       "      <td>8</td>\n",
       "      <td>307.0</td>\n",
       "      <td>130.0</td>\n",
       "      <td>3504</td>\n",
       "      <td>12.0</td>\n",
       "      <td>70</td>\n",
       "      <td>1</td>\n",
       "      <td>chevrolet chevelle malibu</td>\n",
       "    </tr>\n",
       "    <tr>\n",
       "      <th>1</th>\n",
       "      <td>15.0</td>\n",
       "      <td>8</td>\n",
       "      <td>350.0</td>\n",
       "      <td>165.0</td>\n",
       "      <td>3693</td>\n",
       "      <td>11.5</td>\n",
       "      <td>70</td>\n",
       "      <td>1</td>\n",
       "      <td>buick skylark 320</td>\n",
       "    </tr>\n",
       "    <tr>\n",
       "      <th>2</th>\n",
       "      <td>18.0</td>\n",
       "      <td>8</td>\n",
       "      <td>318.0</td>\n",
       "      <td>150.0</td>\n",
       "      <td>3436</td>\n",
       "      <td>11.0</td>\n",
       "      <td>70</td>\n",
       "      <td>1</td>\n",
       "      <td>plymouth satellite</td>\n",
       "    </tr>\n",
       "    <tr>\n",
       "      <th>3</th>\n",
       "      <td>16.0</td>\n",
       "      <td>8</td>\n",
       "      <td>304.0</td>\n",
       "      <td>150.0</td>\n",
       "      <td>3433</td>\n",
       "      <td>12.0</td>\n",
       "      <td>70</td>\n",
       "      <td>1</td>\n",
       "      <td>amc rebel sst</td>\n",
       "    </tr>\n",
       "    <tr>\n",
       "      <th>4</th>\n",
       "      <td>17.0</td>\n",
       "      <td>8</td>\n",
       "      <td>302.0</td>\n",
       "      <td>140.0</td>\n",
       "      <td>3449</td>\n",
       "      <td>10.5</td>\n",
       "      <td>70</td>\n",
       "      <td>1</td>\n",
       "      <td>ford torino</td>\n",
       "    </tr>\n",
       "  </tbody>\n",
       "</table>\n",
       "</div>"
      ],
      "text/plain": [
       "    mpg  cylinders  displacement  horsepower  weight  acceleration  year  \\\n",
       "0  18.0          8         307.0       130.0    3504          12.0    70   \n",
       "1  15.0          8         350.0       165.0    3693          11.5    70   \n",
       "2  18.0          8         318.0       150.0    3436          11.0    70   \n",
       "3  16.0          8         304.0       150.0    3433          12.0    70   \n",
       "4  17.0          8         302.0       140.0    3449          10.5    70   \n",
       "\n",
       "   origin                       name  \n",
       "0       1  chevrolet chevelle malibu  \n",
       "1       1          buick skylark 320  \n",
       "2       1         plymouth satellite  \n",
       "3       1              amc rebel sst  \n",
       "4       1                ford torino  "
      ]
     },
     "execution_count": 20,
     "metadata": {},
     "output_type": "execute_result"
    }
   ],
   "source": [
    "df2.head()"
   ]
  },
  {
   "cell_type": "code",
   "execution_count": 21,
   "metadata": {},
   "outputs": [],
   "source": [
    "X = df2[['cylinders', 'displacement', 'horsepower', \\\n",
    "         'weight', 'acceleration']]\n",
    "y = df2['mpg']\n",
    "X_train, X_test, y_train, y_test = \\\n",
    "    train_test_split(X, y, test_size = 0.2, random_state = 0)"
   ]
  },
  {
   "cell_type": "code",
   "execution_count": 22,
   "metadata": {},
   "outputs": [
    {
     "data": {
      "text/plain": [
       "DecisionTreeRegressor(criterion='mse', max_depth=2, max_features=None,\n",
       "           max_leaf_nodes=None, min_impurity_decrease=0.0,\n",
       "           min_impurity_split=None, min_samples_leaf=1,\n",
       "           min_samples_split=2, min_weight_fraction_leaf=0.0,\n",
       "           presort=False, random_state=None, splitter='best')"
      ]
     },
     "execution_count": 22,
     "metadata": {},
     "output_type": "execute_result"
    }
   ],
   "source": [
    "regr_tree_auto = DecisionTreeRegressor(max_depth = 2)\n",
    "regr_tree_auto.fit(X_train, y_train)"
   ]
  },
  {
   "cell_type": "markdown",
   "metadata": {},
   "source": [
    "Let's take a look at the tree:"
   ]
  },
  {
   "cell_type": "code",
   "execution_count": 23,
   "metadata": {},
   "outputs": [
    {
     "data": {
      "image/svg+xml": [
       "<?xml version=\"1.0\" encoding=\"UTF-8\" standalone=\"no\"?>\r\n",
       "<!DOCTYPE svg PUBLIC \"-//W3C//DTD SVG 1.1//EN\"\r\n",
       " \"http://www.w3.org/Graphics/SVG/1.1/DTD/svg11.dtd\">\r\n",
       "<!-- Generated by graphviz version 2.38.0 (20140413.2041)\r\n",
       " -->\r\n",
       "<!-- Title: Tree Pages: 1 -->\r\n",
       "<svg width=\"466pt\" height=\"269pt\"\r\n",
       " viewBox=\"0.00 0.00 466.00 269.00\" xmlns=\"http://www.w3.org/2000/svg\" xmlns:xlink=\"http://www.w3.org/1999/xlink\">\r\n",
       "<g id=\"graph0\" class=\"graph\" transform=\"scale(1 1) rotate(0) translate(4 265)\">\r\n",
       "<title>Tree</title>\r\n",
       "<polygon fill=\"white\" stroke=\"none\" points=\"-4,4 -4,-265 462,-265 462,4 -4,4\"/>\r\n",
       "<!-- 0 -->\r\n",
       "<g id=\"node1\" class=\"node\"><title>0</title>\r\n",
       "<polygon fill=\"none\" stroke=\"black\" points=\"280,-261 172,-261 172,-193 280,-193 280,-261\"/>\r\n",
       "<text text-anchor=\"middle\" x=\"226\" y=\"-245.8\" font-family=\"Times New Roman,serif\" font-size=\"14.00\">cylinders &lt;= 5.5</text>\r\n",
       "<text text-anchor=\"middle\" x=\"226\" y=\"-230.8\" font-family=\"Times New Roman,serif\" font-size=\"14.00\">mse = 60.405</text>\r\n",
       "<text text-anchor=\"middle\" x=\"226\" y=\"-215.8\" font-family=\"Times New Roman,serif\" font-size=\"14.00\">samples = 313</text>\r\n",
       "<text text-anchor=\"middle\" x=\"226\" y=\"-200.8\" font-family=\"Times New Roman,serif\" font-size=\"14.00\">value = 23.482</text>\r\n",
       "</g>\r\n",
       "<!-- 1 -->\r\n",
       "<g id=\"node2\" class=\"node\"><title>1</title>\r\n",
       "<polygon fill=\"none\" stroke=\"black\" points=\"215.5,-157 84.5,-157 84.5,-89 215.5,-89 215.5,-157\"/>\r\n",
       "<text text-anchor=\"middle\" x=\"150\" y=\"-141.8\" font-family=\"Times New Roman,serif\" font-size=\"14.00\">horsepower &lt;= 70.5</text>\r\n",
       "<text text-anchor=\"middle\" x=\"150\" y=\"-126.8\" font-family=\"Times New Roman,serif\" font-size=\"14.00\">mse = 32.679</text>\r\n",
       "<text text-anchor=\"middle\" x=\"150\" y=\"-111.8\" font-family=\"Times New Roman,serif\" font-size=\"14.00\">samples = 165</text>\r\n",
       "<text text-anchor=\"middle\" x=\"150\" y=\"-96.8\" font-family=\"Times New Roman,serif\" font-size=\"14.00\">value = 29.088</text>\r\n",
       "</g>\r\n",
       "<!-- 0&#45;&gt;1 -->\r\n",
       "<g id=\"edge1\" class=\"edge\"><title>0&#45;&gt;1</title>\r\n",
       "<path fill=\"none\" stroke=\"black\" d=\"M201.325,-192.884C194.821,-184.154 187.72,-174.625 180.932,-165.514\"/>\r\n",
       "<polygon fill=\"black\" stroke=\"black\" points=\"183.593,-163.227 174.811,-157.299 177.98,-167.409 183.593,-163.227\"/>\r\n",
       "<text text-anchor=\"middle\" x=\"171.198\" y=\"-178.337\" font-family=\"Times New Roman,serif\" font-size=\"14.00\">True</text>\r\n",
       "</g>\r\n",
       "<!-- 4 -->\r\n",
       "<g id=\"node5\" class=\"node\"><title>4</title>\r\n",
       "<polygon fill=\"none\" stroke=\"black\" points=\"370.5,-157 233.5,-157 233.5,-89 370.5,-89 370.5,-157\"/>\r\n",
       "<text text-anchor=\"middle\" x=\"302\" y=\"-141.8\" font-family=\"Times New Roman,serif\" font-size=\"14.00\">horsepower &lt;= 139.5</text>\r\n",
       "<text text-anchor=\"middle\" x=\"302\" y=\"-126.8\" font-family=\"Times New Roman,serif\" font-size=\"14.00\">mse = 17.231</text>\r\n",
       "<text text-anchor=\"middle\" x=\"302\" y=\"-111.8\" font-family=\"Times New Roman,serif\" font-size=\"14.00\">samples = 148</text>\r\n",
       "<text text-anchor=\"middle\" x=\"302\" y=\"-96.8\" font-family=\"Times New Roman,serif\" font-size=\"14.00\">value = 17.233</text>\r\n",
       "</g>\r\n",
       "<!-- 0&#45;&gt;4 -->\r\n",
       "<g id=\"edge4\" class=\"edge\"><title>0&#45;&gt;4</title>\r\n",
       "<path fill=\"none\" stroke=\"black\" d=\"M250.675,-192.884C257.179,-184.154 264.28,-174.625 271.068,-165.514\"/>\r\n",
       "<polygon fill=\"black\" stroke=\"black\" points=\"274.02,-167.409 277.189,-157.299 268.407,-163.227 274.02,-167.409\"/>\r\n",
       "<text text-anchor=\"middle\" x=\"280.802\" y=\"-178.337\" font-family=\"Times New Roman,serif\" font-size=\"14.00\">False</text>\r\n",
       "</g>\r\n",
       "<!-- 2 -->\r\n",
       "<g id=\"node3\" class=\"node\"><title>2</title>\r\n",
       "<polygon fill=\"none\" stroke=\"black\" points=\"92,-53 0,-53 0,-0 92,-0 92,-53\"/>\r\n",
       "<text text-anchor=\"middle\" x=\"46\" y=\"-37.8\" font-family=\"Times New Roman,serif\" font-size=\"14.00\">mse = 23.679</text>\r\n",
       "<text text-anchor=\"middle\" x=\"46\" y=\"-22.8\" font-family=\"Times New Roman,serif\" font-size=\"14.00\">samples = 56</text>\r\n",
       "<text text-anchor=\"middle\" x=\"46\" y=\"-7.8\" font-family=\"Times New Roman,serif\" font-size=\"14.00\">value = 33.9</text>\r\n",
       "</g>\r\n",
       "<!-- 1&#45;&gt;2 -->\r\n",
       "<g id=\"edge2\" class=\"edge\"><title>1&#45;&gt;2</title>\r\n",
       "<path fill=\"none\" stroke=\"black\" d=\"M113.626,-88.9485C103.357,-79.6175 92.1916,-69.4722 81.9478,-60.1641\"/>\r\n",
       "<polygon fill=\"black\" stroke=\"black\" points=\"84.0788,-57.3713 74.324,-53.2367 79.3713,-62.5521 84.0788,-57.3713\"/>\r\n",
       "</g>\r\n",
       "<!-- 3 -->\r\n",
       "<g id=\"node4\" class=\"node\"><title>3</title>\r\n",
       "<polygon fill=\"none\" stroke=\"black\" points=\"208,-53 110,-53 110,-0 208,-0 208,-53\"/>\r\n",
       "<text text-anchor=\"middle\" x=\"159\" y=\"-37.8\" font-family=\"Times New Roman,serif\" font-size=\"14.00\">mse = 19.294</text>\r\n",
       "<text text-anchor=\"middle\" x=\"159\" y=\"-22.8\" font-family=\"Times New Roman,serif\" font-size=\"14.00\">samples = 109</text>\r\n",
       "<text text-anchor=\"middle\" x=\"159\" y=\"-7.8\" font-family=\"Times New Roman,serif\" font-size=\"14.00\">value = 26.616</text>\r\n",
       "</g>\r\n",
       "<!-- 1&#45;&gt;3 -->\r\n",
       "<g id=\"edge3\" class=\"edge\"><title>1&#45;&gt;3</title>\r\n",
       "<path fill=\"none\" stroke=\"black\" d=\"M153.148,-88.9485C153.941,-80.6238 154.795,-71.6509 155.6,-63.2027\"/>\r\n",
       "<polygon fill=\"black\" stroke=\"black\" points=\"159.085,-63.5235 156.549,-53.2367 152.116,-62.8598 159.085,-63.5235\"/>\r\n",
       "</g>\r\n",
       "<!-- 5 -->\r\n",
       "<g id=\"node6\" class=\"node\"><title>5</title>\r\n",
       "<polygon fill=\"none\" stroke=\"black\" points=\"342,-53 244,-53 244,-0 342,-0 342,-53\"/>\r\n",
       "<text text-anchor=\"middle\" x=\"293\" y=\"-37.8\" font-family=\"Times New Roman,serif\" font-size=\"14.00\">mse = 14.746</text>\r\n",
       "<text text-anchor=\"middle\" x=\"293\" y=\"-22.8\" font-family=\"Times New Roman,serif\" font-size=\"14.00\">samples = 86</text>\r\n",
       "<text text-anchor=\"middle\" x=\"293\" y=\"-7.8\" font-family=\"Times New Roman,serif\" font-size=\"14.00\">value = 19.476</text>\r\n",
       "</g>\r\n",
       "<!-- 4&#45;&gt;5 -->\r\n",
       "<g id=\"edge5\" class=\"edge\"><title>4&#45;&gt;5</title>\r\n",
       "<path fill=\"none\" stroke=\"black\" d=\"M298.852,-88.9485C298.059,-80.6238 297.205,-71.6509 296.4,-63.2027\"/>\r\n",
       "<polygon fill=\"black\" stroke=\"black\" points=\"299.884,-62.8598 295.451,-53.2367 292.915,-63.5235 299.884,-62.8598\"/>\r\n",
       "</g>\r\n",
       "<!-- 6 -->\r\n",
       "<g id=\"node7\" class=\"node\"><title>6</title>\r\n",
       "<polygon fill=\"none\" stroke=\"black\" points=\"458,-53 360,-53 360,-0 458,-0 458,-53\"/>\r\n",
       "<text text-anchor=\"middle\" x=\"409\" y=\"-37.8\" font-family=\"Times New Roman,serif\" font-size=\"14.00\">mse = 4.027</text>\r\n",
       "<text text-anchor=\"middle\" x=\"409\" y=\"-22.8\" font-family=\"Times New Roman,serif\" font-size=\"14.00\">samples = 62</text>\r\n",
       "<text text-anchor=\"middle\" x=\"409\" y=\"-7.8\" font-family=\"Times New Roman,serif\" font-size=\"14.00\">value = 14.123</text>\r\n",
       "</g>\r\n",
       "<!-- 4&#45;&gt;6 -->\r\n",
       "<g id=\"edge6\" class=\"edge\"><title>4&#45;&gt;6</title>\r\n",
       "<path fill=\"none\" stroke=\"black\" d=\"M339.423,-88.9485C350.092,-79.526 361.701,-69.2731 372.325,-59.8906\"/>\r\n",
       "<polygon fill=\"black\" stroke=\"black\" points=\"374.681,-62.4798 379.859,-53.2367 370.047,-57.2331 374.681,-62.4798\"/>\r\n",
       "</g>\r\n",
       "</g>\r\n",
       "</svg>\r\n"
      ],
      "text/plain": [
       "<graphviz.files.Source at 0x1eac52aeef0>"
      ]
     },
     "execution_count": 23,
     "metadata": {},
     "output_type": "execute_result"
    }
   ],
   "source": [
    "export_graphviz(regr_tree_auto, \n",
    "                out_file = \"auto_tree.dot\", \n",
    "                feature_names = X_train.columns)\n",
    "\n",
    "with open(\"auto_tree.dot\") as f:\n",
    "    dot_graph = f.read()\n",
    "graphviz.Source(dot_graph)"
   ]
  },
  {
   "cell_type": "markdown",
   "metadata": {},
   "source": [
    "Now let's see how it does on the test data:"
   ]
  },
  {
   "cell_type": "code",
   "execution_count": 24,
   "metadata": {},
   "outputs": [
    {
     "data": {
      "image/png": "[encoded data removed]",
      "text/plain": [
       "<Figure size 432x288 with 1 Axes>"
      ]
     },
     "metadata": {
      "needs_background": "light"
     },
     "output_type": "display_data"
    }
   ],
   "source": [
    "pred = regr_tree_auto.predict(X_test)\n",
    "\n",
    "plt.scatter(pred, \n",
    "            y_test, \n",
    "            label = 'mpg')\n",
    "\n",
    "plt.xlabel('pred')\n",
    "plt.ylabel('y_test');"
   ]
  },
  {
   "cell_type": "code",
   "execution_count": 25,
   "metadata": {},
   "outputs": [
    {
     "data": {
      "text/plain": [
       "18.956119328538193"
      ]
     },
     "execution_count": 25,
     "metadata": {},
     "output_type": "execute_result"
    }
   ],
   "source": [
    "mean_squared_error(y_test, pred)"
   ]
  },
  {
   "cell_type": "markdown",
   "metadata": {},
   "source": [
    "Now, let's try different depth of the tree and compare in terms of accuracy on the test set."
   ]
  },
  {
   "cell_type": "code",
   "execution_count": 26,
   "metadata": {},
   "outputs": [
    {
     "data": {
      "text/plain": [
       "25.004380160628802"
      ]
     },
     "execution_count": 26,
     "metadata": {},
     "output_type": "execute_result"
    }
   ],
   "source": [
    "dt10 = DecisionTreeRegressor(max_depth=10)\n",
    "dt11 = DecisionTreeRegressor(max_depth=11)\n",
    "dt12 = DecisionTreeRegressor(max_depth=12)\n",
    "\n",
    "# you may play with depth\n",
    "dt10.fit(X_train,y_train)\n",
    "dt11.fit(X_train,y_train)\n",
    "dt12.fit(X_train,y_train)\n",
    "\n",
    "y10_pred = dt10.predict(X_test)\n",
    "y11_pred = dt11.predict(X_test)\n",
    "y12_pred = dt12.predict(X_test)\n",
    "\n",
    "mean_squared_error(y_test, y10_pred)"
   ]
  },
  {
   "cell_type": "code",
   "execution_count": 27,
   "metadata": {},
   "outputs": [
    {
     "data": {
      "text/plain": [
       "29.197814893750888"
      ]
     },
     "execution_count": 27,
     "metadata": {},
     "output_type": "execute_result"
    }
   ],
   "source": [
    "mean_squared_error(y_test, y11_pred)"
   ]
  },
  {
   "cell_type": "code",
   "execution_count": 28,
   "metadata": {},
   "outputs": [
    {
     "data": {
      "text/plain": [
       "24.25508568353722"
      ]
     },
     "execution_count": 28,
     "metadata": {},
     "output_type": "execute_result"
    }
   ],
   "source": [
    "mean_squared_error(y_test, y12_pred)"
   ]
  },
  {
   "cell_type": "markdown",
   "metadata": {},
   "source": [
    "### \"Cross-Validation\" for Depth of the Regression Tree"
   ]
  },
  {
   "cell_type": "code",
   "execution_count": 29,
   "metadata": {},
   "outputs": [
    {
     "data": {
      "image/png": "[encoded data removed]",
      "text/plain": [
       "<Figure size 432x288 with 1 Axes>"
      ]
     },
     "metadata": {
      "needs_background": "light"
     },
     "output_type": "display_data"
    }
   ],
   "source": [
    "# Initialize the MSE vector\n",
    "\n",
    "mse_train = []\n",
    "mse_test = []\n",
    "depth = np.arange(1, 11)\n",
    "\n",
    "# Calculate MSE on the test set for different depths of the tree\n",
    "for i in depth:\n",
    "    # Fit the Regression Tree\n",
    "    dt = DecisionTreeRegressor(max_depth=i)\n",
    "    dt.fit(X_train,y_train)\n",
    "    # Predict on the train and test sets\n",
    "    y_pred_train = dt.predict(X_train)\n",
    "    y_pred_test = dt.predict(X_test)\n",
    "    # Compute the MSE\n",
    "    score_train = mean_squared_error(y_train, y_pred_train)\n",
    "    score_test = mean_squared_error(y_test, y_pred_test)\n",
    "    mse_train.append(score_train)\n",
    "    mse_test.append(score_test)\n",
    "    \n",
    "# Plot results    \n",
    "plt.plot(depth, mse_train, 'b-', depth, mse_test, 'g-')\n",
    "plt.xlabel('Depth of the tree')\n",
    "plt.ylabel('MSE')\n",
    "plt.title('mpg');"
   ]
  },
  {
   "cell_type": "markdown",
   "metadata": {},
   "source": [
    "### Bagging Regressor"
   ]
  },
  {
   "cell_type": "code",
   "execution_count": 30,
   "metadata": {},
   "outputs": [],
   "source": [
    "#X = df2[['cylinders', 'displacement', 'horsepower', 'weight', 'acceleration']]\n",
    "#y = df2['mpg']\n",
    "\n",
    "#X_train, X_test, y_train, y_test = train_test_split(X, y, test_size = 0.2, random_state = 0)"
   ]
  },
  {
   "cell_type": "code",
   "execution_count": 31,
   "metadata": {},
   "outputs": [
    {
     "data": {
      "text/plain": [
       "13.550708115785085"
      ]
     },
     "execution_count": 31,
     "metadata": {},
     "output_type": "execute_result"
    }
   ],
   "source": [
    "regr_tree_auto = DecisionTreeRegressor(max_depth = 2)\n",
    "\n",
    "from sklearn.ensemble import BaggingRegressor\n",
    "bag = BaggingRegressor(regr_tree_auto, n_estimators=100, random_state=1)\n",
    "bag.fit(X_train, y_train)\n",
    "\n",
    "y_hat = bag.predict(X_train)\n",
    "mean_squared_error(y_train, y_hat)"
   ]
  },
  {
   "cell_type": "code",
   "execution_count": 32,
   "metadata": {},
   "outputs": [
    {
     "data": {
      "text/plain": [
       "15.799254721973645"
      ]
     },
     "execution_count": 32,
     "metadata": {},
     "output_type": "execute_result"
    }
   ],
   "source": [
    "y_hat = bag.predict(X_test)\n",
    "mean_squared_error(y_test, y_hat)"
   ]
  }
 ],
 "metadata": {
  "anaconda-cloud": {},
  "kernelspec": {
   "display_name": "Python 3",
   "language": "python",
   "name": "python3"
  },
  "language_info": {
   "codemirror_mode": {
    "name": "ipython",
    "version": 3
   },
   "file_extension": ".py",
   "mimetype": "text/x-python",
   "name": "python",
   "nbconvert_exporter": "python",
   "pygments_lexer": "ipython3",
   "version": "3.7.1"
  }
 },
 "nbformat": 4,
 "nbformat_minor": 2
}
