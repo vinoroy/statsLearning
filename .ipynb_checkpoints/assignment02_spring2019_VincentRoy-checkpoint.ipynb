{
 "cells": [
  {
   "cell_type": "markdown",
   "metadata": {},
   "source": [
    "## Vincent Roy\n",
    "**ID : 119244546**\n"
   ]
  },
  {
   "cell_type": "markdown",
   "metadata": {},
   "source": [
    "# Assignment 2\n",
    "### General Instructions\n",
    "  + The Python standard library is not enough to do solve these questions. You will need to import appropriate libraries for each task. Generally, you might import and use any library you wish unless otherwise stated. \n",
    "  + Where detail instructions like variable or function names, required libraries, and etc are not given by the question, feel free to do it the way you would like to.\n",
    "  + After each question, add the needed number of new cells and place your answers inside the cells. \n",
    "  + When you are required to explain or answer in text format open a Markdown cell and enter your answer in it.\n",
    "  + Do not remove or modify the original cells provided by the instructor.\n",
    "  + Comment your code whenever needed using # sign at the beginning of the row.\n",
    "  + Do not hesitate to communicate your questions to the TAs or instructors. Good luck! "
   ]
  },
  {
   "cell_type": "code",
   "execution_count": 1,
   "metadata": {},
   "outputs": [],
   "source": [
    "# The following piece of code gives the opportunity to show multiple outputs\n",
    "# in one cell:\n",
    "from IPython.core.interactiveshell import InteractiveShell\n",
    "InteractiveShell.ast_node_interactivity = \"all\"\n",
    "\n",
    "\n",
    "# Colorful outputs\n",
    "class bcolors:\n",
    "    RED       = '\\033[91m'\n",
    "    OKBLUE    = '\\033[94m'\n",
    "    BOLD      = '\\033[1m'\n",
    "    UNDERLINE = '\\033[4m'\n",
    "    ENDC      = '\\033[0m'"
   ]
  },
  {
   "cell_type": "code",
   "execution_count": 737,
   "metadata": {},
   "outputs": [],
   "source": [
    "import pandas as pd\n",
    "import numpy as np\n",
    "import sklearn as sk\n",
    "\n",
    "import matplotlib.pyplot as plt\n",
    "import scipy.stats  as stats\n",
    "import math\n",
    "\n",
    "\n",
    "import statsmodels.formula.api as smf\n",
    "\n",
    "from sklearn.linear_model import LinearRegression, LogisticRegression\n",
    "from sklearn.discriminant_analysis import LinearDiscriminantAnalysis, QuadraticDiscriminantAnalysis\n",
    "from sklearn.metrics import r2_score\n",
    "from sklearn.preprocessing import MinMaxScaler\n",
    "from sklearn.metrics import confusion_matrix\n",
    "from sklearn.metrics import roc_auc_score, roc_curve, accuracy_score\n",
    "\n",
    "\n",
    "from sklearn.preprocessing import LabelEncoder\n",
    "\n",
    "%matplotlib inline\n"
   ]
  },
  {
   "cell_type": "markdown",
   "metadata": {},
   "source": [
    "## Question 1 <span style=\"color:red\">(40 points)</span>\n",
    "\n",
    "1.  Download `Income2.csv` from http://www-bcf.usc.edu/~gareth/ISL/Income2.csv\n",
    "2.  Load the data into this Jupyter notebook. \n",
    "3.  Describe the data using descriptive statistics such as measures of central tendancy, dispersion or association.\n",
    "4.  Explore the data by vizualing it through various figures. Clearly explain or interpret each figure, justify the appropriateness of the tool used for visualization, highlight the information it provides, and, finally, explain how this information affect your further analysis.\n",
    "5.\tModel `Income` as a linear function of `Years of Education`. What are your independent and dependent variables? What type of model did you use? Why?\n",
    "6.  Scatterplot the dependent and independent variables used in the model versus each other. Based on the scatterplot, do you think a linear model is an adequate model for the data in hand? Discuss your answer. \n",
    "7.  Print the slope of the fitted line out and provide a $95\\%$ confidence interval for the estimate slope.\n",
    "8.  Add the fitted line over the scatterplot.\n",
    "9.  Using the **discrete uniform** distribution, randomly generate $10$ numbers between the $25$ and $75$ percentiles of the variable `Years of Education` in the original data. If these numbers represent years of education for $10$ employees, then predict each person's `Income` due to your model.\n",
    "10. Now, model  `Income` as a linear function of both `Years of Education` and `Seniority`. What type of model did you use? How many parameters (coefficients) does this model have? \n",
    "11. Print out the estimated coefficients after the model has been fitted.\n",
    "12. How much would be the `Income` of a new individual with $18$ years of education and $60$ years of seniority?\n",
    "13.\tArgue which of `Years of Education` or `Seniority` is a stronger predictor of `Income`? Justify your comparison. (**Hint**: take into consideration that these variables are in different units)\n"
   ]
  },
  {
   "cell_type": "markdown",
   "metadata": {},
   "source": [
    "#### Answer 1-1 and 1-2"
   ]
  },
  {
   "cell_type": "code",
   "execution_count": 15,
   "metadata": {},
   "outputs": [
    {
     "data": {
      "text/html": [
       "<div>\n",
       "<style scoped>\n",
       "    .dataframe tbody tr th:only-of-type {\n",
       "        vertical-align: middle;\n",
       "    }\n",
       "\n",
       "    .dataframe tbody tr th {\n",
       "        vertical-align: top;\n",
       "    }\n",
       "\n",
       "    .dataframe thead th {\n",
       "        text-align: right;\n",
       "    }\n",
       "</style>\n",
       "<table border=\"1\" class=\"dataframe\">\n",
       "  <thead>\n",
       "    <tr style=\"text-align: right;\">\n",
       "      <th></th>\n",
       "      <th>Education</th>\n",
       "      <th>Seniority</th>\n",
       "      <th>Income</th>\n",
       "    </tr>\n",
       "  </thead>\n",
       "  <tbody>\n",
       "    <tr>\n",
       "      <th>0</th>\n",
       "      <td>21.586207</td>\n",
       "      <td>113.103448</td>\n",
       "      <td>99.917173</td>\n",
       "    </tr>\n",
       "    <tr>\n",
       "      <th>1</th>\n",
       "      <td>18.275862</td>\n",
       "      <td>119.310345</td>\n",
       "      <td>92.579135</td>\n",
       "    </tr>\n",
       "    <tr>\n",
       "      <th>2</th>\n",
       "      <td>12.068966</td>\n",
       "      <td>100.689655</td>\n",
       "      <td>34.678727</td>\n",
       "    </tr>\n",
       "    <tr>\n",
       "      <th>3</th>\n",
       "      <td>17.034483</td>\n",
       "      <td>187.586207</td>\n",
       "      <td>78.702806</td>\n",
       "    </tr>\n",
       "    <tr>\n",
       "      <th>4</th>\n",
       "      <td>19.931034</td>\n",
       "      <td>20.000000</td>\n",
       "      <td>68.009922</td>\n",
       "    </tr>\n",
       "  </tbody>\n",
       "</table>\n",
       "</div>"
      ],
      "text/plain": [
       "   Education   Seniority     Income\n",
       "0  21.586207  113.103448  99.917173\n",
       "1  18.275862  119.310345  92.579135\n",
       "2  12.068966  100.689655  34.678727\n",
       "3  17.034483  187.586207  78.702806\n",
       "4  19.931034   20.000000  68.009922"
      ]
     },
     "execution_count": 15,
     "metadata": {},
     "output_type": "execute_result"
    }
   ],
   "source": [
    "incomeData = pd.read_csv('Income2.csv')\n",
    "incomeData = incomeData.iloc[:,1:]\n",
    "incomeData.head()"
   ]
  },
  {
   "cell_type": "markdown",
   "metadata": {},
   "source": [
    "#### Answer 1-3"
   ]
  },
  {
   "cell_type": "code",
   "execution_count": 16,
   "metadata": {},
   "outputs": [
    {
     "data": {
      "text/html": [
       "<div>\n",
       "<style scoped>\n",
       "    .dataframe tbody tr th:only-of-type {\n",
       "        vertical-align: middle;\n",
       "    }\n",
       "\n",
       "    .dataframe tbody tr th {\n",
       "        vertical-align: top;\n",
       "    }\n",
       "\n",
       "    .dataframe thead th {\n",
       "        text-align: right;\n",
       "    }\n",
       "</style>\n",
       "<table border=\"1\" class=\"dataframe\">\n",
       "  <thead>\n",
       "    <tr style=\"text-align: right;\">\n",
       "      <th></th>\n",
       "      <th>Education</th>\n",
       "      <th>Seniority</th>\n",
       "      <th>Income</th>\n",
       "    </tr>\n",
       "  </thead>\n",
       "  <tbody>\n",
       "    <tr>\n",
       "      <th>count</th>\n",
       "      <td>30.000000</td>\n",
       "      <td>30.000000</td>\n",
       "      <td>30.000000</td>\n",
       "    </tr>\n",
       "    <tr>\n",
       "      <th>mean</th>\n",
       "      <td>16.386207</td>\n",
       "      <td>93.862069</td>\n",
       "      <td>62.744733</td>\n",
       "    </tr>\n",
       "    <tr>\n",
       "      <th>std</th>\n",
       "      <td>3.810622</td>\n",
       "      <td>55.715623</td>\n",
       "      <td>27.013285</td>\n",
       "    </tr>\n",
       "    <tr>\n",
       "      <th>min</th>\n",
       "      <td>10.000000</td>\n",
       "      <td>20.000000</td>\n",
       "      <td>17.613593</td>\n",
       "    </tr>\n",
       "    <tr>\n",
       "      <th>25%</th>\n",
       "      <td>12.482759</td>\n",
       "      <td>44.827586</td>\n",
       "      <td>36.392043</td>\n",
       "    </tr>\n",
       "    <tr>\n",
       "      <th>50%</th>\n",
       "      <td>17.034483</td>\n",
       "      <td>94.482759</td>\n",
       "      <td>70.804791</td>\n",
       "    </tr>\n",
       "    <tr>\n",
       "      <th>75%</th>\n",
       "      <td>19.931034</td>\n",
       "      <td>133.275862</td>\n",
       "      <td>85.930608</td>\n",
       "    </tr>\n",
       "    <tr>\n",
       "      <th>max</th>\n",
       "      <td>21.586207</td>\n",
       "      <td>187.586207</td>\n",
       "      <td>99.917173</td>\n",
       "    </tr>\n",
       "  </tbody>\n",
       "</table>\n",
       "</div>"
      ],
      "text/plain": [
       "       Education   Seniority     Income\n",
       "count  30.000000   30.000000  30.000000\n",
       "mean   16.386207   93.862069  62.744733\n",
       "std     3.810622   55.715623  27.013285\n",
       "min    10.000000   20.000000  17.613593\n",
       "25%    12.482759   44.827586  36.392043\n",
       "50%    17.034483   94.482759  70.804791\n",
       "75%    19.931034  133.275862  85.930608\n",
       "max    21.586207  187.586207  99.917173"
      ]
     },
     "execution_count": 16,
     "metadata": {},
     "output_type": "execute_result"
    }
   ],
   "source": [
    "# get the mean min max and std of each column\n",
    "incomeData.describe()"
   ]
  },
  {
   "cell_type": "code",
   "execution_count": 17,
   "metadata": {},
   "outputs": [
    {
     "data": {
      "text/html": [
       "<div>\n",
       "<style scoped>\n",
       "    .dataframe tbody tr th:only-of-type {\n",
       "        vertical-align: middle;\n",
       "    }\n",
       "\n",
       "    .dataframe tbody tr th {\n",
       "        vertical-align: top;\n",
       "    }\n",
       "\n",
       "    .dataframe thead th {\n",
       "        text-align: right;\n",
       "    }\n",
       "</style>\n",
       "<table border=\"1\" class=\"dataframe\">\n",
       "  <thead>\n",
       "    <tr style=\"text-align: right;\">\n",
       "      <th></th>\n",
       "      <th>Education</th>\n",
       "      <th>Seniority</th>\n",
       "      <th>Income</th>\n",
       "    </tr>\n",
       "  </thead>\n",
       "  <tbody>\n",
       "    <tr>\n",
       "      <th>Education</th>\n",
       "      <td>1.000000</td>\n",
       "      <td>0.194515</td>\n",
       "      <td>0.901003</td>\n",
       "    </tr>\n",
       "    <tr>\n",
       "      <th>Seniority</th>\n",
       "      <td>0.194515</td>\n",
       "      <td>1.000000</td>\n",
       "      <td>0.518288</td>\n",
       "    </tr>\n",
       "    <tr>\n",
       "      <th>Income</th>\n",
       "      <td>0.901003</td>\n",
       "      <td>0.518288</td>\n",
       "      <td>1.000000</td>\n",
       "    </tr>\n",
       "  </tbody>\n",
       "</table>\n",
       "</div>"
      ],
      "text/plain": [
       "           Education  Seniority    Income\n",
       "Education   1.000000   0.194515  0.901003\n",
       "Seniority   0.194515   1.000000  0.518288\n",
       "Income      0.901003   0.518288  1.000000"
      ]
     },
     "execution_count": 17,
     "metadata": {},
     "output_type": "execute_result"
    }
   ],
   "source": [
    "# display the correlation coefficients between the data columns\n",
    "incomeData.corr()"
   ]
  },
  {
   "cell_type": "markdown",
   "metadata": {},
   "source": [
    "We can see that the Education data has low variation and that Seniority is more spread out. From the correlation coefficient we can see that there is a strong correlation between education and income (0.9) and a weaker correlation between seniority an income. "
   ]
  },
  {
   "cell_type": "markdown",
   "metadata": {},
   "source": [
    "#### Answer 1-4\n",
    "\n",
    "First we create a function to describe graphically an independant variable. This function will also be used for following questions."
   ]
  },
  {
   "cell_type": "code",
   "execution_count": 122,
   "metadata": {},
   "outputs": [],
   "source": [
    "def descriptivePlot(data,independant,dependant):\n",
    "    \"\"\"\n",
    "    The following function is used to describe graphically an independant variable with respect to a dependant variable. \n",
    "    First it plots the histogram of the independant variable and a box plot and then produces a scatter plot of the independant variable vs the dependant variable\n",
    "    \"\"\"\n",
    "    \n",
    "    print('Descriptive plots for the ' + independant + ' independant variable')\n",
    "\n",
    "    plt.subplot(1, 3, 1);\n",
    "    plt.hist(data[independant]);\n",
    "    plt.ylabel('frequency');\n",
    "    plt.xlabel(independant);\n",
    "    plt.subplot(1, 3, 2);\n",
    "    plt.boxplot(data[independant]);\n",
    "    plt.subplot(1, 3, 3);\n",
    "    plt.scatter(data[independant], data[dependant]);\n",
    "    plt.xlabel(independant);\n",
    "    plt.ylabel(dependant);\n",
    "    plt.tight_layout();\n",
    "    \n",
    "    corrCoef = np.corrcoef(data[independant].values,data[dependant].values)[0,1]\n",
    "    \n",
    "    print('The correlation coef is : ' + str(corrCoef))\n",
    "    \n",
    "    "
   ]
  },
  {
   "cell_type": "markdown",
   "metadata": {},
   "source": [
    "##### Descriptive graphs for Education with respect to Income"
   ]
  },
  {
   "cell_type": "code",
   "execution_count": 124,
   "metadata": {},
   "outputs": [
    {
     "name": "stdout",
     "output_type": "stream",
     "text": [
      "Descriptive plots for the Education independant variable\n",
      "The correlation coef is : 0.9010032722872089\n"
     ]
    },
    {
     "data": {
      "image/png": "[encoded data removed]",
      "text/plain": [
       "<Figure size 432x288 with 3 Axes>"
      ]
     },
     "metadata": {
      "needs_background": "light"
     },
     "output_type": "display_data"
    }
   ],
   "source": [
    "descriptivePlot(incomeData,'Education','Income')"
   ]
  },
  {
   "cell_type": "markdown",
   "metadata": {},
   "source": [
    "The histogram plot indicates that the Education data is not really normally distibuted. The scatter plot of Education vs Income shows that there is a linear relationship between the two. We would expect here that the Education will be a dominant predictor for Income."
   ]
  },
  {
   "cell_type": "markdown",
   "metadata": {},
   "source": [
    "##### Descriptive graphs for Seniroity with respect to Income"
   ]
  },
  {
   "cell_type": "code",
   "execution_count": 125,
   "metadata": {},
   "outputs": [
    {
     "name": "stdout",
     "output_type": "stream",
     "text": [
      "Descriptive plots for the Seniority independant variable\n",
      "The correlation coef is : 0.5182881203612878\n"
     ]
    },
    {
     "data": {
      "image/png": "[encoded data removed]",
      "text/plain": [
       "<Figure size 432x288 with 3 Axes>"
      ]
     },
     "metadata": {
      "needs_background": "light"
     },
     "output_type": "display_data"
    }
   ],
   "source": [
    "descriptivePlot(incomeData,'Seniority','Income')"
   ]
  },
  {
   "cell_type": "markdown",
   "metadata": {},
   "source": [
    "The histogram plot indicates that the Seniority data is not really normally distibuted. The scatter plot of Seniority vs Income shows that there is a linear relationship between the two but there is alot of variance in this relationship (i.e. it does not form a tight line). We would expect that Seniority can play a role in the prediction of Income, however the relationship is not as clear as for Education."
   ]
  },
  {
   "cell_type": "markdown",
   "metadata": {},
   "source": [
    "#### Answer 1-5"
   ]
  },
  {
   "cell_type": "code",
   "execution_count": 126,
   "metadata": {},
   "outputs": [
    {
     "data": {
      "text/html": [
       "<table class=\"simpletable\">\n",
       "<caption>OLS Regression Results</caption>\n",
       "<tr>\n",
       "  <th>Dep. Variable:</th>         <td>Income</td>      <th>  R-squared:         </th> <td>   0.812</td>\n",
       "</tr>\n",
       "<tr>\n",
       "  <th>Model:</th>                   <td>OLS</td>       <th>  Adj. R-squared:    </th> <td>   0.805</td>\n",
       "</tr>\n",
       "<tr>\n",
       "  <th>Method:</th>             <td>Least Squares</td>  <th>  F-statistic:       </th> <td>   120.8</td>\n",
       "</tr>\n",
       "<tr>\n",
       "  <th>Date:</th>             <td>Sat, 30 Mar 2019</td> <th>  Prob (F-statistic):</th> <td>1.15e-11</td>\n",
       "</tr>\n",
       "<tr>\n",
       "  <th>Time:</th>                 <td>11:19:33</td>     <th>  Log-Likelihood:    </th> <td> -115.90</td>\n",
       "</tr>\n",
       "<tr>\n",
       "  <th>No. Observations:</th>      <td>    30</td>      <th>  AIC:               </th> <td>   235.8</td>\n",
       "</tr>\n",
       "<tr>\n",
       "  <th>Df Residuals:</th>          <td>    28</td>      <th>  BIC:               </th> <td>   238.6</td>\n",
       "</tr>\n",
       "<tr>\n",
       "  <th>Df Model:</th>              <td>     1</td>      <th>                     </th>     <td> </td>   \n",
       "</tr>\n",
       "<tr>\n",
       "  <th>Covariance Type:</th>      <td>nonrobust</td>    <th>                     </th>     <td> </td>   \n",
       "</tr>\n",
       "</table>\n",
       "<table class=\"simpletable\">\n",
       "<tr>\n",
       "      <td></td>         <th>coef</th>     <th>std err</th>      <th>t</th>      <th>P>|t|</th>  <th>[0.025</th>    <th>0.975]</th>  \n",
       "</tr>\n",
       "<tr>\n",
       "  <th>Intercept</th> <td>  -41.9166</td> <td>    9.769</td> <td>   -4.291</td> <td> 0.000</td> <td>  -61.927</td> <td>  -21.906</td>\n",
       "</tr>\n",
       "<tr>\n",
       "  <th>Education</th> <td>    6.3872</td> <td>    0.581</td> <td>   10.990</td> <td> 0.000</td> <td>    5.197</td> <td>    7.578</td>\n",
       "</tr>\n",
       "</table>\n",
       "<table class=\"simpletable\">\n",
       "<tr>\n",
       "  <th>Omnibus:</th>       <td> 0.561</td> <th>  Durbin-Watson:     </th> <td>   2.194</td>\n",
       "</tr>\n",
       "<tr>\n",
       "  <th>Prob(Omnibus):</th> <td> 0.756</td> <th>  Jarque-Bera (JB):  </th> <td>   0.652</td>\n",
       "</tr>\n",
       "<tr>\n",
       "  <th>Skew:</th>          <td> 0.140</td> <th>  Prob(JB):          </th> <td>   0.722</td>\n",
       "</tr>\n",
       "<tr>\n",
       "  <th>Kurtosis:</th>      <td> 2.335</td> <th>  Cond. No.          </th> <td>    75.7</td>\n",
       "</tr>\n",
       "</table><br/><br/>Warnings:<br/>[1] Standard Errors assume that the covariance matrix of the errors is correctly specified."
      ],
      "text/plain": [
       "<class 'statsmodels.iolib.summary.Summary'>\n",
       "\"\"\"\n",
       "                            OLS Regression Results                            \n",
       "==============================================================================\n",
       "Dep. Variable:                 Income   R-squared:                       0.812\n",
       "Model:                            OLS   Adj. R-squared:                  0.805\n",
       "Method:                 Least Squares   F-statistic:                     120.8\n",
       "Date:                Sat, 30 Mar 2019   Prob (F-statistic):           1.15e-11\n",
       "Time:                        11:19:33   Log-Likelihood:                -115.90\n",
       "No. Observations:                  30   AIC:                             235.8\n",
       "Df Residuals:                      28   BIC:                             238.6\n",
       "Df Model:                           1                                         \n",
       "Covariance Type:            nonrobust                                         \n",
       "==============================================================================\n",
       "                 coef    std err          t      P>|t|      [0.025      0.975]\n",
       "------------------------------------------------------------------------------\n",
       "Intercept    -41.9166      9.769     -4.291      0.000     -61.927     -21.906\n",
       "Education      6.3872      0.581     10.990      0.000       5.197       7.578\n",
       "==============================================================================\n",
       "Omnibus:                        0.561   Durbin-Watson:                   2.194\n",
       "Prob(Omnibus):                  0.756   Jarque-Bera (JB):                0.652\n",
       "Skew:                           0.140   Prob(JB):                        0.722\n",
       "Kurtosis:                       2.335   Cond. No.                         75.7\n",
       "==============================================================================\n",
       "\n",
       "Warnings:\n",
       "[1] Standard Errors assume that the covariance matrix of the errors is correctly specified.\n",
       "\"\"\""
      ]
     },
     "execution_count": 126,
     "metadata": {},
     "output_type": "execute_result"
    }
   ],
   "source": [
    "# using statmodels use an oridnary least sqaure linear model \n",
    "incomeModel = smf.ols(formula='Income ~ Education', data = incomeData)\n",
    "modelResult = incomeModel.fit()\n",
    "modelResult.summary()"
   ]
  },
  {
   "cell_type": "markdown",
   "metadata": {},
   "source": [
    "The independant variable here is Education (feature of the model) and the dependant variable is Income (target variable). Hence, we are trying to predict Income (dependant variable) based on the values of Education (independant variable).\n",
    "\n",
    "The model used here is a linear model, sine the relationship as seen in the scatter plot priovously between Education and Income is visually linear. A least squares approach is used here to find the coefficnts of the linear model b0 + b1X.\n",
    "\n",
    "The R2 value of the model 0.812 indicates that the choice of a linear model is appropriate. It indicates that close to 80% of the variance of the data is explained by ou simple linear model."
   ]
  },
  {
   "cell_type": "markdown",
   "metadata": {},
   "source": [
    "#### Answer 1-6"
   ]
  },
  {
   "cell_type": "code",
   "execution_count": 127,
   "metadata": {},
   "outputs": [
    {
     "data": {
      "text/plain": [
       "<matplotlib.collections.PathCollection at 0x1a16ee4550>"
      ]
     },
     "execution_count": 127,
     "metadata": {},
     "output_type": "execute_result"
    },
    {
     "data": {
      "image/png": "[encoded data removed]",
      "text/plain": [
       "<Figure size 432x288 with 1 Axes>"
      ]
     },
     "metadata": {
      "needs_background": "light"
     },
     "output_type": "display_data"
    }
   ],
   "source": [
    "plt.scatter(incomeData['Education'], incomeData['Income'])"
   ]
  },
  {
   "cell_type": "markdown",
   "metadata": {},
   "source": [
    "As mentioned previously the scatter plot of the independant and the dependant variables shows a linear relationship. Hence, the choice of a linear model is appropriate. As mentioned the linear model seems to explain a good portion of the variance since the R2 value is 0.812"
   ]
  },
  {
   "cell_type": "markdown",
   "metadata": {},
   "source": [
    "#### Answer 1-7"
   ]
  },
  {
   "cell_type": "code",
   "execution_count": 128,
   "metadata": {},
   "outputs": [],
   "source": [
    "# get the standard error from the model\n",
    "stdError = modelResult.bse['Education']"
   ]
  },
  {
   "cell_type": "code",
   "execution_count": 129,
   "metadata": {},
   "outputs": [],
   "source": [
    "# get the slope of the model\n",
    "slope = modelResult.params['Education']"
   ]
  },
  {
   "cell_type": "code",
   "execution_count": 130,
   "metadata": {},
   "outputs": [],
   "source": [
    "# calculate the confidence intervsl which 2 times the standard error\n",
    "confInt = stdError* 2"
   ]
  },
  {
   "cell_type": "code",
   "execution_count": 131,
   "metadata": {},
   "outputs": [
    {
     "name": "stdout",
     "output_type": "stream",
     "text": [
      "The slope of the model line is : 6.387161217198068\n",
      "The 95% confidence interval is +- 2 * standerror : 1.1623431001539102\n"
     ]
    }
   ],
   "source": [
    "print('The slope of the model line is : ' + str(slope))\n",
    "print('The 95% confidence interval is +- 2 * standerror : '+str(confInt))"
   ]
  },
  {
   "cell_type": "markdown",
   "metadata": {},
   "source": [
    "#### Answer 1-8"
   ]
  },
  {
   "cell_type": "code",
   "execution_count": 269,
   "metadata": {},
   "outputs": [],
   "source": [
    "# make the same model as above however using the sklearn library\n",
    "incomeModelSK = LinearRegression()\n",
    "\n",
    "# feature variable X\n",
    "X = incomeData[['Education']]\n",
    "\n",
    "# target variable y\n",
    "y = incomeData['Income']\n",
    "\n",
    "# fit the model and feed the data\n",
    "incomeModelSK.fit(X =X, y=y)\n",
    "\n",
    "# predict values of the model based on the known features\n",
    "predCurve = incomeModelSK.predict(X);"
   ]
  },
  {
   "cell_type": "code",
   "execution_count": 270,
   "metadata": {},
   "outputs": [
    {
     "data": {
      "image/png": "[encoded data removed]",
      "text/plain": [
       "<Figure size 432x288 with 1 Axes>"
      ]
     },
     "metadata": {
      "needs_background": "light"
     },
     "output_type": "display_data"
    }
   ],
   "source": [
    "# plot the data that we are modeling\n",
    "plt.scatter(X, y)\n",
    "\n",
    "# plot the predicted curve of the model\n",
    "plt.plot(X, predCurve, \"-r\");"
   ]
  },
  {
   "cell_type": "markdown",
   "metadata": {},
   "source": [
    "We can see from the plot of the model and the raw data that the model is pretty good at explaining the overall trend."
   ]
  },
  {
   "cell_type": "markdown",
   "metadata": {},
   "source": [
    "#### Answer 1-9"
   ]
  },
  {
   "cell_type": "code",
   "execution_count": 768,
   "metadata": {},
   "outputs": [
    {
     "name": "stdout",
     "output_type": "stream",
     "text": [
      "The 25 percentile is : 12.482758620689674\n",
      "The 75 percentile is : 19.9310344827586\n",
      "Generated education values\n"
     ]
    },
    {
     "data": {
      "text/plain": [
       "array([16.48571807, 19.89964972, 12.84814372, 14.73824431, 18.00054097,\n",
       "       12.77593354, 18.04417088, 16.7537585 , 17.93270434, 16.58551175])"
      ]
     },
     "execution_count": 768,
     "metadata": {},
     "output_type": "execute_result"
    }
   ],
   "source": [
    "# get the values that corresponds to the 25 and 75 percentiles of the Education data\n",
    "percentile_25 = np.percentile(incomeData['Education'],q=25)\n",
    "percentile_75 = np.percentile(incomeData['Education'],q=75)\n",
    "\n",
    "print('The 25 percentile is : ' + str(percentile_25))\n",
    "print('The 75 percentile is : ' + str(percentile_75))\n",
    "\n",
    "scale = (percentile_75-percentile_25)\n",
    "\n",
    "\n",
    "# generate 10 education values from the unifirm distribution with a range between the 25 and 75 percentile values\n",
    "print('Generated education values')\n",
    "educationValues = stats.uniform.rvs(size=10, loc = percentile_25, scale=scale)\n",
    "educationValues"
   ]
  },
  {
   "cell_type": "code",
   "execution_count": 769,
   "metadata": {},
   "outputs": [
    {
     "name": "stdout",
     "output_type": "stream",
     "text": [
      "Predicted income values for the generated education values\n"
     ]
    },
    {
     "data": {
      "text/plain": [
       "array([63.38032686, 85.18565874, 40.14655306, 52.21893026, 73.05574498,\n",
       "       39.68533502, 73.33441626, 65.09234432, 72.62246148, 64.0177252 ])"
      ]
     },
     "execution_count": 769,
     "metadata": {},
     "output_type": "execute_result"
    }
   ],
   "source": [
    "# for the values generated above calculate the predicted values of income based on the  model\n",
    "predIncome = incomeModelSK.predict(educationValues.reshape(-1, 1))\n",
    "print('Predicted income values for the generated education values')\n",
    "predIncome"
   ]
  },
  {
   "cell_type": "code",
   "execution_count": 770,
   "metadata": {},
   "outputs": [
    {
     "data": {
      "text/html": [
       "<div>\n",
       "<style scoped>\n",
       "    .dataframe tbody tr th:only-of-type {\n",
       "        vertical-align: middle;\n",
       "    }\n",
       "\n",
       "    .dataframe tbody tr th {\n",
       "        vertical-align: top;\n",
       "    }\n",
       "\n",
       "    .dataframe thead th {\n",
       "        text-align: right;\n",
       "    }\n",
       "</style>\n",
       "<table border=\"1\" class=\"dataframe\">\n",
       "  <thead>\n",
       "    <tr style=\"text-align: right;\">\n",
       "      <th></th>\n",
       "      <th>Education</th>\n",
       "      <th>Pred Income</th>\n",
       "    </tr>\n",
       "  </thead>\n",
       "  <tbody>\n",
       "    <tr>\n",
       "      <th>0</th>\n",
       "      <td>16.485718</td>\n",
       "      <td>63.380327</td>\n",
       "    </tr>\n",
       "    <tr>\n",
       "      <th>1</th>\n",
       "      <td>19.899650</td>\n",
       "      <td>85.185659</td>\n",
       "    </tr>\n",
       "    <tr>\n",
       "      <th>2</th>\n",
       "      <td>12.848144</td>\n",
       "      <td>40.146553</td>\n",
       "    </tr>\n",
       "    <tr>\n",
       "      <th>3</th>\n",
       "      <td>14.738244</td>\n",
       "      <td>52.218930</td>\n",
       "    </tr>\n",
       "    <tr>\n",
       "      <th>4</th>\n",
       "      <td>18.000541</td>\n",
       "      <td>73.055745</td>\n",
       "    </tr>\n",
       "    <tr>\n",
       "      <th>5</th>\n",
       "      <td>12.775934</td>\n",
       "      <td>39.685335</td>\n",
       "    </tr>\n",
       "    <tr>\n",
       "      <th>6</th>\n",
       "      <td>18.044171</td>\n",
       "      <td>73.334416</td>\n",
       "    </tr>\n",
       "    <tr>\n",
       "      <th>7</th>\n",
       "      <td>16.753758</td>\n",
       "      <td>65.092344</td>\n",
       "    </tr>\n",
       "    <tr>\n",
       "      <th>8</th>\n",
       "      <td>17.932704</td>\n",
       "      <td>72.622461</td>\n",
       "    </tr>\n",
       "    <tr>\n",
       "      <th>9</th>\n",
       "      <td>16.585512</td>\n",
       "      <td>64.017725</td>\n",
       "    </tr>\n",
       "  </tbody>\n",
       "</table>\n",
       "</div>"
      ],
      "text/plain": [
       "   Education  Pred Income\n",
       "0  16.485718    63.380327\n",
       "1  19.899650    85.185659\n",
       "2  12.848144    40.146553\n",
       "3  14.738244    52.218930\n",
       "4  18.000541    73.055745\n",
       "5  12.775934    39.685335\n",
       "6  18.044171    73.334416\n",
       "7  16.753758    65.092344\n",
       "8  17.932704    72.622461\n",
       "9  16.585512    64.017725"
      ]
     },
     "execution_count": 770,
     "metadata": {},
     "output_type": "execute_result"
    }
   ],
   "source": [
    "# combine the results in a dataframe for tabulating the results\n",
    "result = pd.DataFrame({'Education': educationValues,'Pred Income': predIncome})\n",
    "result"
   ]
  },
  {
   "cell_type": "markdown",
   "metadata": {},
   "source": [
    "#### Answer 1-10"
   ]
  },
  {
   "cell_type": "code",
   "execution_count": 771,
   "metadata": {},
   "outputs": [
    {
     "data": {
      "text/plain": [
       "LinearRegression(copy_X=True, fit_intercept=True, n_jobs=None,\n",
       "         normalize=False)"
      ]
     },
     "execution_count": 771,
     "metadata": {},
     "output_type": "execute_result"
    },
    {
     "name": "stdout",
     "output_type": "stream",
     "text": [
      "The R2 of the model is : 0.9341035446679532\n"
     ]
    }
   ],
   "source": [
    "# initialize the model first using the sk learn\n",
    "incomeModel_EduAndSeniority = LinearRegression();\n",
    "\n",
    "# get the feature data\n",
    "X = incomeData[['Education','Seniority']]\n",
    "\n",
    "# get the traget data\n",
    "y = incomeData['Income']\n",
    "\n",
    "# fit the model with the feature and target data\n",
    "incomeModel_EduAndSeniority.fit(X=X, y=y);\n",
    "\n",
    "predIncome__EduAndSeniority = incomeModel_EduAndSeniority.predict(X);\n",
    "\n",
    "r2 = r2_score(y,predIncome__EduAndSeniority);\n",
    "print('The R2 of the model is : ' + str(r2))"
   ]
  },
  {
   "cell_type": "markdown",
   "metadata": {},
   "source": [
    "The model has two coefficients (ie Education and Seniority) to predict the Income. The model is linear and has the form  = b0 + b1 * Education + b2 * Seniority.\n",
    "\n",
    "The R2 of the model is 0.93, which is an improvement over the previous model which had and R2 of 0.812. Hence, the addition of the Seniority has improved the prediction of the Income.\n"
   ]
  },
  {
   "cell_type": "markdown",
   "metadata": {},
   "source": [
    "#### Answer 1-11 "
   ]
  },
  {
   "cell_type": "code",
   "execution_count": 772,
   "metadata": {},
   "outputs": [
    {
     "name": "stdout",
     "output_type": "stream",
     "text": [
      "The intercept of the model is : -50.08563875473375\n",
      "Coefficient of Education is : 5.89555596095109\n",
      "Coefficient of Seniority is : 0.17285546935048077\n"
     ]
    }
   ],
   "source": [
    "# regression parameters intercept is beta0 and coef_ is beta1\n",
    "print('The intercept of the model is : ' + str(incomeModel_EduAndSeniority.intercept_))\n",
    "print('Coefficient of Education is : ' + str(incomeModel_EduAndSeniority.coef_[0]))\n",
    "print('Coefficient of Seniority is : ' + str(incomeModel_EduAndSeniority.coef_[1]))"
   ]
  },
  {
   "cell_type": "markdown",
   "metadata": {},
   "source": [
    "#### Answer 1-12"
   ]
  },
  {
   "cell_type": "code",
   "execution_count": 140,
   "metadata": {},
   "outputs": [
    {
     "name": "stdout",
     "output_type": "stream",
     "text": [
      "The predicited value for 18 years of education and 60 yrs of seniority is : 66.40569670341472\n"
     ]
    }
   ],
   "source": [
    "predValue = incomeModel_EduAndSeniority.intercept_ +  incomeModel_EduAndSeniority.coef_[0]*18 + incomeModel_EduAndSeniority.coef_[1]*60\n",
    "print('The predicited value for 18 years of education and 60 yrs of seniority is : '+ str(predValue))"
   ]
  },
  {
   "cell_type": "markdown",
   "metadata": {},
   "source": [
    "#### Answer 1-13"
   ]
  },
  {
   "cell_type": "markdown",
   "metadata": {},
   "source": [
    "Education is a stronger predictor of Income since it has a stronger correlation coefficient 0.9 then Senioirty which has a correlation coefficient of 0.5. The strong linear relationship seen in the scatter plot of Education vs Income (tight line with positive relationship) also testifies that Education is a stronger predictor."
   ]
  },
  {
   "cell_type": "markdown",
   "metadata": {},
   "source": [
    "## Question 2 <span style=\"color:red\">(30 points)</span>\n",
    "\n",
    "1.  Download `Credit.csv` from http://www-bcf.usc.edu/~gareth/ISL/Credit.csv\n",
    "2.  Load the data into this Jupyter notebook. \n",
    "3.  Describe the data using descriptive statistics such as measures of central tendancy, dispersion or association.\n",
    "4.  Explore the data by vizualing it through various figures. Clearly explain or interpret each figure, justify the appropriateness of the tool used for visualization, highlight the information it provides, and, finally, explain how this information affect your further analysis.\n",
    "5.  Which variables of this dataset are **qualitative** and which ones are **quantitative**? Create an attribute (also called design) matrix  $\\mathbf{X}$ that includes only the following attributes:`Income`, `Limit`, `Rating`, `Cards`, `Age`, and `Education`.\n",
    "6.  Create a binary variable `Balance_1500` which equals $1$ for each observation if `Balance` $> 1500$ for that observation and equals $0$ otherwise.\n",
    "7.  Model `Balance_1500` by the explanatory variables mentionned in Step 5 using the following models: \n",
    "    + logistic regression, \n",
    "    + linear discriminant, and \n",
    "    + quadratic discriminant.\n",
    "8. Interpret the coefficients of `Income`, `Age`, and `Education` for the logistic regression model.    \n",
    "9. Find the probability of (`Balance` $> 1500$), for the following values, using all three aforementionned methods:\n",
    "\n",
    "|    Income    |    Limit     |     Rating     |    Cards     |      Age        |   Education   | \n",
    "|--------------|--------------|----------------|--------------|-----------------|---------------|\n",
    "|      63      |    8100      |     600        |      4       |       30        |      13       |\n",
    "|     186      |    13414     |     950        |      2       |       41        |      13       |\n",
    "\n",
    "    Compare the probabilities and comment.\n",
    "    \n",
    "10. For each method, print the confusion matrix, the accuracy score and the AUC using all observations. Compare these metrics and comment. \n",
    "11. Plot the ROC Curve of the three methods on the same figure. Comment."
   ]
  },
  {
   "cell_type": "markdown",
   "metadata": {},
   "source": [
    "#### Answer 2-1 and 2-2"
   ]
  },
  {
   "cell_type": "code",
   "execution_count": 187,
   "metadata": {},
   "outputs": [
    {
     "data": {
      "text/html": [
       "<div>\n",
       "<style scoped>\n",
       "    .dataframe tbody tr th:only-of-type {\n",
       "        vertical-align: middle;\n",
       "    }\n",
       "\n",
       "    .dataframe tbody tr th {\n",
       "        vertical-align: top;\n",
       "    }\n",
       "\n",
       "    .dataframe thead th {\n",
       "        text-align: right;\n",
       "    }\n",
       "</style>\n",
       "<table border=\"1\" class=\"dataframe\">\n",
       "  <thead>\n",
       "    <tr style=\"text-align: right;\">\n",
       "      <th></th>\n",
       "      <th>Income</th>\n",
       "      <th>Limit</th>\n",
       "      <th>Rating</th>\n",
       "      <th>Cards</th>\n",
       "      <th>Age</th>\n",
       "      <th>Education</th>\n",
       "      <th>Gender</th>\n",
       "      <th>Student</th>\n",
       "      <th>Married</th>\n",
       "      <th>Ethnicity</th>\n",
       "      <th>Balance</th>\n",
       "    </tr>\n",
       "  </thead>\n",
       "  <tbody>\n",
       "    <tr>\n",
       "      <th>0</th>\n",
       "      <td>14.891</td>\n",
       "      <td>3606</td>\n",
       "      <td>283</td>\n",
       "      <td>2</td>\n",
       "      <td>34</td>\n",
       "      <td>11</td>\n",
       "      <td>Male</td>\n",
       "      <td>No</td>\n",
       "      <td>Yes</td>\n",
       "      <td>Caucasian</td>\n",
       "      <td>333</td>\n",
       "    </tr>\n",
       "    <tr>\n",
       "      <th>1</th>\n",
       "      <td>106.025</td>\n",
       "      <td>6645</td>\n",
       "      <td>483</td>\n",
       "      <td>3</td>\n",
       "      <td>82</td>\n",
       "      <td>15</td>\n",
       "      <td>Female</td>\n",
       "      <td>Yes</td>\n",
       "      <td>Yes</td>\n",
       "      <td>Asian</td>\n",
       "      <td>903</td>\n",
       "    </tr>\n",
       "    <tr>\n",
       "      <th>2</th>\n",
       "      <td>104.593</td>\n",
       "      <td>7075</td>\n",
       "      <td>514</td>\n",
       "      <td>4</td>\n",
       "      <td>71</td>\n",
       "      <td>11</td>\n",
       "      <td>Male</td>\n",
       "      <td>No</td>\n",
       "      <td>No</td>\n",
       "      <td>Asian</td>\n",
       "      <td>580</td>\n",
       "    </tr>\n",
       "    <tr>\n",
       "      <th>3</th>\n",
       "      <td>148.924</td>\n",
       "      <td>9504</td>\n",
       "      <td>681</td>\n",
       "      <td>3</td>\n",
       "      <td>36</td>\n",
       "      <td>11</td>\n",
       "      <td>Female</td>\n",
       "      <td>No</td>\n",
       "      <td>No</td>\n",
       "      <td>Asian</td>\n",
       "      <td>964</td>\n",
       "    </tr>\n",
       "    <tr>\n",
       "      <th>4</th>\n",
       "      <td>55.882</td>\n",
       "      <td>4897</td>\n",
       "      <td>357</td>\n",
       "      <td>2</td>\n",
       "      <td>68</td>\n",
       "      <td>16</td>\n",
       "      <td>Male</td>\n",
       "      <td>No</td>\n",
       "      <td>Yes</td>\n",
       "      <td>Caucasian</td>\n",
       "      <td>331</td>\n",
       "    </tr>\n",
       "    <tr>\n",
       "      <th>5</th>\n",
       "      <td>80.180</td>\n",
       "      <td>8047</td>\n",
       "      <td>569</td>\n",
       "      <td>4</td>\n",
       "      <td>77</td>\n",
       "      <td>10</td>\n",
       "      <td>Male</td>\n",
       "      <td>No</td>\n",
       "      <td>No</td>\n",
       "      <td>Caucasian</td>\n",
       "      <td>1151</td>\n",
       "    </tr>\n",
       "    <tr>\n",
       "      <th>6</th>\n",
       "      <td>20.996</td>\n",
       "      <td>3388</td>\n",
       "      <td>259</td>\n",
       "      <td>2</td>\n",
       "      <td>37</td>\n",
       "      <td>12</td>\n",
       "      <td>Female</td>\n",
       "      <td>No</td>\n",
       "      <td>No</td>\n",
       "      <td>African American</td>\n",
       "      <td>203</td>\n",
       "    </tr>\n",
       "    <tr>\n",
       "      <th>7</th>\n",
       "      <td>71.408</td>\n",
       "      <td>7114</td>\n",
       "      <td>512</td>\n",
       "      <td>2</td>\n",
       "      <td>87</td>\n",
       "      <td>9</td>\n",
       "      <td>Male</td>\n",
       "      <td>No</td>\n",
       "      <td>No</td>\n",
       "      <td>Asian</td>\n",
       "      <td>872</td>\n",
       "    </tr>\n",
       "    <tr>\n",
       "      <th>8</th>\n",
       "      <td>15.125</td>\n",
       "      <td>3300</td>\n",
       "      <td>266</td>\n",
       "      <td>5</td>\n",
       "      <td>66</td>\n",
       "      <td>13</td>\n",
       "      <td>Female</td>\n",
       "      <td>No</td>\n",
       "      <td>No</td>\n",
       "      <td>Caucasian</td>\n",
       "      <td>279</td>\n",
       "    </tr>\n",
       "    <tr>\n",
       "      <th>9</th>\n",
       "      <td>71.061</td>\n",
       "      <td>6819</td>\n",
       "      <td>491</td>\n",
       "      <td>3</td>\n",
       "      <td>41</td>\n",
       "      <td>19</td>\n",
       "      <td>Female</td>\n",
       "      <td>Yes</td>\n",
       "      <td>Yes</td>\n",
       "      <td>African American</td>\n",
       "      <td>1350</td>\n",
       "    </tr>\n",
       "  </tbody>\n",
       "</table>\n",
       "</div>"
      ],
      "text/plain": [
       "    Income  Limit  Rating  Cards  Age  Education  Gender Student Married  \\\n",
       "0   14.891   3606     283      2   34         11    Male      No     Yes   \n",
       "1  106.025   6645     483      3   82         15  Female     Yes     Yes   \n",
       "2  104.593   7075     514      4   71         11    Male      No      No   \n",
       "3  148.924   9504     681      3   36         11  Female      No      No   \n",
       "4   55.882   4897     357      2   68         16    Male      No     Yes   \n",
       "5   80.180   8047     569      4   77         10    Male      No      No   \n",
       "6   20.996   3388     259      2   37         12  Female      No      No   \n",
       "7   71.408   7114     512      2   87          9    Male      No      No   \n",
       "8   15.125   3300     266      5   66         13  Female      No      No   \n",
       "9   71.061   6819     491      3   41         19  Female     Yes     Yes   \n",
       "\n",
       "          Ethnicity  Balance  \n",
       "0         Caucasian      333  \n",
       "1             Asian      903  \n",
       "2             Asian      580  \n",
       "3             Asian      964  \n",
       "4         Caucasian      331  \n",
       "5         Caucasian     1151  \n",
       "6  African American      203  \n",
       "7             Asian      872  \n",
       "8         Caucasian      279  \n",
       "9  African American     1350  "
      ]
     },
     "execution_count": 187,
     "metadata": {},
     "output_type": "execute_result"
    }
   ],
   "source": [
    "# load the credi data\n",
    "creditData = pd.read_csv('Credit.csv')\n",
    "\n",
    "# remove the first column\n",
    "creditData = creditData.iloc[:,1:]\n",
    "\n",
    "# display the data\n",
    "creditData.head(10)"
   ]
  },
  {
   "cell_type": "markdown",
   "metadata": {},
   "source": [
    "#### Answer 2-3"
   ]
  },
  {
   "cell_type": "code",
   "execution_count": 188,
   "metadata": {},
   "outputs": [
    {
     "data": {
      "text/html": [
       "<div>\n",
       "<style scoped>\n",
       "    .dataframe tbody tr th:only-of-type {\n",
       "        vertical-align: middle;\n",
       "    }\n",
       "\n",
       "    .dataframe tbody tr th {\n",
       "        vertical-align: top;\n",
       "    }\n",
       "\n",
       "    .dataframe thead th {\n",
       "        text-align: right;\n",
       "    }\n",
       "</style>\n",
       "<table border=\"1\" class=\"dataframe\">\n",
       "  <thead>\n",
       "    <tr style=\"text-align: right;\">\n",
       "      <th></th>\n",
       "      <th>Income</th>\n",
       "      <th>Limit</th>\n",
       "      <th>Rating</th>\n",
       "      <th>Cards</th>\n",
       "      <th>Age</th>\n",
       "      <th>Education</th>\n",
       "      <th>Balance</th>\n",
       "    </tr>\n",
       "  </thead>\n",
       "  <tbody>\n",
       "    <tr>\n",
       "      <th>count</th>\n",
       "      <td>400.000000</td>\n",
       "      <td>400.000000</td>\n",
       "      <td>400.000000</td>\n",
       "      <td>400.000000</td>\n",
       "      <td>400.000000</td>\n",
       "      <td>400.000000</td>\n",
       "      <td>400.000000</td>\n",
       "    </tr>\n",
       "    <tr>\n",
       "      <th>mean</th>\n",
       "      <td>45.218885</td>\n",
       "      <td>4735.600000</td>\n",
       "      <td>354.940000</td>\n",
       "      <td>2.957500</td>\n",
       "      <td>55.667500</td>\n",
       "      <td>13.450000</td>\n",
       "      <td>520.015000</td>\n",
       "    </tr>\n",
       "    <tr>\n",
       "      <th>std</th>\n",
       "      <td>35.244273</td>\n",
       "      <td>2308.198848</td>\n",
       "      <td>154.724143</td>\n",
       "      <td>1.371275</td>\n",
       "      <td>17.249807</td>\n",
       "      <td>3.125207</td>\n",
       "      <td>459.758877</td>\n",
       "    </tr>\n",
       "    <tr>\n",
       "      <th>min</th>\n",
       "      <td>10.354000</td>\n",
       "      <td>855.000000</td>\n",
       "      <td>93.000000</td>\n",
       "      <td>1.000000</td>\n",
       "      <td>23.000000</td>\n",
       "      <td>5.000000</td>\n",
       "      <td>0.000000</td>\n",
       "    </tr>\n",
       "    <tr>\n",
       "      <th>25%</th>\n",
       "      <td>21.007250</td>\n",
       "      <td>3088.000000</td>\n",
       "      <td>247.250000</td>\n",
       "      <td>2.000000</td>\n",
       "      <td>41.750000</td>\n",
       "      <td>11.000000</td>\n",
       "      <td>68.750000</td>\n",
       "    </tr>\n",
       "    <tr>\n",
       "      <th>50%</th>\n",
       "      <td>33.115500</td>\n",
       "      <td>4622.500000</td>\n",
       "      <td>344.000000</td>\n",
       "      <td>3.000000</td>\n",
       "      <td>56.000000</td>\n",
       "      <td>14.000000</td>\n",
       "      <td>459.500000</td>\n",
       "    </tr>\n",
       "    <tr>\n",
       "      <th>75%</th>\n",
       "      <td>57.470750</td>\n",
       "      <td>5872.750000</td>\n",
       "      <td>437.250000</td>\n",
       "      <td>4.000000</td>\n",
       "      <td>70.000000</td>\n",
       "      <td>16.000000</td>\n",
       "      <td>863.000000</td>\n",
       "    </tr>\n",
       "    <tr>\n",
       "      <th>max</th>\n",
       "      <td>186.634000</td>\n",
       "      <td>13913.000000</td>\n",
       "      <td>982.000000</td>\n",
       "      <td>9.000000</td>\n",
       "      <td>98.000000</td>\n",
       "      <td>20.000000</td>\n",
       "      <td>1999.000000</td>\n",
       "    </tr>\n",
       "  </tbody>\n",
       "</table>\n",
       "</div>"
      ],
      "text/plain": [
       "           Income         Limit      Rating       Cards         Age  \\\n",
       "count  400.000000    400.000000  400.000000  400.000000  400.000000   \n",
       "mean    45.218885   4735.600000  354.940000    2.957500   55.667500   \n",
       "std     35.244273   2308.198848  154.724143    1.371275   17.249807   \n",
       "min     10.354000    855.000000   93.000000    1.000000   23.000000   \n",
       "25%     21.007250   3088.000000  247.250000    2.000000   41.750000   \n",
       "50%     33.115500   4622.500000  344.000000    3.000000   56.000000   \n",
       "75%     57.470750   5872.750000  437.250000    4.000000   70.000000   \n",
       "max    186.634000  13913.000000  982.000000    9.000000   98.000000   \n",
       "\n",
       "        Education      Balance  \n",
       "count  400.000000   400.000000  \n",
       "mean    13.450000   520.015000  \n",
       "std      3.125207   459.758877  \n",
       "min      5.000000     0.000000  \n",
       "25%     11.000000    68.750000  \n",
       "50%     14.000000   459.500000  \n",
       "75%     16.000000   863.000000  \n",
       "max     20.000000  1999.000000  "
      ]
     },
     "execution_count": 188,
     "metadata": {},
     "output_type": "execute_result"
    }
   ],
   "source": [
    "# get the values of central tendency and dispersion\n",
    "creditData.describe()"
   ]
  },
  {
   "cell_type": "code",
   "execution_count": 189,
   "metadata": {},
   "outputs": [
    {
     "data": {
      "text/html": [
       "<div>\n",
       "<style scoped>\n",
       "    .dataframe tbody tr th:only-of-type {\n",
       "        vertical-align: middle;\n",
       "    }\n",
       "\n",
       "    .dataframe tbody tr th {\n",
       "        vertical-align: top;\n",
       "    }\n",
       "\n",
       "    .dataframe thead th {\n",
       "        text-align: right;\n",
       "    }\n",
       "</style>\n",
       "<table border=\"1\" class=\"dataframe\">\n",
       "  <thead>\n",
       "    <tr style=\"text-align: right;\">\n",
       "      <th></th>\n",
       "      <th>Income</th>\n",
       "      <th>Limit</th>\n",
       "      <th>Rating</th>\n",
       "      <th>Cards</th>\n",
       "      <th>Age</th>\n",
       "      <th>Education</th>\n",
       "      <th>Balance</th>\n",
       "    </tr>\n",
       "  </thead>\n",
       "  <tbody>\n",
       "    <tr>\n",
       "      <th>Income</th>\n",
       "      <td>1.000000</td>\n",
       "      <td>0.792088</td>\n",
       "      <td>0.791378</td>\n",
       "      <td>-0.018273</td>\n",
       "      <td>0.175338</td>\n",
       "      <td>-0.027692</td>\n",
       "      <td>0.463656</td>\n",
       "    </tr>\n",
       "    <tr>\n",
       "      <th>Limit</th>\n",
       "      <td>0.792088</td>\n",
       "      <td>1.000000</td>\n",
       "      <td>0.996880</td>\n",
       "      <td>0.010231</td>\n",
       "      <td>0.100888</td>\n",
       "      <td>-0.023549</td>\n",
       "      <td>0.861697</td>\n",
       "    </tr>\n",
       "    <tr>\n",
       "      <th>Rating</th>\n",
       "      <td>0.791378</td>\n",
       "      <td>0.996880</td>\n",
       "      <td>1.000000</td>\n",
       "      <td>0.053239</td>\n",
       "      <td>0.103165</td>\n",
       "      <td>-0.030136</td>\n",
       "      <td>0.863625</td>\n",
       "    </tr>\n",
       "    <tr>\n",
       "      <th>Cards</th>\n",
       "      <td>-0.018273</td>\n",
       "      <td>0.010231</td>\n",
       "      <td>0.053239</td>\n",
       "      <td>1.000000</td>\n",
       "      <td>0.042948</td>\n",
       "      <td>-0.051084</td>\n",
       "      <td>0.086456</td>\n",
       "    </tr>\n",
       "    <tr>\n",
       "      <th>Age</th>\n",
       "      <td>0.175338</td>\n",
       "      <td>0.100888</td>\n",
       "      <td>0.103165</td>\n",
       "      <td>0.042948</td>\n",
       "      <td>1.000000</td>\n",
       "      <td>0.003619</td>\n",
       "      <td>0.001835</td>\n",
       "    </tr>\n",
       "    <tr>\n",
       "      <th>Education</th>\n",
       "      <td>-0.027692</td>\n",
       "      <td>-0.023549</td>\n",
       "      <td>-0.030136</td>\n",
       "      <td>-0.051084</td>\n",
       "      <td>0.003619</td>\n",
       "      <td>1.000000</td>\n",
       "      <td>-0.008062</td>\n",
       "    </tr>\n",
       "    <tr>\n",
       "      <th>Balance</th>\n",
       "      <td>0.463656</td>\n",
       "      <td>0.861697</td>\n",
       "      <td>0.863625</td>\n",
       "      <td>0.086456</td>\n",
       "      <td>0.001835</td>\n",
       "      <td>-0.008062</td>\n",
       "      <td>1.000000</td>\n",
       "    </tr>\n",
       "  </tbody>\n",
       "</table>\n",
       "</div>"
      ],
      "text/plain": [
       "             Income     Limit    Rating     Cards       Age  Education  \\\n",
       "Income     1.000000  0.792088  0.791378 -0.018273  0.175338  -0.027692   \n",
       "Limit      0.792088  1.000000  0.996880  0.010231  0.100888  -0.023549   \n",
       "Rating     0.791378  0.996880  1.000000  0.053239  0.103165  -0.030136   \n",
       "Cards     -0.018273  0.010231  0.053239  1.000000  0.042948  -0.051084   \n",
       "Age        0.175338  0.100888  0.103165  0.042948  1.000000   0.003619   \n",
       "Education -0.027692 -0.023549 -0.030136 -0.051084  0.003619   1.000000   \n",
       "Balance    0.463656  0.861697  0.863625  0.086456  0.001835  -0.008062   \n",
       "\n",
       "            Balance  \n",
       "Income     0.463656  \n",
       "Limit      0.861697  \n",
       "Rating     0.863625  \n",
       "Cards      0.086456  \n",
       "Age        0.001835  \n",
       "Education -0.008062  \n",
       "Balance    1.000000  "
      ]
     },
     "execution_count": 189,
     "metadata": {},
     "output_type": "execute_result"
    }
   ],
   "source": [
    "# get the values of association (i.e. correlation)\n",
    "creditData.corr()"
   ]
  },
  {
   "cell_type": "markdown",
   "metadata": {},
   "source": [
    "By examing the correlation table we can see that Limit and Rating are highly correlated to the Balance. The Income comes in thrid position."
   ]
  },
  {
   "cell_type": "markdown",
   "metadata": {},
   "source": [
    "#### Answer 2-4"
   ]
  },
  {
   "cell_type": "markdown",
   "metadata": {},
   "source": [
    "##### Descriptive graphs for Income with respect to Balance"
   ]
  },
  {
   "cell_type": "code",
   "execution_count": 190,
   "metadata": {},
   "outputs": [
    {
     "name": "stdout",
     "output_type": "stream",
     "text": [
      "Descriptive plots for the Income independant variable\n",
      "The correlation coef is : 0.46365645701575736\n"
     ]
    },
    {
     "data": {
      "image/png": "[encoded data removed]",
      "text/plain": [
       "<Figure size 432x288 with 3 Axes>"
      ]
     },
     "metadata": {
      "needs_background": "light"
     },
     "output_type": "display_data"
    }
   ],
   "source": [
    "descriptivePlot(creditData,'Income','Balance')"
   ]
  },
  {
   "cell_type": "markdown",
   "metadata": {},
   "source": [
    "The Income data set is skewed to the left and has several outliers. The scatter plot indicates that an increase in Income will increase the Balance, however note that there is quite a bit of variance in the relationship. The correlation coefficient is 0.435, so there is a relationship but it is not the strongest. The Income should be somewhat significant in the model"
   ]
  },
  {
   "cell_type": "markdown",
   "metadata": {},
   "source": [
    "##### Descriptive graphs for Limit with respect to Balance"
   ]
  },
  {
   "cell_type": "code",
   "execution_count": 191,
   "metadata": {},
   "outputs": [
    {
     "name": "stdout",
     "output_type": "stream",
     "text": [
      "Descriptive plots for the Limit independant variable\n",
      "The correlation coef is : 0.8616972670153951\n"
     ]
    },
    {
     "data": {
      "image/png": "[encoded data removed]",
      "text/plain": [
       "<Figure size 432x288 with 3 Axes>"
      ]
     },
     "metadata": {
      "needs_background": "light"
     },
     "output_type": "display_data"
    }
   ],
   "source": [
    "descriptivePlot(creditData,'Limit','Balance')"
   ]
  },
  {
   "cell_type": "markdown",
   "metadata": {},
   "source": [
    "The Limit data is more normally distibuted, however it is still skewed to the left. The boxplot shows some outliers. The scatter plot shows that the Limit to Balance relationship is relatively strong as does the correlation coefficient of 0.86. Hence Limit should be very significant in the model."
   ]
  },
  {
   "cell_type": "markdown",
   "metadata": {},
   "source": [
    "##### Descriptive graphs for Rating with respect to Balance"
   ]
  },
  {
   "cell_type": "code",
   "execution_count": 192,
   "metadata": {},
   "outputs": [
    {
     "name": "stdout",
     "output_type": "stream",
     "text": [
      "Descriptive plots for the Rating independant variable\n",
      "The correlation coef is : 0.863625160621495\n"
     ]
    },
    {
     "data": {
      "image/png": "[encoded data removed]",
      "text/plain": [
       "<Figure size 432x288 with 3 Axes>"
      ]
     },
     "metadata": {
      "needs_background": "light"
     },
     "output_type": "display_data"
    }
   ],
   "source": [
    "descriptivePlot(creditData,'Rating','Balance')"
   ]
  },
  {
   "cell_type": "markdown",
   "metadata": {},
   "source": [
    "The Rating data is normally distributed. The boxplot shows few outliers. The scatter plot indicates and the correlation coefficient 0.86 show a strong relationship with the Balance. Hence the Rating variable should be very significant in the model."
   ]
  },
  {
   "cell_type": "markdown",
   "metadata": {},
   "source": [
    "##### Descriptive graphs for Cards with respect to Balance"
   ]
  },
  {
   "cell_type": "code",
   "execution_count": 193,
   "metadata": {},
   "outputs": [
    {
     "name": "stdout",
     "output_type": "stream",
     "text": [
      "Descriptive plots for the Cards independant variable\n",
      "The correlation coef is : 0.08645634741861911\n"
     ]
    },
    {
     "data": {
      "image/png": "[encoded data removed]",
      "text/plain": [
       "<Figure size 432x288 with 3 Axes>"
      ]
     },
     "metadata": {
      "needs_background": "light"
     },
     "output_type": "display_data"
    }
   ],
   "source": [
    "descriptivePlot(creditData,'Cards','Balance')"
   ]
  },
  {
   "cell_type": "markdown",
   "metadata": {},
   "source": [
    "The Cards data is normally distributed. The scatter plot and the correlation coefficient of 0.086 do not show a strong relationship with the Balance. Hence the Cards variable should not be significant in the model."
   ]
  },
  {
   "cell_type": "markdown",
   "metadata": {},
   "source": [
    "##### Descriptive graphs for Age with respect to Balance"
   ]
  },
  {
   "cell_type": "code",
   "execution_count": 194,
   "metadata": {},
   "outputs": [
    {
     "name": "stdout",
     "output_type": "stream",
     "text": [
      "Descriptive plots for the Age independant variable\n",
      "The correlation coef is : 0.0018351188590736563\n"
     ]
    },
    {
     "data": {
      "image/png": "[encoded data removed]",
      "text/plain": [
       "<Figure size 432x288 with 3 Axes>"
      ]
     },
     "metadata": {
      "needs_background": "light"
     },
     "output_type": "display_data"
    }
   ],
   "source": [
    "descriptivePlot(creditData,'Age','Balance')"
   ]
  },
  {
   "cell_type": "markdown",
   "metadata": {},
   "source": [
    "The Age data is normally distributed. The scatter plot and the correlation coefficient of 0.002 do not show a strong relationship with the Balance. Hence the Age variable should not be significant in the model."
   ]
  },
  {
   "cell_type": "markdown",
   "metadata": {},
   "source": [
    "##### Descriptive graphs for Education with respect to Balance"
   ]
  },
  {
   "cell_type": "code",
   "execution_count": 195,
   "metadata": {},
   "outputs": [
    {
     "name": "stdout",
     "output_type": "stream",
     "text": [
      "Descriptive plots for the Education independant variable\n",
      "The correlation coef is : -0.00806157645355343\n"
     ]
    },
    {
     "data": {
      "image/png": "[encoded data removed]",
      "text/plain": [
       "<Figure size 432x288 with 3 Axes>"
      ]
     },
     "metadata": {
      "needs_background": "light"
     },
     "output_type": "display_data"
    }
   ],
   "source": [
    "descriptivePlot(creditData,'Education','Balance')"
   ]
  },
  {
   "cell_type": "markdown",
   "metadata": {},
   "source": [
    "The Education data is normally distributed. The scatter plot and the correlation coefficient of -0.008 do not show a strong relationship with the Balance. Hence the Education variable should not be significant in the model."
   ]
  },
  {
   "cell_type": "markdown",
   "metadata": {},
   "source": [
    "##### Descriptive graph for the qualitative data Ethnicity, Gender, Student and Married"
   ]
  },
  {
   "cell_type": "code",
   "execution_count": 196,
   "metadata": {},
   "outputs": [
    {
     "data": {
      "image/png": "[encoded data removed]",
      "text/plain": [
       "<Figure size 432x288 with 4 Axes>"
      ]
     },
     "metadata": {
      "needs_background": "light"
     },
     "output_type": "display_data"
    }
   ],
   "source": [
    "labelencoder = LabelEncoder()\n",
    "plt.subplot(1,4,1)\n",
    "ethnicity = labelencoder.fit_transform(creditData['Ethnicity'])\n",
    "plt.hist(ethnicity);\n",
    "plt.ylabel('frequency');\n",
    "plt.xlabel('Ethnicity');\n",
    "plt.subplot(1,4,2)\n",
    "gender = labelencoder.fit_transform(creditData['Gender'])\n",
    "plt.hist(gender);\n",
    "plt.ylabel('frequency');\n",
    "plt.xlabel('Gender');\n",
    "plt.subplot(1,4,3)\n",
    "student = labelencoder.fit_transform(creditData['Student'])\n",
    "plt.hist(student);\n",
    "plt.ylabel('frequency');\n",
    "plt.xlabel('Student');\n",
    "plt.subplot(1,4,4)\n",
    "married = labelencoder.fit_transform(creditData['Married'])\n",
    "plt.hist(student);\n",
    "plt.ylabel('frequency');\n",
    "plt.xlabel('Married');\n",
    "plt.tight_layout();"
   ]
  },
  {
   "cell_type": "markdown",
   "metadata": {},
   "source": [
    "The follwing grafs show the histograms for the qualatative data of Ethnicity, Gender, Student and Married."
   ]
  },
  {
   "cell_type": "markdown",
   "metadata": {},
   "source": [
    "#### Answer 2-5"
   ]
  },
  {
   "cell_type": "markdown",
   "metadata": {},
   "source": [
    "The Income, Limit, Rating, Cards, Age and Education are quantative values. As for Ethnicity, Gender, Student and Married are qualatative values."
   ]
  },
  {
   "cell_type": "code",
   "execution_count": 689,
   "metadata": {},
   "outputs": [
    {
     "data": {
      "text/html": [
       "<div>\n",
       "<style scoped>\n",
       "    .dataframe tbody tr th:only-of-type {\n",
       "        vertical-align: middle;\n",
       "    }\n",
       "\n",
       "    .dataframe tbody tr th {\n",
       "        vertical-align: top;\n",
       "    }\n",
       "\n",
       "    .dataframe thead th {\n",
       "        text-align: right;\n",
       "    }\n",
       "</style>\n",
       "<table border=\"1\" class=\"dataframe\">\n",
       "  <thead>\n",
       "    <tr style=\"text-align: right;\">\n",
       "      <th></th>\n",
       "      <th>Income</th>\n",
       "      <th>Limit</th>\n",
       "      <th>Rating</th>\n",
       "      <th>Cards</th>\n",
       "      <th>Age</th>\n",
       "      <th>Education</th>\n",
       "    </tr>\n",
       "  </thead>\n",
       "  <tbody>\n",
       "    <tr>\n",
       "      <th>0</th>\n",
       "      <td>14.891</td>\n",
       "      <td>3606</td>\n",
       "      <td>283</td>\n",
       "      <td>2</td>\n",
       "      <td>34</td>\n",
       "      <td>11</td>\n",
       "    </tr>\n",
       "    <tr>\n",
       "      <th>1</th>\n",
       "      <td>106.025</td>\n",
       "      <td>6645</td>\n",
       "      <td>483</td>\n",
       "      <td>3</td>\n",
       "      <td>82</td>\n",
       "      <td>15</td>\n",
       "    </tr>\n",
       "    <tr>\n",
       "      <th>2</th>\n",
       "      <td>104.593</td>\n",
       "      <td>7075</td>\n",
       "      <td>514</td>\n",
       "      <td>4</td>\n",
       "      <td>71</td>\n",
       "      <td>11</td>\n",
       "    </tr>\n",
       "    <tr>\n",
       "      <th>3</th>\n",
       "      <td>148.924</td>\n",
       "      <td>9504</td>\n",
       "      <td>681</td>\n",
       "      <td>3</td>\n",
       "      <td>36</td>\n",
       "      <td>11</td>\n",
       "    </tr>\n",
       "    <tr>\n",
       "      <th>4</th>\n",
       "      <td>55.882</td>\n",
       "      <td>4897</td>\n",
       "      <td>357</td>\n",
       "      <td>2</td>\n",
       "      <td>68</td>\n",
       "      <td>16</td>\n",
       "    </tr>\n",
       "  </tbody>\n",
       "</table>\n",
       "</div>"
      ],
      "text/plain": [
       "    Income  Limit  Rating  Cards  Age  Education\n",
       "0   14.891   3606     283      2   34         11\n",
       "1  106.025   6645     483      3   82         15\n",
       "2  104.593   7075     514      4   71         11\n",
       "3  148.924   9504     681      3   36         11\n",
       "4   55.882   4897     357      2   68         16"
      ]
     },
     "execution_count": 689,
     "metadata": {},
     "output_type": "execute_result"
    }
   ],
   "source": [
    "X = creditData[['Income','Limit','Rating','Cards','Age','Education']]\n",
    "X.head()"
   ]
  },
  {
   "cell_type": "markdown",
   "metadata": {},
   "source": [
    "#### Answer 2-6"
   ]
  },
  {
   "cell_type": "code",
   "execution_count": 751,
   "metadata": {},
   "outputs": [],
   "source": [
    "# using the np.where method create the binary value for all values >= 1500\n",
    "Balance_1500 = np.where(creditData['Balance']>=1500, 1, 0)"
   ]
  },
  {
   "cell_type": "markdown",
   "metadata": {},
   "source": [
    "#### Answer 2-7"
   ]
  },
  {
   "cell_type": "code",
   "execution_count": 752,
   "metadata": {},
   "outputs": [
    {
     "name": "stderr",
     "output_type": "stream",
     "text": [
      "/Users/vince/anaconda3/envs/ml/lib/python3.7/site-packages/sklearn/linear_model/logistic.py:432: FutureWarning: Default solver will be changed to 'lbfgs' in 0.22. Specify a solver to silence this warning.\n",
      "  FutureWarning)\n"
     ]
    }
   ],
   "source": [
    "# create the logistic model\n",
    "y = Balance_1500\n",
    "creditModelLogistic = LogisticRegression();\n",
    "creditModelLogistic.fit(X, y);"
   ]
  },
  {
   "cell_type": "code",
   "execution_count": 753,
   "metadata": {},
   "outputs": [],
   "source": [
    "# create the LDA model\n",
    "creditModelLDA = LinearDiscriminantAnalysis()\n",
    "creditModelLDA.fit(X,y);"
   ]
  },
  {
   "cell_type": "code",
   "execution_count": 754,
   "metadata": {},
   "outputs": [],
   "source": [
    "# create the QDA model\n",
    "creditModelQDA = QuadraticDiscriminantAnalysis()\n",
    "creditModelQDA.fit(X,y);"
   ]
  },
  {
   "cell_type": "markdown",
   "metadata": {},
   "source": [
    "#### Answer 2-8"
   ]
  },
  {
   "cell_type": "code",
   "execution_count": 755,
   "metadata": {},
   "outputs": [
    {
     "name": "stdout",
     "output_type": "stream",
     "text": [
      "The income coeficient is : -0.009467993920739192\n",
      "The age coeficient is : -0.05982423506658512\n",
      "The education coeficient is : -0.35430612857899785\n"
     ]
    }
   ],
   "source": [
    "incomeCoef = creditModelLogistic.coef_[0,0]\n",
    "ageCoef = creditModelLogistic.coef_[0,4]\n",
    "educationCoef = creditModelLogistic.coef_[0,5]\n",
    "\n",
    "print('The income coeficient is : ' + str(incomeCoef))\n",
    "print('The age coeficient is : ' + str(ageCoef))\n",
    "print('The education coeficient is : ' + str(educationCoef))\n"
   ]
  },
  {
   "cell_type": "markdown",
   "metadata": {},
   "source": [
    "The Income, Age, and Education are all negative. As demonstrated below when we increase the value of these variables it increases the probability of having a balance over 1500"
   ]
  },
  {
   "cell_type": "markdown",
   "metadata": {},
   "source": [
    "##### Case - increasing value of income.\n",
    "\n",
    "In three data sets below we have kept all values equal, however we have increased income in 20 unit increments. As can be seen this has the effect of increasing the probability of exceeding 1500 balance."
   ]
  },
  {
   "cell_type": "code",
   "execution_count": 756,
   "metadata": {},
   "outputs": [
    {
     "name": "stdout",
     "output_type": "stream",
     "text": [
      "[0.96145235 0.96788872 0.97328027 0.97778733]\n"
     ]
    }
   ],
   "source": [
    "# increasing values of income\n",
    "val = np.array([[60,8000,600,3,30,14],[80,8000,600,3,30,14],[100,8000,600,3,30,14],[120,8000,600,3,30,14]])\n",
    "predCredit = creditModelLogistic.predict_proba(val)\n",
    "print(predCredit[:,0])"
   ]
  },
  {
   "cell_type": "markdown",
   "metadata": {},
   "source": [
    "##### Case - increasing value of age.\n",
    "\n",
    "In three data sets below we have kept all values equal, however we have increased age in 10 unit increments. As can be seen this has the effect of increasing the probability of exceeding 1500 balance."
   ]
  },
  {
   "cell_type": "code",
   "execution_count": 757,
   "metadata": {},
   "outputs": [
    {
     "name": "stdout",
     "output_type": "stream",
     "text": [
      "[0.96145235 0.97843309 0.98802675 0.9933817 ]\n"
     ]
    }
   ],
   "source": [
    "# increasing values of income\n",
    "val = np.array([[60,8000,600,3,30,14],[60,8000,600,3,40,14],[60,8000,600,3,50,14],[60,8000,600,3,60,14]])\n",
    "predCredit = creditModelLogistic.predict_proba(val)\n",
    "print(predCredit[:,0])"
   ]
  },
  {
   "cell_type": "markdown",
   "metadata": {},
   "source": [
    "##### Case - increasing value of education.\n",
    "\n",
    "In three data sets below we have kept all values equal, however we have increased education in 4 unit increments. As can be seen this has the effect of increasing the probability of exceeding 1500 balance."
   ]
  },
  {
   "cell_type": "code",
   "execution_count": 758,
   "metadata": {},
   "outputs": [
    {
     "name": "stdout",
     "output_type": "stream",
     "text": [
      "[0.74851599 0.92469641 0.98064315 0.99523834]\n"
     ]
    }
   ],
   "source": [
    "# increasing values of income\n",
    "val = np.array([[60,8000,600,3,30,8],[60,8000,600,3,30,12],[60,8000,600,3,30,16],[60,8000,600,3,30,20]])\n",
    "predCredit = creditModelLogistic.predict_proba(val)\n",
    "print(predCredit[:,0])"
   ]
  },
  {
   "cell_type": "markdown",
   "metadata": {},
   "source": [
    "#### Answer 2-9"
   ]
  },
  {
   "cell_type": "code",
   "execution_count": 759,
   "metadata": {},
   "outputs": [
    {
     "name": "stdout",
     "output_type": "stream",
     "text": [
      "[0.90640832 0.17333365 0.56681143]\n"
     ]
    }
   ],
   "source": [
    "val = np.array([[63,8100,600,4,30,13],[186,13414,950,2,41,13],[63,8500,600,4,30,13]])\n",
    "predCredit = creditModelLogistic.predict_proba(val)\n",
    "print(predCredit[:,0])"
   ]
  },
  {
   "cell_type": "markdown",
   "metadata": {},
   "source": [
    "By playing with the values above we can see that the limit will decrease dramatically the probability of balance over 1500. Just a small increase in the limit has an important decrease in the proability."
   ]
  },
  {
   "cell_type": "markdown",
   "metadata": {},
   "source": [
    "#### Answer 2-10"
   ]
  },
  {
   "cell_type": "markdown",
   "metadata": {},
   "source": [
    "##### Performance of the Logistic Regression"
   ]
  },
  {
   "cell_type": "code",
   "execution_count": 760,
   "metadata": {},
   "outputs": [
    {
     "name": "stdout",
     "output_type": "stream",
     "text": [
      "Results for the Logistic Regression\n",
      "This is the confusion matrix\n",
      "[[390   1]\n",
      " [  6   3]]\n",
      "This is the accuracy score : 0.9825\n",
      "This is the AUC:0.665\n"
     ]
    }
   ],
   "source": [
    "# Logistic performance\n",
    "y_pred = creditModelLogistic.predict(X)\n",
    "confMat = confusion_matrix(y, y_pred)\n",
    "accScore = accuracy_score(y, y_pred)\n",
    "logAUC = roc_auc_score(y, y_pred)\n",
    "\n",
    "print('Results for the Logistic Regression')\n",
    "print('This is the confusion matrix')\n",
    "print(confMat)\n",
    "print('This is the accuracy score : ' + str(accScore))\n",
    "print('This is the AUC:%.3f'% logAUC)"
   ]
  },
  {
   "cell_type": "markdown",
   "metadata": {},
   "source": [
    "##### Performance of the Linear Discriminant"
   ]
  },
  {
   "cell_type": "code",
   "execution_count": 761,
   "metadata": {},
   "outputs": [
    {
     "name": "stdout",
     "output_type": "stream",
     "text": [
      "Results for the Linear Discriminant\n",
      "This is the confusion matrix\n",
      "[[383   8]\n",
      " [  4   5]]\n",
      "This is the accuracy score : 0.97\n",
      "This is the AUC:0.768\n"
     ]
    }
   ],
   "source": [
    "# Linear Discriminant performance\n",
    "y_pred = creditModelLDA.predict(X)\n",
    "confMat = confusion_matrix(y, y_pred)\n",
    "accScore = accuracy_score(y, y_pred)\n",
    "logAUC = roc_auc_score(y, y_pred)\n",
    "\n",
    "print('Results for the Linear Discriminant')\n",
    "print('This is the confusion matrix')\n",
    "print(confMat)\n",
    "print('This is the accuracy score : ' + str(accScore))\n",
    "print('This is the AUC:%.3f'% logAUC)"
   ]
  },
  {
   "cell_type": "markdown",
   "metadata": {},
   "source": [
    "##### Performance of the Quadratic Discriminant"
   ]
  },
  {
   "cell_type": "code",
   "execution_count": 762,
   "metadata": {},
   "outputs": [
    {
     "name": "stdout",
     "output_type": "stream",
     "text": [
      "Results for the Quadratic Discriminant\n",
      "This is the confusion matrix\n",
      "[[390   1]\n",
      " [  2   7]]\n",
      "This is the accuracy score : 0.9925\n",
      "This is the AUC:0.888\n"
     ]
    }
   ],
   "source": [
    "# Quadratic Discriminant performance\n",
    "y_pred = creditModelQDA.predict(X)\n",
    "confMat = confusion_matrix(y, y_pred)\n",
    "accScore = accuracy_score(y, y_pred)\n",
    "logAUC = roc_auc_score(y, y_pred)\n",
    "\n",
    "print('Results for the Quadratic Discriminant')\n",
    "print('This is the confusion matrix')\n",
    "print(confMat)\n",
    "print('This is the accuracy score : ' + str(accScore))\n",
    "print('This is the AUC:%.3f'% logAUC)"
   ]
  },
  {
   "cell_type": "markdown",
   "metadata": {},
   "source": [
    "By examining the confusion matrix of the three models we can see that the Quadratic Discriminant model is the best of the three since it has the least amount of false positives and false negatives. The AUC also puts the Quadratic Disciminant model ahead and the Linear Discrimant in second place. However the accuracy score puts the QDA in first and the Logistic in second. "
   ]
  },
  {
   "cell_type": "markdown",
   "metadata": {},
   "source": [
    "#### Answer 2-11"
   ]
  },
  {
   "cell_type": "markdown",
   "metadata": {},
   "source": [
    "##### ROC corve for the Logistic Regression"
   ]
  },
  {
   "cell_type": "code",
   "execution_count": 763,
   "metadata": {},
   "outputs": [
    {
     "data": {
      "image/png": "[encoded data removed]",
      "text/plain": [
       "<Figure size 432x288 with 1 Axes>"
      ]
     },
     "metadata": {
      "needs_background": "light"
     },
     "output_type": "display_data"
    }
   ],
   "source": [
    "y_pred = creditModelLogistic.predict(X)\n",
    "log_fpr, log_tpr, log_thresholds = roc_curve(y, y_pred)\n",
    "logAUC = roc_auc_score(y, y_pred)\n",
    "\n",
    "plt.plot(log_fpr, log_tpr,'r-',label = 'LOG AUC: %.3f'%log_AUC)\n",
    "plt.plot([0,1],[0,1],'k-',label='random')\n",
    "plt.plot([0,0,1,1],[0,1,1,1],'g-',label='perfect')\n",
    "plt.legend()\n",
    "plt.xlabel('False Positive Rate')\n",
    "plt.ylabel('True Positive Rate');"
   ]
  },
  {
   "cell_type": "markdown",
   "metadata": {},
   "source": [
    "##### ROC corve for the Linear Discriminant"
   ]
  },
  {
   "cell_type": "code",
   "execution_count": 764,
   "metadata": {},
   "outputs": [
    {
     "data": {
      "image/png": "[encoded data removed]",
      "text/plain": [
       "<Figure size 432x288 with 1 Axes>"
      ]
     },
     "metadata": {
      "needs_background": "light"
     },
     "output_type": "display_data"
    }
   ],
   "source": [
    "y_pred = creditModelLDA.predict(X)\n",
    "log_fpr, log_tpr, log_thresholds = roc_curve(y, y_pred)\n",
    "logAUC = roc_auc_score(y, y_pred)\n",
    "\n",
    "plt.plot(log_fpr, log_tpr,'r-',label = 'LOG AUC: %.3f'%log_AUC)\n",
    "plt.plot([0,1],[0,1],'k-',label='random')\n",
    "plt.plot([0,0,1,1],[0,1,1,1],'g-',label='perfect')\n",
    "plt.legend()\n",
    "plt.xlabel('False Positive Rate')\n",
    "plt.ylabel('True Positive Rate');"
   ]
  },
  {
   "cell_type": "code",
   "execution_count": 765,
   "metadata": {},
   "outputs": [],
   "source": [
    "##### ROC corve for the Quadratic Discriminant"
   ]
  },
  {
   "cell_type": "code",
   "execution_count": 766,
   "metadata": {},
   "outputs": [
    {
     "data": {
      "image/png": "[encoded data removed]",
      "text/plain": [
       "<Figure size 432x288 with 1 Axes>"
      ]
     },
     "metadata": {
      "needs_background": "light"
     },
     "output_type": "display_data"
    }
   ],
   "source": [
    "y_pred = creditModelQDA.predict(X)\n",
    "log_fpr, log_tpr, log_thresholds = roc_curve(y, y_pred)\n",
    "logAUC = roc_auc_score(y, y_pred)\n",
    "\n",
    "plt.plot(log_fpr, log_tpr,'r-',label = 'LOG AUC: %.3f'%log_AUC)\n",
    "plt.plot([0,1],[0,1],'k-',label='random')\n",
    "plt.plot([0,0,1,1],[0,1,1,1],'g-',label='perfect')\n",
    "plt.legend()\n",
    "plt.xlabel('False Positive Rate')\n",
    "plt.ylabel('True Positive Rate');"
   ]
  },
  {
   "cell_type": "markdown",
   "metadata": {},
   "source": [
    "We can see that the QDA is the one that has the highest area under the curve. It is the only one that comes close to the perfoect curve. The LDA is in second place."
   ]
  },
  {
   "cell_type": "markdown",
   "metadata": {},
   "source": [
    "## Question 3 <span style=\"color:red\">(30 points)</span>\n",
    "\n",
    "1. From the dataset `Credit.csv`, extract the variable `Student` and save it as `Student`. \n",
    "2. Save the number of observations in `Student` as `population_size`.\n",
    "3. Factorize `Student` and compute the proportion of \"students\" and save it as `true_p`. \n",
    "\n",
    "Let us consider the following simple logistic regression model\n",
    "\n",
    "$$ \\mathrm{Pr}(\\mathrm{Student = Yes}) = \\frac{e^{\\beta}}{1 + e^{\\beta}}. $$\n",
    "\n",
    "Here, we do not consider any predictor. The objective is to estimate $\\beta$ by manipulating the likelihood of the model.\n",
    "\n",
    "4. Define a variable `sample_size` $=100$. Now, sample `sample_size` number of observations from `Student` and call it `sample`.\n",
    "5. Define a function called `likelihood` which takes one argument `beta` and computes the likelihood of `beta` based on the `sample`.  \n",
    "6. Randomly generate $50$ numbers from the **continuous uniform** distribution $U[-5;5]$. Save these numbers as `beta_candidate`.\n",
    "7. Using the `likelihood` function defined in Step 5, compute the likelihood of `beta_candidate` and save it as `likelihood_candidate`. Plot the `likelihood_candidate` versus `beta_candidate`.\n",
    "8. Based on the plot, which value of `beta_candidate` would you choose as the estimate of $\\beta$ ? Explain why.\n",
    "9. Based on the chosen `beta_candidate`, estimate the `true_p` (or $\\mathrm{Pr}(\\mathrm{Student = Yes})$ )."
   ]
  },
  {
   "cell_type": "markdown",
   "metadata": {},
   "source": [
    "#### Answer 3-1"
   ]
  },
  {
   "cell_type": "code",
   "execution_count": 664,
   "metadata": {},
   "outputs": [],
   "source": [
    "# get the student column from the credit data\n",
    "Student = creditData.Student"
   ]
  },
  {
   "cell_type": "markdown",
   "metadata": {},
   "source": [
    "#### Answer 3-2"
   ]
  },
  {
   "cell_type": "code",
   "execution_count": 665,
   "metadata": {},
   "outputs": [
    {
     "name": "stdout",
     "output_type": "stream",
     "text": [
      "Population size is : 400\n"
     ]
    }
   ],
   "source": [
    "# get the population size\n",
    "population_size = Student.size\n",
    "print('Population size is : ' + str(population_size))"
   ]
  },
  {
   "cell_type": "markdown",
   "metadata": {},
   "source": [
    "#### Answer 3-3"
   ]
  },
  {
   "cell_type": "code",
   "execution_count": 666,
   "metadata": {},
   "outputs": [],
   "source": [
    "# convert the data to 1 for student and 0 for non student\n",
    "labelencoder = LabelEncoder()\n",
    "Student = labelencoder.fit_transform(Student)"
   ]
  },
  {
   "cell_type": "code",
   "execution_count": 667,
   "metadata": {},
   "outputs": [
    {
     "name": "stdout",
     "output_type": "stream",
     "text": [
      "Portion od strundents is : 0.1\n"
     ]
    }
   ],
   "source": [
    "true_p = Student.sum()/Student.size\n",
    "print('Proportion of students is : ' + str(true_p))"
   ]
  },
  {
   "cell_type": "markdown",
   "metadata": {},
   "source": [
    "#### Answer 3-4"
   ]
  },
  {
   "cell_type": "code",
   "execution_count": 668,
   "metadata": {},
   "outputs": [],
   "source": [
    "sample_size = 100"
   ]
  },
  {
   "cell_type": "code",
   "execution_count": 669,
   "metadata": {},
   "outputs": [
    {
     "data": {
      "text/plain": [
       "array([0, 1, 1, 0, 0, 0, 0, 0, 0, 0, 0, 0, 0, 0, 0, 1, 0, 0, 0, 0, 0, 0,\n",
       "       0, 0, 0, 0, 0, 0, 1, 0, 0, 0, 0, 0, 0, 0, 0, 0, 0, 1, 0, 0, 0, 0,\n",
       "       0, 0, 0, 0, 1, 0, 0, 0, 0, 0, 0, 0, 1, 0, 0, 0, 0, 0, 0, 0, 0, 0,\n",
       "       0, 0, 0, 0, 0, 0, 0, 0, 0, 1, 0, 0, 0, 0, 0, 0, 0, 0, 0, 0, 0, 0,\n",
       "       0, 0, 0, 0, 0, 0, 1, 0, 0, 0, 0, 0])"
      ]
     },
     "execution_count": 669,
     "metadata": {},
     "output_type": "execute_result"
    }
   ],
   "source": [
    "# sample the Student population\n",
    "np.random.seed(3)\n",
    "sampleStudents = np.random.choice(a=Student, size=sample_size)\n",
    "sampleStudents"
   ]
  },
  {
   "cell_type": "markdown",
   "metadata": {},
   "source": [
    "#### Answer 3-5"
   ]
  },
  {
   "cell_type": "code",
   "execution_count": 670,
   "metadata": {},
   "outputs": [],
   "source": [
    "def pr(beta):\n",
    "    \"\"\"\n",
    "    This function calculates the Pr based on a beta value\n",
    "    \"\"\"\n",
    "    result = math.exp(beta)/(1+math.exp(beta))\n",
    "    return result"
   ]
  },
  {
   "cell_type": "code",
   "execution_count": 671,
   "metadata": {},
   "outputs": [],
   "source": [
    "def likelihood(beta,sample):\n",
    "    \"\"\"\n",
    "    Function that calculates the likelihood\n",
    "    \"\"\"\n",
    "    \n",
    "    # get the number of student and number of non student  \n",
    "    numStudents = np.where(sampleStudents==1)[0].size\n",
    "    numNonStudents = np.where(sampleStudents==0)[0].size\n",
    "    \n",
    "    # calculate the likelihood based on equation in the ISL book on page 133\n",
    "    result = pr(beta)**numStudents*(1-pr(beta))**numNonStudents\n",
    "    \n",
    "    return result\n"
   ]
  },
  {
   "cell_type": "markdown",
   "metadata": {},
   "source": [
    "#### Answer 3-6"
   ]
  },
  {
   "cell_type": "code",
   "execution_count": 678,
   "metadata": {},
   "outputs": [
    {
     "data": {
      "text/plain": [
       "array([-2.48069697,  4.04012472, -1.54482661, -4.43127426,  2.14886672,\n",
       "       -0.85581141,  2.35324187, -0.22908367,  0.00565554, -0.8243809 ,\n",
       "       -2.09515104,  4.00710867,  1.68787578,  2.88832343,  3.95739531,\n",
       "       -2.49811058,  4.19820614,  3.62605087,  0.06085262,  0.67902174,\n",
       "       -3.85067762,  2.62115841, -3.26774993,  0.33836041, -3.73562695,\n",
       "       -4.27082906,  1.09027444, -0.0879687 ,  1.74809935,  2.90854183,\n",
       "        4.82687493, -4.15919319,  1.31212112,  0.76974895,  1.50642177,\n",
       "        0.43179455,  0.57367388,  3.68554634, -0.47988384,  0.34975579,\n",
       "        1.90963704, -4.10505009, -0.68074681, -3.97865779, -3.62190107,\n",
       "       -4.97874442, -2.90293564, -2.83362738,  0.16244481,  0.70208238])"
      ]
     },
     "execution_count": 678,
     "metadata": {},
     "output_type": "execute_result"
    }
   ],
   "source": [
    "# get the beta candidates from the uniform distribution for values between -5 to 5\n",
    "beta_candidate = stats.uniform.rvs(size=50, loc =-5, scale=10)\n",
    "beta_candidate"
   ]
  },
  {
   "cell_type": "markdown",
   "metadata": {},
   "source": [
    "#### Answer 3-7"
   ]
  },
  {
   "cell_type": "code",
   "execution_count": 680,
   "metadata": {},
   "outputs": [],
   "source": [
    "# create the vector to store the results\n",
    "likelihood_candidate = []\n",
    "\n",
    "# iterate over each value of beta and calculate the likelihood and store in a vector\n",
    "for beta in beta_candidate:\n",
    "    \n",
    "    likelihood_candidate.append(likelihood(beta,sampleStudents))\n",
    "    "
   ]
  },
  {
   "cell_type": "code",
   "execution_count": 681,
   "metadata": {},
   "outputs": [],
   "source": [
    "# put the result in a dataframe and get the min and max of the likelihood values for axis plotting scale \n",
    "res = pd.DataFrame({'beta':beta_candidate,'likeli':likelihood_candidate})\n",
    "minY = res['likeli'].min()\n",
    "maxY = res['likeli'].max()"
   ]
  },
  {
   "cell_type": "code",
   "execution_count": 775,
   "metadata": {},
   "outputs": [
    {
     "data": {
      "image/png": "[encoded data removed]",
      "text/plain": [
       "<Figure size 432x288 with 1 Axes>"
      ]
     },
     "metadata": {
      "needs_background": "light"
     },
     "output_type": "display_data"
    }
   ],
   "source": [
    "# plot the data\n",
    "plt.scatter(res['beta'], res['likeli']);\n",
    "plt.ylim(minY, maxY);\n",
    "plt.xlabel('Beta');\n",
    "plt.ylabel('Likelihood');"
   ]
  },
  {
   "cell_type": "markdown",
   "metadata": {},
   "source": [
    "#### Answer 3-8 "
   ]
  },
  {
   "cell_type": "markdown",
   "metadata": {},
   "source": [
    "From the plot we are looking for the beta value that produces the max likelihood value (ie argmax value) of the likelihood. The argmax is at about -2.2"
   ]
  },
  {
   "cell_type": "markdown",
   "metadata": {},
   "source": [
    "#### Answer 3-9"
   ]
  },
  {
   "cell_type": "code",
   "execution_count": 776,
   "metadata": {},
   "outputs": [],
   "source": [
    "beta_max = -2.2"
   ]
  },
  {
   "cell_type": "code",
   "execution_count": 777,
   "metadata": {},
   "outputs": [
    {
     "name": "stdout",
     "output_type": "stream",
     "text": [
      "Pr for -2.2 is : 0.09975048911968513\n"
     ]
    }
   ],
   "source": [
    "# Pr for beta_max\n",
    "print('Pr for '+ str(beta_max) + ' is : ' + str(pr(beta_max)))"
   ]
  },
  {
   "cell_type": "markdown",
   "metadata": {},
   "source": [
    "This is very close to the proportion of students calulated earlier"
   ]
  },
  {
   "cell_type": "code",
   "execution_count": null,
   "metadata": {},
   "outputs": [],
   "source": []
  }
 ],
 "metadata": {
  "kernelspec": {
   "display_name": "Python 3",
   "language": "python",
   "name": "python3"
  },
  "language_info": {
   "codemirror_mode": {
    "name": "ipython",
    "version": 3
   },
   "file_extension": ".py",
   "mimetype": "text/x-python",
   "name": "python",
   "nbconvert_exporter": "python",
   "pygments_lexer": "ipython3",
   "version": "3.7.1"
  }
 },
 "nbformat": 4,
 "nbformat_minor": 2
}
