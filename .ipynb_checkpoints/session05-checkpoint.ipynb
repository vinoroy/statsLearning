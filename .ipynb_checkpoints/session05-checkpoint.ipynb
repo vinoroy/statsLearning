{
 "cells": [
  {
   "cell_type": "markdown",
   "metadata": {},
   "source": [
    "# Cross-Validation\n",
    "Model selection is one of the important subjects in statistical modeling. We have the possibility of including as many as features, but all of them would not improve the model accuracy. It is important to know which features are improving the model. There are two different approaches: \n",
    "\n",
    "- Information theoretic approach such as AIC.\n",
    "- Predition accuracy approach such as $k$-fold cross-validation.\n",
    "\n",
    "\n",
    "\n",
    "\n",
    "\n",
    "\n",
    "\n",
    "\n",
    "\n"
   ]
  },
  {
   "cell_type": "markdown",
   "metadata": {},
   "source": [
    "# Load file\n",
    "Commonly two libraries are used to load a csv files.\n",
    "- numpy function `np.loadtext` and `np.genfromtext ` \n",
    "- pandas function `pd.read_csv`\n",
    "\n",
    "Here we prefer using pandas"
   ]
  },
  {
   "cell_type": "code",
   "execution_count": 1,
   "metadata": {
    "scrolled": true
   },
   "outputs": [],
   "source": [
    "import pandas as pd\n",
    "path='data/'\n",
    "filename = path+'Auto.csv'\n",
    "auto = pd.read_csv(filename, na_values=['?'], na_filter=True)\n",
    "auto = auto.dropna()"
   ]
  },
  {
   "cell_type": "code",
   "execution_count": 2,
   "metadata": {},
   "outputs": [
    {
     "data": {
      "text/html": [
       "<div>\n",
       "<style scoped>\n",
       "    .dataframe tbody tr th:only-of-type {\n",
       "        vertical-align: middle;\n",
       "    }\n",
       "\n",
       "    .dataframe tbody tr th {\n",
       "        vertical-align: top;\n",
       "    }\n",
       "\n",
       "    .dataframe thead th {\n",
       "        text-align: right;\n",
       "    }\n",
       "</style>\n",
       "<table border=\"1\" class=\"dataframe\">\n",
       "  <thead>\n",
       "    <tr style=\"text-align: right;\">\n",
       "      <th></th>\n",
       "      <th>mpg</th>\n",
       "      <th>cylinders</th>\n",
       "      <th>displacement</th>\n",
       "      <th>horsepower</th>\n",
       "      <th>weight</th>\n",
       "      <th>acceleration</th>\n",
       "      <th>year</th>\n",
       "      <th>origin</th>\n",
       "      <th>name</th>\n",
       "    </tr>\n",
       "  </thead>\n",
       "  <tbody>\n",
       "    <tr>\n",
       "      <th>0</th>\n",
       "      <td>18.0</td>\n",
       "      <td>8</td>\n",
       "      <td>307.0</td>\n",
       "      <td>130.0</td>\n",
       "      <td>3504</td>\n",
       "      <td>12.0</td>\n",
       "      <td>70</td>\n",
       "      <td>1</td>\n",
       "      <td>chevrolet chevelle malibu</td>\n",
       "    </tr>\n",
       "    <tr>\n",
       "      <th>1</th>\n",
       "      <td>15.0</td>\n",
       "      <td>8</td>\n",
       "      <td>350.0</td>\n",
       "      <td>165.0</td>\n",
       "      <td>3693</td>\n",
       "      <td>11.5</td>\n",
       "      <td>70</td>\n",
       "      <td>1</td>\n",
       "      <td>buick skylark 320</td>\n",
       "    </tr>\n",
       "    <tr>\n",
       "      <th>2</th>\n",
       "      <td>18.0</td>\n",
       "      <td>8</td>\n",
       "      <td>318.0</td>\n",
       "      <td>150.0</td>\n",
       "      <td>3436</td>\n",
       "      <td>11.0</td>\n",
       "      <td>70</td>\n",
       "      <td>1</td>\n",
       "      <td>plymouth satellite</td>\n",
       "    </tr>\n",
       "    <tr>\n",
       "      <th>3</th>\n",
       "      <td>16.0</td>\n",
       "      <td>8</td>\n",
       "      <td>304.0</td>\n",
       "      <td>150.0</td>\n",
       "      <td>3433</td>\n",
       "      <td>12.0</td>\n",
       "      <td>70</td>\n",
       "      <td>1</td>\n",
       "      <td>amc rebel sst</td>\n",
       "    </tr>\n",
       "    <tr>\n",
       "      <th>4</th>\n",
       "      <td>17.0</td>\n",
       "      <td>8</td>\n",
       "      <td>302.0</td>\n",
       "      <td>140.0</td>\n",
       "      <td>3449</td>\n",
       "      <td>10.5</td>\n",
       "      <td>70</td>\n",
       "      <td>1</td>\n",
       "      <td>ford torino</td>\n",
       "    </tr>\n",
       "  </tbody>\n",
       "</table>\n",
       "</div>"
      ],
      "text/plain": [
       "    mpg  cylinders  displacement  horsepower  weight  acceleration  year  \\\n",
       "0  18.0          8         307.0       130.0    3504          12.0    70   \n",
       "1  15.0          8         350.0       165.0    3693          11.5    70   \n",
       "2  18.0          8         318.0       150.0    3436          11.0    70   \n",
       "3  16.0          8         304.0       150.0    3433          12.0    70   \n",
       "4  17.0          8         302.0       140.0    3449          10.5    70   \n",
       "\n",
       "   origin                       name  \n",
       "0       1  chevrolet chevelle malibu  \n",
       "1       1          buick skylark 320  \n",
       "2       1         plymouth satellite  \n",
       "3       1              amc rebel sst  \n",
       "4       1                ford torino  "
      ]
     },
     "execution_count": 2,
     "metadata": {},
     "output_type": "execute_result"
    }
   ],
   "source": [
    "auto.head()"
   ]
  },
  {
   "cell_type": "code",
   "execution_count": 3,
   "metadata": {},
   "outputs": [
    {
     "name": "stdout",
     "output_type": "stream",
     "text": [
      "<class 'pandas.core.frame.DataFrame'>\n",
      "Int64Index: 392 entries, 0 to 396\n",
      "Data columns (total 9 columns):\n",
      "mpg             392 non-null float64\n",
      "cylinders       392 non-null int64\n",
      "displacement    392 non-null float64\n",
      "horsepower      392 non-null float64\n",
      "weight          392 non-null int64\n",
      "acceleration    392 non-null float64\n",
      "year            392 non-null int64\n",
      "origin          392 non-null int64\n",
      "name            392 non-null object\n",
      "dtypes: float64(4), int64(4), object(1)\n",
      "memory usage: 30.6+ KB\n"
     ]
    }
   ],
   "source": [
    "auto.info()"
   ]
  },
  {
   "cell_type": "code",
   "execution_count": 4,
   "metadata": {
    "scrolled": false
   },
   "outputs": [
    {
     "data": {
      "image/png": "[encoded data removed]",
      "text/plain": [
       "<Figure size 432x288 with 1 Axes>"
      ]
     },
     "metadata": {
      "needs_background": "light"
     },
     "output_type": "display_data"
    }
   ],
   "source": [
    "import matplotlib.pyplot as plt\n",
    "%matplotlib inline\n",
    "plt.plot(auto['horsepower'], auto['mpg'], 'ro', mfc='none');"
   ]
  },
  {
   "cell_type": "markdown",
   "metadata": {},
   "source": [
    "The `seaborn` package bring better styling and more plot function. The `seaborn` package enriches matplotlib. Let's try the `regplot` function of `seaborn` for instance.\n"
   ]
  },
  {
   "cell_type": "code",
   "execution_count": 5,
   "metadata": {},
   "outputs": [],
   "source": [
    "import seaborn as sns           "
   ]
  },
  {
   "cell_type": "code",
   "execution_count": 6,
   "metadata": {},
   "outputs": [
    {
     "data": {
      "image/png": "[encoded data removed]",
      "text/plain": [
       "<Figure size 432x288 with 1 Axes>"
      ]
     },
     "metadata": {
      "needs_background": "light"
     },
     "output_type": "display_data"
    }
   ],
   "source": [
    "#sets up styles and gives us more plotting options\n",
    "sns.regplot(x=\"horsepower\", y=\"mpg\", data=auto, \n",
    "            ci = False,\n",
    "            scatter_kws={\"color\":\"r\", \"alpha\":0.5},\n",
    "            line_kws={\"color\":\"b\", \"alpha\":0.7, \"lw\":4}, \n",
    "            order=1);"
   ]
  },
  {
   "cell_type": "code",
   "execution_count": 7,
   "metadata": {},
   "outputs": [
    {
     "data": {
      "image/png": "[encoded data removed]",
      "text/plain": [
       "<Figure size 432x288 with 1 Axes>"
      ]
     },
     "metadata": {
      "needs_background": "light"
     },
     "output_type": "display_data"
    }
   ],
   "source": [
    "#increases the order to 2 (polynomial regression)\n",
    "sns.regplot(x=\"horsepower\", y=\"mpg\", data=auto, \n",
    "            ci = False,\n",
    "            scatter_kws={\"color\":\"r\", \"alpha\":0.5},\n",
    "            line_kws={\"color\":\"b\", \"alpha\":0.7, \"lw\":4}, \n",
    "            order=2);"
   ]
  },
  {
   "cell_type": "code",
   "execution_count": 8,
   "metadata": {},
   "outputs": [
    {
     "data": {
      "image/png": "[encoded data removed]",
      "text/plain": [
       "<Figure size 432x288 with 1 Axes>"
      ]
     },
     "metadata": {
      "needs_background": "light"
     },
     "output_type": "display_data"
    }
   ],
   "source": [
    "#increases the order to 3 (polynomial regression)\n",
    "sns.regplot(x=\"horsepower\", y=\"mpg\", data=auto, \n",
    "            ci = False,\n",
    "            scatter_kws={\"color\":\"r\", \"alpha\":0.5},\n",
    "            line_kws={\"color\":\"b\", \"alpha\":0.7, \"lw\":4}, \n",
    "            order=3);"
   ]
  },
  {
   "cell_type": "code",
   "execution_count": 9,
   "metadata": {},
   "outputs": [
    {
     "data": {
      "image/png": "[encoded data removed]",
      "text/plain": [
       "<Figure size 432x288 with 1 Axes>"
      ]
     },
     "metadata": {
      "needs_background": "light"
     },
     "output_type": "display_data"
    }
   ],
   "source": [
    "#increases the order to 4 (polynomial regression)\n",
    "sns.regplot(x=\"horsepower\", y=\"mpg\", data=auto, \n",
    "            ci = False,\n",
    "            scatter_kws={\"color\":\"r\", \"alpha\":0.5},\n",
    "            line_kws={\"color\":\"b\", \"alpha\":0.7, \"lw\":4}, \n",
    "            order=4);"
   ]
  },
  {
   "cell_type": "markdown",
   "metadata": {},
   "source": [
    "### Transform the dependent variable"
   ]
  },
  {
   "cell_type": "code",
   "execution_count": 10,
   "metadata": {},
   "outputs": [],
   "source": [
    "#transform the dependent variable and fit a linear model\n",
    "import numpy as np\n",
    "auto['logmpg'] = np.log(auto.mpg)\n",
    "auto['sqrtmpg'] = np.sqrt(auto.mpg)\n",
    "auto['invmpg'] = 1/auto.mpg"
   ]
  },
  {
   "cell_type": "code",
   "execution_count": 11,
   "metadata": {},
   "outputs": [
    {
     "data": {
      "text/html": [
       "<div>\n",
       "<style scoped>\n",
       "    .dataframe tbody tr th:only-of-type {\n",
       "        vertical-align: middle;\n",
       "    }\n",
       "\n",
       "    .dataframe tbody tr th {\n",
       "        vertical-align: top;\n",
       "    }\n",
       "\n",
       "    .dataframe thead th {\n",
       "        text-align: right;\n",
       "    }\n",
       "</style>\n",
       "<table border=\"1\" class=\"dataframe\">\n",
       "  <thead>\n",
       "    <tr style=\"text-align: right;\">\n",
       "      <th></th>\n",
       "      <th>mpg</th>\n",
       "      <th>cylinders</th>\n",
       "      <th>displacement</th>\n",
       "      <th>horsepower</th>\n",
       "      <th>weight</th>\n",
       "      <th>acceleration</th>\n",
       "      <th>year</th>\n",
       "      <th>origin</th>\n",
       "      <th>name</th>\n",
       "      <th>logmpg</th>\n",
       "      <th>sqrtmpg</th>\n",
       "      <th>invmpg</th>\n",
       "    </tr>\n",
       "  </thead>\n",
       "  <tbody>\n",
       "    <tr>\n",
       "      <th>0</th>\n",
       "      <td>18.0</td>\n",
       "      <td>8</td>\n",
       "      <td>307.0</td>\n",
       "      <td>130.0</td>\n",
       "      <td>3504</td>\n",
       "      <td>12.0</td>\n",
       "      <td>70</td>\n",
       "      <td>1</td>\n",
       "      <td>chevrolet chevelle malibu</td>\n",
       "      <td>2.890372</td>\n",
       "      <td>4.242641</td>\n",
       "      <td>0.055556</td>\n",
       "    </tr>\n",
       "    <tr>\n",
       "      <th>1</th>\n",
       "      <td>15.0</td>\n",
       "      <td>8</td>\n",
       "      <td>350.0</td>\n",
       "      <td>165.0</td>\n",
       "      <td>3693</td>\n",
       "      <td>11.5</td>\n",
       "      <td>70</td>\n",
       "      <td>1</td>\n",
       "      <td>buick skylark 320</td>\n",
       "      <td>2.708050</td>\n",
       "      <td>3.872983</td>\n",
       "      <td>0.066667</td>\n",
       "    </tr>\n",
       "    <tr>\n",
       "      <th>2</th>\n",
       "      <td>18.0</td>\n",
       "      <td>8</td>\n",
       "      <td>318.0</td>\n",
       "      <td>150.0</td>\n",
       "      <td>3436</td>\n",
       "      <td>11.0</td>\n",
       "      <td>70</td>\n",
       "      <td>1</td>\n",
       "      <td>plymouth satellite</td>\n",
       "      <td>2.890372</td>\n",
       "      <td>4.242641</td>\n",
       "      <td>0.055556</td>\n",
       "    </tr>\n",
       "    <tr>\n",
       "      <th>3</th>\n",
       "      <td>16.0</td>\n",
       "      <td>8</td>\n",
       "      <td>304.0</td>\n",
       "      <td>150.0</td>\n",
       "      <td>3433</td>\n",
       "      <td>12.0</td>\n",
       "      <td>70</td>\n",
       "      <td>1</td>\n",
       "      <td>amc rebel sst</td>\n",
       "      <td>2.772589</td>\n",
       "      <td>4.000000</td>\n",
       "      <td>0.062500</td>\n",
       "    </tr>\n",
       "    <tr>\n",
       "      <th>4</th>\n",
       "      <td>17.0</td>\n",
       "      <td>8</td>\n",
       "      <td>302.0</td>\n",
       "      <td>140.0</td>\n",
       "      <td>3449</td>\n",
       "      <td>10.5</td>\n",
       "      <td>70</td>\n",
       "      <td>1</td>\n",
       "      <td>ford torino</td>\n",
       "      <td>2.833213</td>\n",
       "      <td>4.123106</td>\n",
       "      <td>0.058824</td>\n",
       "    </tr>\n",
       "  </tbody>\n",
       "</table>\n",
       "</div>"
      ],
      "text/plain": [
       "    mpg  cylinders  displacement  horsepower  weight  acceleration  year  \\\n",
       "0  18.0          8         307.0       130.0    3504          12.0    70   \n",
       "1  15.0          8         350.0       165.0    3693          11.5    70   \n",
       "2  18.0          8         318.0       150.0    3436          11.0    70   \n",
       "3  16.0          8         304.0       150.0    3433          12.0    70   \n",
       "4  17.0          8         302.0       140.0    3449          10.5    70   \n",
       "\n",
       "   origin                       name    logmpg   sqrtmpg    invmpg  \n",
       "0       1  chevrolet chevelle malibu  2.890372  4.242641  0.055556  \n",
       "1       1          buick skylark 320  2.708050  3.872983  0.066667  \n",
       "2       1         plymouth satellite  2.890372  4.242641  0.055556  \n",
       "3       1              amc rebel sst  2.772589  4.000000  0.062500  \n",
       "4       1                ford torino  2.833213  4.123106  0.058824  "
      ]
     },
     "execution_count": 11,
     "metadata": {},
     "output_type": "execute_result"
    }
   ],
   "source": [
    "auto.head()"
   ]
  },
  {
   "cell_type": "code",
   "execution_count": 12,
   "metadata": {},
   "outputs": [
    {
     "data": {
      "image/png": "[encoded data removed]",
      "text/plain": [
       "<Figure size 432x288 with 1 Axes>"
      ]
     },
     "metadata": {
      "needs_background": "light"
     },
     "output_type": "display_data"
    }
   ],
   "source": [
    "sns.regplot(x=\"horsepower\", y=\"logmpg\", data=auto, \n",
    "            ci = False,\n",
    "            scatter_kws={\"color\":\"r\", \"alpha\":0.5},\n",
    "            line_kws={\"color\":\"b\", \"alpha\":0.7, \"lw\":4}, \n",
    "            order=2);"
   ]
  },
  {
   "cell_type": "code",
   "execution_count": 13,
   "metadata": {},
   "outputs": [
    {
     "data": {
      "image/png": "[encoded data removed]",
      "text/plain": [
       "<Figure size 432x288 with 1 Axes>"
      ]
     },
     "metadata": {
      "needs_background": "light"
     },
     "output_type": "display_data"
    }
   ],
   "source": [
    "sns.regplot(x=\"horsepower\", y=\"sqrtmpg\", data=auto, \n",
    "            ci = False,\n",
    "            scatter_kws={\"color\":\"r\", \"alpha\":0.5},\n",
    "            line_kws={\"color\":\"b\", \"alpha\":0.7, \"lw\":4}, \n",
    "            order=1);"
   ]
  },
  {
   "cell_type": "code",
   "execution_count": 14,
   "metadata": {},
   "outputs": [
    {
     "data": {
      "image/png": "[encoded data removed]",
      "text/plain": [
       "<Figure size 432x288 with 1 Axes>"
      ]
     },
     "metadata": {
      "needs_background": "light"
     },
     "output_type": "display_data"
    }
   ],
   "source": [
    "sns.regplot(x=\"horsepower\", y=\"invmpg\", data=auto, \n",
    "            ci = False,\n",
    "            scatter_kws={\"color\":\"r\", \"alpha\":0.5},\n",
    "            line_kws={\"color\":\"b\", \"alpha\":0.7, \"lw\":4}, \n",
    "            order=1);"
   ]
  },
  {
   "cell_type": "markdown",
   "metadata": {},
   "source": [
    "# Polynomial models\n",
    "It appears that a quadratic model makes sense. Let's check if this guess has support from data."
   ]
  },
  {
   "cell_type": "code",
   "execution_count": 15,
   "metadata": {},
   "outputs": [],
   "source": [
    "import statsmodels.formula.api as smf\n",
    "model1 = smf.ols(formula='mpg ~ horsepower', data = auto)"
   ]
  },
  {
   "cell_type": "code",
   "execution_count": 16,
   "metadata": {},
   "outputs": [
    {
     "data": {
      "text/html": [
       "<table class=\"simpletable\">\n",
       "<tr>\n",
       "        <td>Model:</td>               <td>OLS</td>         <td>Adj. R-squared:</td>     <td>0.605</td>  \n",
       "</tr>\n",
       "<tr>\n",
       "  <td>Dependent Variable:</td>        <td>mpg</td>              <td>AIC:</td>         <td>2361.3237</td>\n",
       "</tr>\n",
       "<tr>\n",
       "         <td>Date:</td>        <td>2019-04-01 15:01</td>        <td>BIC:</td>         <td>2369.2662</td>\n",
       "</tr>\n",
       "<tr>\n",
       "   <td>No. Observations:</td>         <td>392</td>         <td>Log-Likelihood:</td>    <td>-1178.7</td> \n",
       "</tr>\n",
       "<tr>\n",
       "       <td>Df Model:</td>              <td>1</td>           <td>F-statistic:</td>       <td>599.7</td>  \n",
       "</tr>\n",
       "<tr>\n",
       "     <td>Df Residuals:</td>           <td>390</td>       <td>Prob (F-statistic):</td> <td>7.03e-81</td> \n",
       "</tr>\n",
       "<tr>\n",
       "      <td>R-squared:</td>            <td>0.606</td>            <td>Scale:</td>         <td>24.066</td>  \n",
       "</tr>\n",
       "</table>\n",
       "<table class=\"simpletable\">\n",
       "<tr>\n",
       "       <td></td>       <th>Coef.</th>  <th>Std.Err.</th>     <th>t</th>     <th>P>|t|</th> <th>[0.025</th>  <th>0.975]</th> \n",
       "</tr>\n",
       "<tr>\n",
       "  <th>Intercept</th>  <td>39.9359</td>  <td>0.7175</td>   <td>55.6598</td> <td>0.0000</td> <td>38.5252</td> <td>41.3465</td>\n",
       "</tr>\n",
       "<tr>\n",
       "  <th>horsepower</th> <td>-0.1578</td>  <td>0.0064</td>  <td>-24.4891</td> <td>0.0000</td> <td>-0.1705</td> <td>-0.1452</td>\n",
       "</tr>\n",
       "</table>\n",
       "<table class=\"simpletable\">\n",
       "<tr>\n",
       "     <td>Omnibus:</td>    <td>16.432</td>  <td>Durbin-Watson:</td>    <td>0.920</td>\n",
       "</tr>\n",
       "<tr>\n",
       "  <td>Prob(Omnibus):</td>  <td>0.000</td> <td>Jarque-Bera (JB):</td> <td>17.305</td>\n",
       "</tr>\n",
       "<tr>\n",
       "       <td>Skew:</td>      <td>0.492</td>     <td>Prob(JB):</td>      <td>0.000</td>\n",
       "</tr>\n",
       "<tr>\n",
       "     <td>Kurtosis:</td>    <td>3.299</td>  <td>Condition No.:</td>     <td>322</td> \n",
       "</tr>\n",
       "</table>"
      ],
      "text/plain": [
       "<class 'statsmodels.iolib.summary2.Summary'>\n",
       "\"\"\"\n",
       "                 Results: Ordinary least squares\n",
       "==================================================================\n",
       "Model:              OLS              Adj. R-squared:     0.605    \n",
       "Dependent Variable: mpg              AIC:                2361.3237\n",
       "Date:               2019-04-01 15:01 BIC:                2369.2662\n",
       "No. Observations:   392              Log-Likelihood:     -1178.7  \n",
       "Df Model:           1                F-statistic:        599.7    \n",
       "Df Residuals:       390              Prob (F-statistic): 7.03e-81 \n",
       "R-squared:          0.606            Scale:              24.066   \n",
       "-------------------------------------------------------------------\n",
       "               Coef.   Std.Err.     t      P>|t|    [0.025   0.975]\n",
       "-------------------------------------------------------------------\n",
       "Intercept     39.9359    0.7175   55.6598  0.0000  38.5252  41.3465\n",
       "horsepower    -0.1578    0.0064  -24.4891  0.0000  -0.1705  -0.1452\n",
       "------------------------------------------------------------------\n",
       "Omnibus:               16.432       Durbin-Watson:          0.920 \n",
       "Prob(Omnibus):         0.000        Jarque-Bera (JB):       17.305\n",
       "Skew:                  0.492        Prob(JB):               0.000 \n",
       "Kurtosis:              3.299        Condition No.:          322   \n",
       "==================================================================\n",
       "\n",
       "\"\"\""
      ]
     },
     "execution_count": 16,
     "metadata": {},
     "output_type": "execute_result"
    }
   ],
   "source": [
    "lr1 = model1.fit()\n",
    "lr1.summary2()"
   ]
  },
  {
   "cell_type": "code",
   "execution_count": 17,
   "metadata": {},
   "outputs": [
    {
     "name": "stdout",
     "output_type": "stream",
     "text": [
      "Parameters:  Intercept     39.935861\n",
      "horsepower    -0.157845\n",
      "dtype: float64\n",
      "R2:  0.6059482578894348\n",
      "AIC:  2361.3236578374017\n"
     ]
    }
   ],
   "source": [
    "print('Parameters: ', lr1.params)\n",
    "print('R2: ', lr1.rsquared)\n",
    "print('AIC: ', lr1.aic)"
   ]
  },
  {
   "cell_type": "code",
   "execution_count": 18,
   "metadata": {},
   "outputs": [
    {
     "data": {
      "text/html": [
       "<table class=\"simpletable\">\n",
       "<tr>\n",
       "        <td>Model:</td>               <td>OLS</td>         <td>Adj. R-squared:</td>     <td>0.686</td>  \n",
       "</tr>\n",
       "<tr>\n",
       "  <td>Dependent Variable:</td>        <td>mpg</td>              <td>AIC:</td>         <td>2272.3535</td>\n",
       "</tr>\n",
       "<tr>\n",
       "         <td>Date:</td>        <td>2019-04-01 15:01</td>        <td>BIC:</td>         <td>2284.2673</td>\n",
       "</tr>\n",
       "<tr>\n",
       "   <td>No. Observations:</td>         <td>392</td>         <td>Log-Likelihood:</td>    <td>-1133.2</td> \n",
       "</tr>\n",
       "<tr>\n",
       "       <td>Df Model:</td>              <td>2</td>           <td>F-statistic:</td>       <td>428.0</td>  \n",
       "</tr>\n",
       "<tr>\n",
       "     <td>Df Residuals:</td>           <td>389</td>       <td>Prob (F-statistic):</td> <td>5.40e-99</td> \n",
       "</tr>\n",
       "<tr>\n",
       "      <td>R-squared:</td>            <td>0.688</td>            <td>Scale:</td>         <td>19.131</td>  \n",
       "</tr>\n",
       "</table>\n",
       "<table class=\"simpletable\">\n",
       "<tr>\n",
       "             <td></td>              <th>Coef.</th>  <th>Std.Err.</th>     <th>t</th>     <th>P>|t|</th> <th>[0.025</th>  <th>0.975]</th> \n",
       "</tr>\n",
       "<tr>\n",
       "  <th>Intercept</th>               <td>56.9001</td>  <td>1.8004</td>   <td>31.6037</td> <td>0.0000</td> <td>53.3603</td> <td>60.4399</td>\n",
       "</tr>\n",
       "<tr>\n",
       "  <th>horsepower</th>              <td>-0.4662</td>  <td>0.0311</td>  <td>-14.9782</td> <td>0.0000</td> <td>-0.5274</td> <td>-0.4050</td>\n",
       "</tr>\n",
       "<tr>\n",
       "  <th>np.power(horsepower, 2)</th> <td>0.0012</td>   <td>0.0001</td>   <td>10.0801</td> <td>0.0000</td> <td>0.0010</td>  <td>0.0015</td> \n",
       "</tr>\n",
       "</table>\n",
       "<table class=\"simpletable\">\n",
       "<tr>\n",
       "     <td>Omnibus:</td>    <td>16.158</td>  <td>Durbin-Watson:</td>    <td>1.078</td>\n",
       "</tr>\n",
       "<tr>\n",
       "  <td>Prob(Omnibus):</td>  <td>0.000</td> <td>Jarque-Bera (JB):</td> <td>30.662</td>\n",
       "</tr>\n",
       "<tr>\n",
       "       <td>Skew:</td>      <td>0.218</td>     <td>Prob(JB):</td>      <td>0.000</td>\n",
       "</tr>\n",
       "<tr>\n",
       "     <td>Kurtosis:</td>    <td>4.299</td>  <td>Condition No.:</td>   <td>128782</td>\n",
       "</tr>\n",
       "</table>"
      ],
      "text/plain": [
       "<class 'statsmodels.iolib.summary2.Summary'>\n",
       "\"\"\"\n",
       "                    Results: Ordinary least squares\n",
       "========================================================================\n",
       "Model:                OLS                Adj. R-squared:       0.686    \n",
       "Dependent Variable:   mpg                AIC:                  2272.3535\n",
       "Date:                 2019-04-01 15:01   BIC:                  2284.2673\n",
       "No. Observations:     392                Log-Likelihood:       -1133.2  \n",
       "Df Model:             2                  F-statistic:          428.0    \n",
       "Df Residuals:         389                Prob (F-statistic):   5.40e-99 \n",
       "R-squared:            0.688              Scale:                19.131   \n",
       "------------------------------------------------------------------------\n",
       "                         Coef.  Std.Err.    t     P>|t|   [0.025  0.975]\n",
       "------------------------------------------------------------------------\n",
       "Intercept               56.9001   1.8004  31.6037 0.0000 53.3603 60.4399\n",
       "horsepower              -0.4662   0.0311 -14.9782 0.0000 -0.5274 -0.4050\n",
       "np.power(horsepower, 2)  0.0012   0.0001  10.0801 0.0000  0.0010  0.0015\n",
       "------------------------------------------------------------------------\n",
       "Omnibus:                 16.158         Durbin-Watson:            1.078 \n",
       "Prob(Omnibus):           0.000          Jarque-Bera (JB):         30.662\n",
       "Skew:                    0.218          Prob(JB):                 0.000 \n",
       "Kurtosis:                4.299          Condition No.:            128782\n",
       "========================================================================\n",
       "* The condition number is large (1e+05). This might indicate\n",
       "strong multicollinearity or other numerical problems.\n",
       "\"\"\""
      ]
     },
     "execution_count": 18,
     "metadata": {},
     "output_type": "execute_result"
    }
   ],
   "source": [
    "model2 = smf.ols(formula='mpg ~ horsepower +\\\n",
    "                np.power(horsepower,2)', data = auto)\n",
    "lr2 = model2.fit()\n",
    "lr2.summary2()"
   ]
  },
  {
   "cell_type": "code",
   "execution_count": 19,
   "metadata": {},
   "outputs": [
    {
     "data": {
      "text/plain": [
       "2272.353522359692"
      ]
     },
     "execution_count": 19,
     "metadata": {},
     "output_type": "execute_result"
    }
   ],
   "source": [
    "lr2.aic"
   ]
  },
  {
   "cell_type": "code",
   "execution_count": 20,
   "metadata": {},
   "outputs": [
    {
     "data": {
      "text/html": [
       "<table class=\"simpletable\">\n",
       "<tr>\n",
       "        <td>Model:</td>               <td>OLS</td>         <td>Adj. R-squared:</td>     <td>0.686</td>  \n",
       "</tr>\n",
       "<tr>\n",
       "  <td>Dependent Variable:</td>        <td>mpg</td>              <td>AIC:</td>         <td>2273.5313</td>\n",
       "</tr>\n",
       "<tr>\n",
       "         <td>Date:</td>        <td>2019-04-01 15:01</td>        <td>BIC:</td>         <td>2289.4163</td>\n",
       "</tr>\n",
       "<tr>\n",
       "   <td>No. Observations:</td>         <td>392</td>         <td>Log-Likelihood:</td>    <td>-1132.8</td> \n",
       "</tr>\n",
       "<tr>\n",
       "       <td>Df Model:</td>              <td>3</td>           <td>F-statistic:</td>       <td>285.5</td>  \n",
       "</tr>\n",
       "<tr>\n",
       "     <td>Df Residuals:</td>           <td>388</td>       <td>Prob (F-statistic):</td> <td>8.41e-98</td> \n",
       "</tr>\n",
       "<tr>\n",
       "      <td>R-squared:</td>            <td>0.688</td>            <td>Scale:</td>         <td>19.140</td>  \n",
       "</tr>\n",
       "</table>\n",
       "<table class=\"simpletable\">\n",
       "<tr>\n",
       "             <td></td>              <th>Coef.</th>  <th>Std.Err.</th>    <th>t</th>     <th>P>|t|</th> <th>[0.025</th>  <th>0.975]</th> \n",
       "</tr>\n",
       "<tr>\n",
       "  <th>Intercept</th>               <td>60.6848</td>  <td>4.5634</td>  <td>13.2980</td> <td>0.0000</td> <td>51.7126</td> <td>69.6570</td>\n",
       "</tr>\n",
       "<tr>\n",
       "  <th>horsepower</th>              <td>-0.5689</td>  <td>0.1179</td>  <td>-4.8239</td> <td>0.0000</td> <td>-0.8007</td> <td>-0.3370</td>\n",
       "</tr>\n",
       "<tr>\n",
       "  <th>np.power(horsepower, 2)</th> <td>0.0021</td>   <td>0.0009</td>  <td>2.1932</td>  <td>0.0289</td> <td>0.0002</td>  <td>0.0039</td> \n",
       "</tr>\n",
       "<tr>\n",
       "  <th>np.power(horsepower, 3)</th> <td>-0.0000</td>  <td>0.0000</td>  <td>-0.9026</td> <td>0.3673</td> <td>-0.0000</td> <td>0.0000</td> \n",
       "</tr>\n",
       "</table>\n",
       "<table class=\"simpletable\">\n",
       "<tr>\n",
       "     <td>Omnibus:</td>    <td>16.987</td>  <td>Durbin-Watson:</td>     <td>1.094</td> \n",
       "</tr>\n",
       "<tr>\n",
       "  <td>Prob(Omnibus):</td>  <td>0.000</td> <td>Jarque-Bera (JB):</td>  <td>34.528</td> \n",
       "</tr>\n",
       "<tr>\n",
       "       <td>Skew:</td>      <td>0.204</td>     <td>Prob(JB):</td>       <td>0.000</td> \n",
       "</tr>\n",
       "<tr>\n",
       "     <td>Kurtosis:</td>    <td>4.395</td>  <td>Condition No.:</td>   <td>55313929</td>\n",
       "</tr>\n",
       "</table>"
      ],
      "text/plain": [
       "<class 'statsmodels.iolib.summary2.Summary'>\n",
       "\"\"\"\n",
       "                    Results: Ordinary least squares\n",
       "=======================================================================\n",
       "Model:                 OLS               Adj. R-squared:      0.686    \n",
       "Dependent Variable:    mpg               AIC:                 2273.5313\n",
       "Date:                  2019-04-01 15:01  BIC:                 2289.4163\n",
       "No. Observations:      392               Log-Likelihood:      -1132.8  \n",
       "Df Model:              3                 F-statistic:         285.5    \n",
       "Df Residuals:          388               Prob (F-statistic):  8.41e-98 \n",
       "R-squared:             0.688             Scale:               19.140   \n",
       "-----------------------------------------------------------------------\n",
       "                         Coef.  Std.Err.    t    P>|t|   [0.025  0.975]\n",
       "-----------------------------------------------------------------------\n",
       "Intercept               60.6848   4.5634 13.2980 0.0000 51.7126 69.6570\n",
       "horsepower              -0.5689   0.1179 -4.8239 0.0000 -0.8007 -0.3370\n",
       "np.power(horsepower, 2)  0.0021   0.0009  2.1932 0.0289  0.0002  0.0039\n",
       "np.power(horsepower, 3) -0.0000   0.0000 -0.9026 0.3673 -0.0000  0.0000\n",
       "-----------------------------------------------------------------------\n",
       "Omnibus:                16.987        Durbin-Watson:           1.094   \n",
       "Prob(Omnibus):          0.000         Jarque-Bera (JB):        34.528  \n",
       "Skew:                   0.204         Prob(JB):                0.000   \n",
       "Kurtosis:               4.395         Condition No.:           55313929\n",
       "=======================================================================\n",
       "* The condition number is large (6e+07). This might indicate\n",
       "strong multicollinearity or other numerical problems.\n",
       "\"\"\""
      ]
     },
     "execution_count": 20,
     "metadata": {},
     "output_type": "execute_result"
    }
   ],
   "source": [
    "model3 = smf.ols(formula='mpg ~ horsepower +\\\n",
    "                np.power(horsepower,2)+ \\\n",
    "                np.power(horsepower,3)', data = auto)\n",
    "lr3 = model3.fit()\n",
    "lr3.summary2()"
   ]
  },
  {
   "cell_type": "code",
   "execution_count": 21,
   "metadata": {},
   "outputs": [
    {
     "data": {
      "text/plain": [
       "2273.5312967115547"
      ]
     },
     "execution_count": 21,
     "metadata": {},
     "output_type": "execute_result"
    }
   ],
   "source": [
    "lr3.aic"
   ]
  },
  {
   "cell_type": "code",
   "execution_count": 22,
   "metadata": {},
   "outputs": [
    {
     "data": {
      "text/html": [
       "<table class=\"simpletable\">\n",
       "<tr>\n",
       "        <td>Model:</td>               <td>OLS</td>         <td>Adj. R-squared:</td>     <td>0.686</td>  \n",
       "</tr>\n",
       "<tr>\n",
       "  <td>Dependent Variable:</td>        <td>mpg</td>              <td>AIC:</td>         <td>2274.1081</td>\n",
       "</tr>\n",
       "<tr>\n",
       "         <td>Date:</td>        <td>2019-04-01 15:01</td>        <td>BIC:</td>         <td>2293.9644</td>\n",
       "</tr>\n",
       "<tr>\n",
       "   <td>No. Observations:</td>         <td>392</td>         <td>Log-Likelihood:</td>    <td>-1132.1</td> \n",
       "</tr>\n",
       "<tr>\n",
       "       <td>Df Model:</td>              <td>4</td>           <td>F-statistic:</td>       <td>214.7</td>  \n",
       "</tr>\n",
       "<tr>\n",
       "     <td>Df Residuals:</td>           <td>387</td>       <td>Prob (F-statistic):</td> <td>7.67e-97</td> \n",
       "</tr>\n",
       "<tr>\n",
       "      <td>R-squared:</td>            <td>0.689</td>            <td>Scale:</td>         <td>19.120</td>  \n",
       "</tr>\n",
       "</table>\n",
       "<table class=\"simpletable\">\n",
       "<tr>\n",
       "             <td></td>              <th>Coef.</th>  <th>Std.Err.</th>    <th>t</th>     <th>P>|t|</th> <th>[0.025</th>  <th>0.975]</th> \n",
       "</tr>\n",
       "<tr>\n",
       "  <th>Intercept</th>               <td>47.5677</td>  <td>11.9599</td> <td>3.9773</td>  <td>0.0001</td> <td>24.0531</td> <td>71.0822</td>\n",
       "</tr>\n",
       "<tr>\n",
       "  <th>horsepower</th>              <td>-0.0767</td>  <td>0.4313</td>  <td>-0.1778</td> <td>0.8590</td> <td>-0.9246</td> <td>0.7712</td> \n",
       "</tr>\n",
       "<tr>\n",
       "  <th>np.power(horsepower, 2)</th> <td>-0.0043</td>  <td>0.0055</td>  <td>-0.7904</td> <td>0.4298</td> <td>-0.0152</td> <td>0.0065</td> \n",
       "</tr>\n",
       "<tr>\n",
       "  <th>np.power(horsepower, 3)</th> <td>0.0000</td>   <td>0.0000</td>  <td>1.1091</td>  <td>0.2681</td> <td>-0.0000</td> <td>0.0001</td> \n",
       "</tr>\n",
       "<tr>\n",
       "  <th>np.power(horsepower, 4)</th> <td>-0.0000</td>  <td>0.0000</td>  <td>-1.1864</td> <td>0.2362</td> <td>-0.0000</td> <td>0.0000</td> \n",
       "</tr>\n",
       "</table>\n",
       "<table class=\"simpletable\">\n",
       "<tr>\n",
       "     <td>Omnibus:</td>    <td>17.221</td>  <td>Durbin-Watson:</td>      <td>1.090</td>   \n",
       "</tr>\n",
       "<tr>\n",
       "  <td>Prob(Omnibus):</td>  <td>0.000</td> <td>Jarque-Bera (JB):</td>   <td>33.332</td>   \n",
       "</tr>\n",
       "<tr>\n",
       "       <td>Skew:</td>      <td>0.232</td>     <td>Prob(JB):</td>        <td>0.000</td>   \n",
       "</tr>\n",
       "<tr>\n",
       "     <td>Kurtosis:</td>    <td>4.351</td>  <td>Condition No.:</td>   <td>27290182317</td>\n",
       "</tr>\n",
       "</table>"
      ],
      "text/plain": [
       "<class 'statsmodels.iolib.summary2.Summary'>\n",
       "\"\"\"\n",
       "                    Results: Ordinary least squares\n",
       "=======================================================================\n",
       "Model:                 OLS               Adj. R-squared:      0.686    \n",
       "Dependent Variable:    mpg               AIC:                 2274.1081\n",
       "Date:                  2019-04-01 15:01  BIC:                 2293.9644\n",
       "No. Observations:      392               Log-Likelihood:      -1132.1  \n",
       "Df Model:              4                 F-statistic:         214.7    \n",
       "Df Residuals:          387               Prob (F-statistic):  7.67e-97 \n",
       "R-squared:             0.689             Scale:               19.120   \n",
       "-----------------------------------------------------------------------\n",
       "                         Coef.  Std.Err.    t    P>|t|   [0.025  0.975]\n",
       "-----------------------------------------------------------------------\n",
       "Intercept               47.5677  11.9599  3.9773 0.0001 24.0531 71.0822\n",
       "horsepower              -0.0767   0.4313 -0.1778 0.8590 -0.9246  0.7712\n",
       "np.power(horsepower, 2) -0.0043   0.0055 -0.7904 0.4298 -0.0152  0.0065\n",
       "np.power(horsepower, 3)  0.0000   0.0000  1.1091 0.2681 -0.0000  0.0001\n",
       "np.power(horsepower, 4) -0.0000   0.0000 -1.1864 0.2362 -0.0000  0.0000\n",
       "-----------------------------------------------------------------------\n",
       "Omnibus:               17.221       Durbin-Watson:          1.090      \n",
       "Prob(Omnibus):         0.000        Jarque-Bera (JB):       33.332     \n",
       "Skew:                  0.232        Prob(JB):               0.000      \n",
       "Kurtosis:              4.351        Condition No.:          27290182317\n",
       "=======================================================================\n",
       "* The condition number is large (3e+10). This might indicate\n",
       "strong multicollinearity or other numerical problems.\n",
       "\"\"\""
      ]
     },
     "execution_count": 22,
     "metadata": {},
     "output_type": "execute_result"
    }
   ],
   "source": [
    "model4 = smf.ols(formula='mpg ~ horsepower +\\\n",
    "                np.power(horsepower,2)+\\\n",
    "                np.power(horsepower,3)+\\\n",
    "                np.power(horsepower,4)', data = auto)\n",
    "lr4 = model4.fit()\n",
    "lr4.summary2()"
   ]
  },
  {
   "cell_type": "code",
   "execution_count": 23,
   "metadata": {},
   "outputs": [
    {
     "data": {
      "text/plain": [
       "2274.108109859446"
      ]
     },
     "execution_count": 23,
     "metadata": {},
     "output_type": "execute_result"
    }
   ],
   "source": [
    "lr4.aic"
   ]
  },
  {
   "cell_type": "code",
   "execution_count": 24,
   "metadata": {},
   "outputs": [
    {
     "data": {
      "image/png": "[encoded data removed]",
      "text/plain": [
       "<Figure size 432x288 with 1 Axes>"
      ]
     },
     "metadata": {
      "needs_background": "light"
     },
     "output_type": "display_data"
    }
   ],
   "source": [
    "# Quickly plot the results \n",
    "plt.plot((1,2,3,4), (lr1.aic, lr2.aic, lr3.aic, lr4.aic));"
   ]
  },
  {
   "cell_type": "code",
   "execution_count": 25,
   "metadata": {},
   "outputs": [
    {
     "data": {
      "image/png": "[encoded data removed]",
      "text/plain": [
       "<Figure size 432x288 with 1 Axes>"
      ]
     },
     "metadata": {
      "needs_background": "light"
     },
     "output_type": "display_data"
    }
   ],
   "source": [
    "# Quickly plot the results \n",
    "plt.plot((1,2,3,4), (lr1.rsquared, lr2.rsquared, lr3.rsquared, lr4.rsquared));"
   ]
  },
  {
   "cell_type": "code",
   "execution_count": 26,
   "metadata": {},
   "outputs": [
    {
     "data": {
      "text/html": [
       "<table class=\"simpletable\">\n",
       "<tr>\n",
       "        <td>Model:</td>               <td>OLS</td>         <td>Adj. R-squared:</td>     <td>0.688</td>  \n",
       "</tr>\n",
       "<tr>\n",
       "  <td>Dependent Variable:</td>      <td>logmpg</td>             <td>AIC:</td>         <td>-188.2902</td>\n",
       "</tr>\n",
       "<tr>\n",
       "         <td>Date:</td>        <td>2019-04-01 15:01</td>        <td>BIC:</td>         <td>-180.3477</td>\n",
       "</tr>\n",
       "<tr>\n",
       "   <td>No. Observations:</td>         <td>392</td>         <td>Log-Likelihood:</td>    <td>96.145</td>  \n",
       "</tr>\n",
       "<tr>\n",
       "       <td>Df Model:</td>              <td>1</td>           <td>F-statistic:</td>       <td>864.7</td>  \n",
       "</tr>\n",
       "<tr>\n",
       "     <td>Df Residuals:</td>           <td>390</td>       <td>Prob (F-statistic):</td> <td>5.39e-101</td>\n",
       "</tr>\n",
       "<tr>\n",
       "      <td>R-squared:</td>            <td>0.689</td>            <td>Scale:</td>        <td>0.036034</td> \n",
       "</tr>\n",
       "</table>\n",
       "<table class=\"simpletable\">\n",
       "<tr>\n",
       "       <td></td>       <th>Coef.</th>  <th>Std.Err.</th>     <th>t</th>     <th>P>|t|</th> <th>[0.025</th>  <th>0.975]</th> \n",
       "</tr>\n",
       "<tr>\n",
       "  <th>Intercept</th>  <td>3.8645</td>   <td>0.0278</td>  <td>139.1937</td> <td>0.0000</td> <td>3.8099</td>  <td>3.9191</td> \n",
       "</tr>\n",
       "<tr>\n",
       "  <th>horsepower</th> <td>-0.0073</td>  <td>0.0002</td>  <td>-29.4050</td> <td>0.0000</td> <td>-0.0078</td> <td>-0.0068</td>\n",
       "</tr>\n",
       "</table>\n",
       "<table class=\"simpletable\">\n",
       "<tr>\n",
       "     <td>Omnibus:</td>    <td>0.660</td>  <td>Durbin-Watson:</td>   <td>0.962</td>\n",
       "</tr>\n",
       "<tr>\n",
       "  <td>Prob(Omnibus):</td> <td>0.719</td> <td>Jarque-Bera (JB):</td> <td>0.454</td>\n",
       "</tr>\n",
       "<tr>\n",
       "       <td>Skew:</td>     <td>0.045</td>     <td>Prob(JB):</td>     <td>0.797</td>\n",
       "</tr>\n",
       "<tr>\n",
       "     <td>Kurtosis:</td>   <td>3.141</td>  <td>Condition No.:</td>    <td>322</td> \n",
       "</tr>\n",
       "</table>"
      ],
      "text/plain": [
       "<class 'statsmodels.iolib.summary2.Summary'>\n",
       "\"\"\"\n",
       "                 Results: Ordinary least squares\n",
       "==================================================================\n",
       "Model:              OLS              Adj. R-squared:     0.688    \n",
       "Dependent Variable: logmpg           AIC:                -188.2902\n",
       "Date:               2019-04-01 15:01 BIC:                -180.3477\n",
       "No. Observations:   392              Log-Likelihood:     96.145   \n",
       "Df Model:           1                F-statistic:        864.7    \n",
       "Df Residuals:       390              Prob (F-statistic): 5.39e-101\n",
       "R-squared:          0.689            Scale:              0.036034 \n",
       "-------------------------------------------------------------------\n",
       "               Coef.   Std.Err.     t      P>|t|    [0.025   0.975]\n",
       "-------------------------------------------------------------------\n",
       "Intercept      3.8645    0.0278  139.1937  0.0000   3.8099   3.9191\n",
       "horsepower    -0.0073    0.0002  -29.4050  0.0000  -0.0078  -0.0068\n",
       "------------------------------------------------------------------\n",
       "Omnibus:               0.660        Durbin-Watson:           0.962\n",
       "Prob(Omnibus):         0.719        Jarque-Bera (JB):        0.454\n",
       "Skew:                  0.045        Prob(JB):                0.797\n",
       "Kurtosis:              3.141        Condition No.:           322  \n",
       "==================================================================\n",
       "\n",
       "\"\"\""
      ]
     },
     "execution_count": 26,
     "metadata": {},
     "output_type": "execute_result"
    }
   ],
   "source": [
    "# If we use the transformed dependent variable, we loose the interpretability\n",
    "\n",
    "model5 = smf.ols(formula='logmpg ~ horsepower', data = auto)\n",
    "lr5 = model5.fit()\n",
    "lr5.summary2()"
   ]
  },
  {
   "cell_type": "code",
   "execution_count": 27,
   "metadata": {},
   "outputs": [
    {
     "data": {
      "text/html": [
       "<table class=\"simpletable\">\n",
       "<tr>\n",
       "        <td>Model:</td>               <td>OLS</td>         <td>Adj. R-squared:</td>     <td>0.731</td>  \n",
       "</tr>\n",
       "<tr>\n",
       "  <td>Dependent Variable:</td>      <td>logmpg</td>             <td>AIC:</td>         <td>-244.9575</td>\n",
       "</tr>\n",
       "<tr>\n",
       "         <td>Date:</td>        <td>2019-04-01 15:01</td>        <td>BIC:</td>         <td>-233.0437</td>\n",
       "</tr>\n",
       "<tr>\n",
       "   <td>No. Observations:</td>         <td>392</td>         <td>Log-Likelihood:</td>    <td>125.48</td>  \n",
       "</tr>\n",
       "<tr>\n",
       "       <td>Df Model:</td>              <td>2</td>           <td>F-statistic:</td>       <td>532.2</td>  \n",
       "</tr>\n",
       "<tr>\n",
       "     <td>Df Residuals:</td>           <td>389</td>       <td>Prob (F-statistic):</td> <td>4.54e-112</td>\n",
       "</tr>\n",
       "<tr>\n",
       "      <td>R-squared:</td>            <td>0.732</td>            <td>Scale:</td>        <td>0.031105</td> \n",
       "</tr>\n",
       "</table>\n",
       "<table class=\"simpletable\">\n",
       "<tr>\n",
       "             <td></td>              <th>Coef.</th>  <th>Std.Err.</th>     <th>t</th>     <th>P>|t|</th> <th>[0.025</th>  <th>0.975]</th> \n",
       "</tr>\n",
       "<tr>\n",
       "  <th>Intercept</th>               <td>4.4022</td>   <td>0.0726</td>   <td>60.6394</td> <td>0.0000</td> <td>4.2595</td>  <td>4.5450</td> \n",
       "</tr>\n",
       "<tr>\n",
       "  <th>horsepower</th>              <td>-0.0171</td>  <td>0.0013</td>  <td>-13.6320</td> <td>0.0000</td> <td>-0.0196</td> <td>-0.0146</td>\n",
       "</tr>\n",
       "<tr>\n",
       "  <th>np.power(horsepower, 2)</th> <td>0.0000</td>   <td>0.0000</td>   <td>7.9247</td>  <td>0.0000</td> <td>0.0000</td>  <td>0.0000</td> \n",
       "</tr>\n",
       "</table>\n",
       "<table class=\"simpletable\">\n",
       "<tr>\n",
       "     <td>Omnibus:</td>     <td>9.051</td>  <td>Durbin-Watson:</td>    <td>1.092</td>\n",
       "</tr>\n",
       "<tr>\n",
       "  <td>Prob(Omnibus):</td>  <td>0.011</td> <td>Jarque-Bera (JB):</td> <td>13.714</td>\n",
       "</tr>\n",
       "<tr>\n",
       "       <td>Skew:</td>     <td>-0.142</td>     <td>Prob(JB):</td>      <td>0.001</td>\n",
       "</tr>\n",
       "<tr>\n",
       "     <td>Kurtosis:</td>    <td>3.871</td>  <td>Condition No.:</td>   <td>128782</td>\n",
       "</tr>\n",
       "</table>"
      ],
      "text/plain": [
       "<class 'statsmodels.iolib.summary2.Summary'>\n",
       "\"\"\"\n",
       "                    Results: Ordinary least squares\n",
       "========================================================================\n",
       "Model:                OLS                Adj. R-squared:       0.731    \n",
       "Dependent Variable:   logmpg             AIC:                  -244.9575\n",
       "Date:                 2019-04-01 15:01   BIC:                  -233.0437\n",
       "No. Observations:     392                Log-Likelihood:       125.48   \n",
       "Df Model:             2                  F-statistic:          532.2    \n",
       "Df Residuals:         389                Prob (F-statistic):   4.54e-112\n",
       "R-squared:            0.732              Scale:                0.031105 \n",
       "------------------------------------------------------------------------\n",
       "                         Coef.  Std.Err.    t     P>|t|   [0.025  0.975]\n",
       "------------------------------------------------------------------------\n",
       "Intercept                4.4022   0.0726  60.6394 0.0000  4.2595  4.5450\n",
       "horsepower              -0.0171   0.0013 -13.6320 0.0000 -0.0196 -0.0146\n",
       "np.power(horsepower, 2)  0.0000   0.0000   7.9247 0.0000  0.0000  0.0000\n",
       "------------------------------------------------------------------------\n",
       "Omnibus:                 9.051          Durbin-Watson:            1.092 \n",
       "Prob(Omnibus):           0.011          Jarque-Bera (JB):         13.714\n",
       "Skew:                    -0.142         Prob(JB):                 0.001 \n",
       "Kurtosis:                3.871          Condition No.:            128782\n",
       "========================================================================\n",
       "* The condition number is large (1e+05). This might indicate\n",
       "strong multicollinearity or other numerical problems.\n",
       "\"\"\""
      ]
     },
     "execution_count": 27,
     "metadata": {},
     "output_type": "execute_result"
    }
   ],
   "source": [
    "model6 = smf.ols(formula='logmpg ~ horsepower + np.power(horsepower, 2)', data = auto)\n",
    "lr6 = model6.fit()\n",
    "lr6.summary2()"
   ]
  },
  {
   "cell_type": "markdown",
   "metadata": {},
   "source": [
    "# Leave-one-out\n",
    "One of the most common validation method is leave-one-out, or $n$-fold cross-validation"
   ]
  },
  {
   "cell_type": "code",
   "execution_count": 28,
   "metadata": {},
   "outputs": [
    {
     "data": {
      "text/plain": [
       "392"
      ]
     },
     "execution_count": 28,
     "metadata": {},
     "output_type": "execute_result"
    }
   ],
   "source": [
    "from sklearn.model_selection import LeaveOneOut\n",
    "from sklearn.linear_model import LinearRegression\n",
    "\n",
    "loo = LeaveOneOut()\n",
    "loo.get_n_splits(auto)"
   ]
  },
  {
   "cell_type": "code",
   "execution_count": 29,
   "metadata": {},
   "outputs": [
    {
     "data": {
      "text/plain": [
       "(392, 12)"
      ]
     },
     "execution_count": 29,
     "metadata": {},
     "output_type": "execute_result"
    }
   ],
   "source": [
    "auto.shape"
   ]
  },
  {
   "cell_type": "code",
   "execution_count": 30,
   "metadata": {},
   "outputs": [],
   "source": [
    "n = auto.shape[0]"
   ]
  },
  {
   "cell_type": "markdown",
   "metadata": {},
   "source": [
    "Make sure you feed `sklearn` algorithms a `numpy` array. In many cases `sklearn` accepts `pandas` dataframes too, but it is highly recommended to feed `numpy` arrays into `sklearn` functions."
   ]
  },
  {
   "cell_type": "code",
   "execution_count": 31,
   "metadata": {},
   "outputs": [
    {
     "data": {
      "text/plain": [
       "<generator object BaseCrossValidator.split at 0x000001D6D1408258>"
      ]
     },
     "execution_count": 31,
     "metadata": {},
     "output_type": "execute_result"
    }
   ],
   "source": [
    "loo.split(auto)"
   ]
  },
  {
   "cell_type": "code",
   "execution_count": 32,
   "metadata": {},
   "outputs": [
    {
     "name": "stdout",
     "output_type": "stream",
     "text": [
      "<class 'pandas.core.frame.DataFrame'>\n",
      "Int64Index: 392 entries, 0 to 396\n",
      "Data columns (total 12 columns):\n",
      "mpg             392 non-null float64\n",
      "cylinders       392 non-null int64\n",
      "displacement    392 non-null float64\n",
      "horsepower      392 non-null float64\n",
      "weight          392 non-null int64\n",
      "acceleration    392 non-null float64\n",
      "year            392 non-null int64\n",
      "origin          392 non-null int64\n",
      "name            392 non-null object\n",
      "logmpg          392 non-null float64\n",
      "sqrtmpg         392 non-null float64\n",
      "invmpg          392 non-null float64\n",
      "dtypes: float64(7), int64(4), object(1)\n",
      "memory usage: 39.8+ KB\n"
     ]
    }
   ],
   "source": [
    "auto.info()"
   ]
  },
  {
   "cell_type": "code",
   "execution_count": 33,
   "metadata": {},
   "outputs": [],
   "source": [
    "X = auto[['horsepower']].values\n",
    "y = auto['mpg'].values\n",
    "\n",
    "rss = np.zeros(auto.shape[0])\n",
    "i = 0\n",
    "for train_i, test_i in loo.split(auto):\n",
    "    lr = LinearRegression() \n",
    "    lr = lr.fit(X[train_i], y[train_i])\n",
    "    rss[i]=(lr.predict(X[test_i]) - y[test_i])**2\n",
    "    i= i + 1"
   ]
  },
  {
   "cell_type": "code",
   "execution_count": 34,
   "metadata": {},
   "outputs": [
    {
     "data": {
      "text/plain": [
       "24.231513517929226"
      ]
     },
     "execution_count": 34,
     "metadata": {},
     "output_type": "execute_result"
    }
   ],
   "source": [
    "# mse is the squared error for each sample in the test set.\n",
    "np.mean(rss)"
   ]
  },
  {
   "cell_type": "code",
   "execution_count": 35,
   "metadata": {},
   "outputs": [],
   "source": [
    "X = auto[['cylinders']].values\n",
    "y = auto['mpg'].values\n",
    "\n",
    "rss = np.zeros(auto.shape[0])\n",
    "i = 0\n",
    "for train_i, test_i in loo.split(auto):\n",
    "    lr = LinearRegression() \n",
    "    lr = lr.fit(X[train_i], y[train_i])\n",
    "    rss[i]=(lr.predict(X[test_i]) - y[test_i])**2\n",
    "    i= i + 1"
   ]
  },
  {
   "cell_type": "code",
   "execution_count": 36,
   "metadata": {},
   "outputs": [
    {
     "data": {
      "text/plain": [
       "24.248812244388922"
      ]
     },
     "execution_count": 36,
     "metadata": {},
     "output_type": "execute_result"
    }
   ],
   "source": [
    "np.mean(rss)"
   ]
  },
  {
   "cell_type": "code",
   "execution_count": 37,
   "metadata": {},
   "outputs": [],
   "source": [
    "X = auto[['horsepower', 'cylinders']].values\n",
    "rss = np.zeros(auto.shape[0])\n",
    "i = 0\n",
    "for train_i, test_i in loo.split(auto):\n",
    "    lr = LinearRegression() \n",
    "    lr = lr.fit(X[train_i], y[train_i])\n",
    "    rss[i]=(lr.predict(X[test_i]) - y[test_i])**2\n",
    "# you may write i = i+1 as follows\n",
    "    i += 1\n"
   ]
  },
  {
   "cell_type": "code",
   "execution_count": 38,
   "metadata": {},
   "outputs": [
    {
     "data": {
      "text/plain": [
       "21.177187288773588"
      ]
     },
     "execution_count": 38,
     "metadata": {},
     "output_type": "execute_result"
    }
   ],
   "source": [
    "np.mean(rss)"
   ]
  },
  {
   "cell_type": "markdown",
   "metadata": {},
   "source": [
    "# K-Fold"
   ]
  },
  {
   "cell_type": "code",
   "execution_count": 39,
   "metadata": {},
   "outputs": [],
   "source": [
    "from sklearn.model_selection import KFold\n",
    "X = auto[['horsepower', 'cylinders']].values\n",
    "k = 5\n",
    "mse = np.zeros(k)\n",
    "kf = KFold(n_splits=k, shuffle=True)\n",
    "i = 0\n",
    "for train_i, test_i in kf.split(auto):\n",
    "    lr = LinearRegression() \n",
    "    lr = lr.fit(X[train_i], y[train_i])\n",
    "    mse[i]=np.mean((lr.predict(X[test_i]) - y[test_i])**2)\n",
    "    i+=1\n"
   ]
  },
  {
   "cell_type": "code",
   "execution_count": 40,
   "metadata": {},
   "outputs": [
    {
     "data": {
      "text/plain": [
       "array([16.95199183, 23.8777239 , 26.60287428, 20.12305945, 18.43572704])"
      ]
     },
     "execution_count": 40,
     "metadata": {},
     "output_type": "execute_result"
    }
   ],
   "source": [
    "mse"
   ]
  },
  {
   "cell_type": "code",
   "execution_count": 41,
   "metadata": {},
   "outputs": [
    {
     "data": {
      "text/plain": [
       "21.19827530117626"
      ]
     },
     "execution_count": 41,
     "metadata": {},
     "output_type": "execute_result"
    }
   ],
   "source": [
    "np.mean(mse)"
   ]
  },
  {
   "cell_type": "code",
   "execution_count": 44,
   "metadata": {},
   "outputs": [
    {
     "data": {
      "text/plain": [
       "1.5900669196201116"
      ]
     },
     "execution_count": 44,
     "metadata": {},
     "output_type": "execute_result"
    }
   ],
   "source": [
    "np.std(mse)/np.sqrt(k)"
   ]
  }
 ],
 "metadata": {
  "anaconda-cloud": {},
  "kernelspec": {
   "display_name": "Python 3",
   "language": "python",
   "name": "python3"
  },
  "language_info": {
   "codemirror_mode": {
    "name": "ipython",
    "version": 3
   },
   "file_extension": ".py",
   "mimetype": "text/x-python",
   "name": "python",
   "nbconvert_exporter": "python",
   "pygments_lexer": "ipython3",
   "version": "3.7.1"
  }
 },
 "nbformat": 4,
 "nbformat_minor": 2
}
